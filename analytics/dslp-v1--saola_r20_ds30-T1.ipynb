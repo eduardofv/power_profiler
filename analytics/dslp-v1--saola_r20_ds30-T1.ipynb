{
 "cells": [
  {
   "cell_type": "markdown",
   "id": "a12a46fd-4b4d-4e99-9c01-6622edff4c35",
   "metadata": {},
   "source": [
    "# DeepSleep \n",
    "## Notas\n",
    "* En Saola hay periodos que no se va a dormir y se une con el siguiente. Probar si es por el tamaño de los periodos\n",
    "\n",
    "## v1\n",
    "\n",
    "- board\n",
    "- r (run duration)\n",
    "- ds (deep sleep duration)\n",
    "- TX (test version)\n",
    "\n",
    "## T\n",
    "\n",
    "- Muestra: 240seg\n",
    "- PowerProfiler freq: 10ms"
   ]
  },
  {
   "cell_type": "code",
   "execution_count": 10,
   "id": "1e079e8c-7ef6-4927-8d64-d58258365d47",
   "metadata": {},
   "outputs": [],
   "source": [
    "board=\"saola\"\n",
    "r = 20\n",
    "ds = 30\n",
    "TX = 1\n",
    "\n",
    "batteries = [0.8, 2, 4, 10] #Ah"
   ]
  },
  {
   "cell_type": "code",
   "execution_count": 11,
   "id": "a7478314",
   "metadata": {},
   "outputs": [
    {
     "name": "stdout",
     "output_type": "stream",
     "text": [
      "../data/dslp--saola_r20_ds30-T1.csv\n"
     ]
    },
    {
     "data": {
      "text/html": [
       "<div>\n",
       "<style scoped>\n",
       "    .dataframe tbody tr th:only-of-type {\n",
       "        vertical-align: middle;\n",
       "    }\n",
       "\n",
       "    .dataframe tbody tr th {\n",
       "        vertical-align: top;\n",
       "    }\n",
       "\n",
       "    .dataframe thead th {\n",
       "        text-align: right;\n",
       "    }\n",
       "</style>\n",
       "<table border=\"1\" class=\"dataframe\">\n",
       "  <thead>\n",
       "    <tr style=\"text-align: right;\">\n",
       "      <th></th>\n",
       "      <th>index</th>\n",
       "      <th>read_at</th>\n",
       "      <th>millis</th>\n",
       "      <th>dt</th>\n",
       "      <th>v</th>\n",
       "      <th>a</th>\n",
       "      <th>w</th>\n",
       "      <th>v_sh</th>\n",
       "    </tr>\n",
       "  </thead>\n",
       "  <tbody>\n",
       "    <tr>\n",
       "      <th>0</th>\n",
       "      <td>0</td>\n",
       "      <td>2025-03-04 17:27:07.682460</td>\n",
       "      <td>468237</td>\n",
       "      <td>2025-03-04 17:27:07</td>\n",
       "      <td>5.064</td>\n",
       "      <td>0.0860</td>\n",
       "      <td>0.43550</td>\n",
       "      <td>0.00860</td>\n",
       "    </tr>\n",
       "    <tr>\n",
       "      <th>1</th>\n",
       "      <td>1</td>\n",
       "      <td>2025-03-04 17:27:07.693145</td>\n",
       "      <td>468248</td>\n",
       "      <td>2025-03-04 17:27:07</td>\n",
       "      <td>5.064</td>\n",
       "      <td>0.0304</td>\n",
       "      <td>0.15395</td>\n",
       "      <td>0.00304</td>\n",
       "    </tr>\n",
       "    <tr>\n",
       "      <th>2</th>\n",
       "      <td>2</td>\n",
       "      <td>2025-03-04 17:27:07.704420</td>\n",
       "      <td>468258</td>\n",
       "      <td>2025-03-04 17:27:07</td>\n",
       "      <td>5.080</td>\n",
       "      <td>0.0300</td>\n",
       "      <td>0.15240</td>\n",
       "      <td>0.00300</td>\n",
       "    </tr>\n",
       "    <tr>\n",
       "      <th>3</th>\n",
       "      <td>3</td>\n",
       "      <td>2025-03-04 17:27:07.715429</td>\n",
       "      <td>468270</td>\n",
       "      <td>2025-03-04 17:27:07</td>\n",
       "      <td>5.080</td>\n",
       "      <td>0.0300</td>\n",
       "      <td>0.15240</td>\n",
       "      <td>0.00300</td>\n",
       "    </tr>\n",
       "    <tr>\n",
       "      <th>4</th>\n",
       "      <td>4</td>\n",
       "      <td>2025-03-04 17:27:07.726385</td>\n",
       "      <td>468280</td>\n",
       "      <td>2025-03-04 17:27:07</td>\n",
       "      <td>5.080</td>\n",
       "      <td>0.0300</td>\n",
       "      <td>0.15240</td>\n",
       "      <td>0.00300</td>\n",
       "    </tr>\n",
       "    <tr>\n",
       "      <th>...</th>\n",
       "      <td>...</td>\n",
       "      <td>...</td>\n",
       "      <td>...</td>\n",
       "      <td>...</td>\n",
       "      <td>...</td>\n",
       "      <td>...</td>\n",
       "      <td>...</td>\n",
       "      <td>...</td>\n",
       "    </tr>\n",
       "    <tr>\n",
       "      <th>20966</th>\n",
       "      <td>20966</td>\n",
       "      <td>2025-03-04 17:31:07.629495</td>\n",
       "      <td>708175</td>\n",
       "      <td>2025-03-04 17:31:07</td>\n",
       "      <td>5.080</td>\n",
       "      <td>0.0304</td>\n",
       "      <td>0.15443</td>\n",
       "      <td>0.00304</td>\n",
       "    </tr>\n",
       "    <tr>\n",
       "      <th>20967</th>\n",
       "      <td>20967</td>\n",
       "      <td>2025-03-04 17:31:07.640033</td>\n",
       "      <td>708185</td>\n",
       "      <td>2025-03-04 17:31:07</td>\n",
       "      <td>5.080</td>\n",
       "      <td>0.0304</td>\n",
       "      <td>0.15443</td>\n",
       "      <td>0.00304</td>\n",
       "    </tr>\n",
       "    <tr>\n",
       "      <th>20968</th>\n",
       "      <td>20968</td>\n",
       "      <td>2025-03-04 17:31:07.650503</td>\n",
       "      <td>708196</td>\n",
       "      <td>2025-03-04 17:31:07</td>\n",
       "      <td>5.080</td>\n",
       "      <td>0.0304</td>\n",
       "      <td>0.15443</td>\n",
       "      <td>0.00304</td>\n",
       "    </tr>\n",
       "    <tr>\n",
       "      <th>20969</th>\n",
       "      <td>20969</td>\n",
       "      <td>2025-03-04 17:31:07.662434</td>\n",
       "      <td>708208</td>\n",
       "      <td>2025-03-04 17:31:07</td>\n",
       "      <td>5.080</td>\n",
       "      <td>0.0304</td>\n",
       "      <td>0.15443</td>\n",
       "      <td>0.00304</td>\n",
       "    </tr>\n",
       "    <tr>\n",
       "      <th>20970</th>\n",
       "      <td>20970</td>\n",
       "      <td>2025-03-04 17:31:07.673433</td>\n",
       "      <td>708219</td>\n",
       "      <td>2025-03-04 17:31:07</td>\n",
       "      <td>5.080</td>\n",
       "      <td>0.0308</td>\n",
       "      <td>0.15646</td>\n",
       "      <td>0.00308</td>\n",
       "    </tr>\n",
       "  </tbody>\n",
       "</table>\n",
       "<p>20971 rows × 8 columns</p>\n",
       "</div>"
      ],
      "text/plain": [
       "       index                    read_at  millis                  dt      v  \\\n",
       "0          0 2025-03-04 17:27:07.682460  468237 2025-03-04 17:27:07  5.064   \n",
       "1          1 2025-03-04 17:27:07.693145  468248 2025-03-04 17:27:07  5.064   \n",
       "2          2 2025-03-04 17:27:07.704420  468258 2025-03-04 17:27:07  5.080   \n",
       "3          3 2025-03-04 17:27:07.715429  468270 2025-03-04 17:27:07  5.080   \n",
       "4          4 2025-03-04 17:27:07.726385  468280 2025-03-04 17:27:07  5.080   \n",
       "...      ...                        ...     ...                 ...    ...   \n",
       "20966  20966 2025-03-04 17:31:07.629495  708175 2025-03-04 17:31:07  5.080   \n",
       "20967  20967 2025-03-04 17:31:07.640033  708185 2025-03-04 17:31:07  5.080   \n",
       "20968  20968 2025-03-04 17:31:07.650503  708196 2025-03-04 17:31:07  5.080   \n",
       "20969  20969 2025-03-04 17:31:07.662434  708208 2025-03-04 17:31:07  5.080   \n",
       "20970  20970 2025-03-04 17:31:07.673433  708219 2025-03-04 17:31:07  5.080   \n",
       "\n",
       "            a        w     v_sh  \n",
       "0      0.0860  0.43550  0.00860  \n",
       "1      0.0304  0.15395  0.00304  \n",
       "2      0.0300  0.15240  0.00300  \n",
       "3      0.0300  0.15240  0.00300  \n",
       "4      0.0300  0.15240  0.00300  \n",
       "...       ...      ...      ...  \n",
       "20966  0.0304  0.15443  0.00304  \n",
       "20967  0.0304  0.15443  0.00304  \n",
       "20968  0.0304  0.15443  0.00304  \n",
       "20969  0.0304  0.15443  0.00304  \n",
       "20970  0.0308  0.15646  0.00308  \n",
       "\n",
       "[20971 rows x 8 columns]"
      ]
     },
     "execution_count": 11,
     "metadata": {},
     "output_type": "execute_result"
    }
   ],
   "source": [
    "import pandas as pd\n",
    "import matplotlib.pyplot as plt\n",
    "\n",
    "filename = f\"../data/dslp--{board}_r{r}_ds{ds}-T{TX}.csv\"\n",
    "print(filename)\n",
    "\n",
    "df = pd.read_csv(filename, parse_dates=[\"read_at\", \"timestamp\"])\n",
    "\n",
    "df.columns = ['index','read_at', 'millis', \"dt\", \"v\", \"a\", \"w\", \"v_sh\"]\n",
    "df"
   ]
  },
  {
   "cell_type": "code",
   "execution_count": 12,
   "id": "98b6ec92",
   "metadata": {},
   "outputs": [
    {
     "data": {
      "text/html": [
       "<div>\n",
       "<style scoped>\n",
       "    .dataframe tbody tr th:only-of-type {\n",
       "        vertical-align: middle;\n",
       "    }\n",
       "\n",
       "    .dataframe tbody tr th {\n",
       "        vertical-align: top;\n",
       "    }\n",
       "\n",
       "    .dataframe thead th {\n",
       "        text-align: right;\n",
       "    }\n",
       "</style>\n",
       "<table border=\"1\" class=\"dataframe\">\n",
       "  <thead>\n",
       "    <tr style=\"text-align: right;\">\n",
       "      <th></th>\n",
       "      <th>index</th>\n",
       "      <th>read_at</th>\n",
       "      <th>millis</th>\n",
       "      <th>dt</th>\n",
       "      <th>v</th>\n",
       "      <th>a</th>\n",
       "      <th>w</th>\n",
       "      <th>v_sh</th>\n",
       "    </tr>\n",
       "  </thead>\n",
       "  <tbody>\n",
       "    <tr>\n",
       "      <th>0</th>\n",
       "      <td>0</td>\n",
       "      <td>2025-03-04 17:27:07.682460</td>\n",
       "      <td>468237</td>\n",
       "      <td>2025-03-04 17:27:07</td>\n",
       "      <td>5.064</td>\n",
       "      <td>0.0860</td>\n",
       "      <td>0.43550</td>\n",
       "      <td>0.00860</td>\n",
       "    </tr>\n",
       "    <tr>\n",
       "      <th>1</th>\n",
       "      <td>1</td>\n",
       "      <td>2025-03-04 17:27:07.693145</td>\n",
       "      <td>468248</td>\n",
       "      <td>2025-03-04 17:27:07</td>\n",
       "      <td>5.064</td>\n",
       "      <td>0.0304</td>\n",
       "      <td>0.15395</td>\n",
       "      <td>0.00304</td>\n",
       "    </tr>\n",
       "    <tr>\n",
       "      <th>2</th>\n",
       "      <td>2</td>\n",
       "      <td>2025-03-04 17:27:07.704420</td>\n",
       "      <td>468258</td>\n",
       "      <td>2025-03-04 17:27:07</td>\n",
       "      <td>5.080</td>\n",
       "      <td>0.0300</td>\n",
       "      <td>0.15240</td>\n",
       "      <td>0.00300</td>\n",
       "    </tr>\n",
       "    <tr>\n",
       "      <th>3</th>\n",
       "      <td>3</td>\n",
       "      <td>2025-03-04 17:27:07.715429</td>\n",
       "      <td>468270</td>\n",
       "      <td>2025-03-04 17:27:07</td>\n",
       "      <td>5.080</td>\n",
       "      <td>0.0300</td>\n",
       "      <td>0.15240</td>\n",
       "      <td>0.00300</td>\n",
       "    </tr>\n",
       "    <tr>\n",
       "      <th>4</th>\n",
       "      <td>4</td>\n",
       "      <td>2025-03-04 17:27:07.726385</td>\n",
       "      <td>468280</td>\n",
       "      <td>2025-03-04 17:27:07</td>\n",
       "      <td>5.080</td>\n",
       "      <td>0.0300</td>\n",
       "      <td>0.15240</td>\n",
       "      <td>0.00300</td>\n",
       "    </tr>\n",
       "    <tr>\n",
       "      <th>...</th>\n",
       "      <td>...</td>\n",
       "      <td>...</td>\n",
       "      <td>...</td>\n",
       "      <td>...</td>\n",
       "      <td>...</td>\n",
       "      <td>...</td>\n",
       "      <td>...</td>\n",
       "      <td>...</td>\n",
       "    </tr>\n",
       "    <tr>\n",
       "      <th>20966</th>\n",
       "      <td>20966</td>\n",
       "      <td>2025-03-04 17:31:07.629495</td>\n",
       "      <td>708175</td>\n",
       "      <td>2025-03-04 17:31:07</td>\n",
       "      <td>5.080</td>\n",
       "      <td>0.0304</td>\n",
       "      <td>0.15443</td>\n",
       "      <td>0.00304</td>\n",
       "    </tr>\n",
       "    <tr>\n",
       "      <th>20967</th>\n",
       "      <td>20967</td>\n",
       "      <td>2025-03-04 17:31:07.640033</td>\n",
       "      <td>708185</td>\n",
       "      <td>2025-03-04 17:31:07</td>\n",
       "      <td>5.080</td>\n",
       "      <td>0.0304</td>\n",
       "      <td>0.15443</td>\n",
       "      <td>0.00304</td>\n",
       "    </tr>\n",
       "    <tr>\n",
       "      <th>20968</th>\n",
       "      <td>20968</td>\n",
       "      <td>2025-03-04 17:31:07.650503</td>\n",
       "      <td>708196</td>\n",
       "      <td>2025-03-04 17:31:07</td>\n",
       "      <td>5.080</td>\n",
       "      <td>0.0304</td>\n",
       "      <td>0.15443</td>\n",
       "      <td>0.00304</td>\n",
       "    </tr>\n",
       "    <tr>\n",
       "      <th>20969</th>\n",
       "      <td>20969</td>\n",
       "      <td>2025-03-04 17:31:07.662434</td>\n",
       "      <td>708208</td>\n",
       "      <td>2025-03-04 17:31:07</td>\n",
       "      <td>5.080</td>\n",
       "      <td>0.0304</td>\n",
       "      <td>0.15443</td>\n",
       "      <td>0.00304</td>\n",
       "    </tr>\n",
       "    <tr>\n",
       "      <th>20970</th>\n",
       "      <td>20970</td>\n",
       "      <td>2025-03-04 17:31:07.673433</td>\n",
       "      <td>708219</td>\n",
       "      <td>2025-03-04 17:31:07</td>\n",
       "      <td>5.080</td>\n",
       "      <td>0.0308</td>\n",
       "      <td>0.15646</td>\n",
       "      <td>0.00308</td>\n",
       "    </tr>\n",
       "  </tbody>\n",
       "</table>\n",
       "<p>20971 rows × 8 columns</p>\n",
       "</div>"
      ],
      "text/plain": [
       "       index                    read_at  millis                  dt      v  \\\n",
       "0          0 2025-03-04 17:27:07.682460  468237 2025-03-04 17:27:07  5.064   \n",
       "1          1 2025-03-04 17:27:07.693145  468248 2025-03-04 17:27:07  5.064   \n",
       "2          2 2025-03-04 17:27:07.704420  468258 2025-03-04 17:27:07  5.080   \n",
       "3          3 2025-03-04 17:27:07.715429  468270 2025-03-04 17:27:07  5.080   \n",
       "4          4 2025-03-04 17:27:07.726385  468280 2025-03-04 17:27:07  5.080   \n",
       "...      ...                        ...     ...                 ...    ...   \n",
       "20966  20966 2025-03-04 17:31:07.629495  708175 2025-03-04 17:31:07  5.080   \n",
       "20967  20967 2025-03-04 17:31:07.640033  708185 2025-03-04 17:31:07  5.080   \n",
       "20968  20968 2025-03-04 17:31:07.650503  708196 2025-03-04 17:31:07  5.080   \n",
       "20969  20969 2025-03-04 17:31:07.662434  708208 2025-03-04 17:31:07  5.080   \n",
       "20970  20970 2025-03-04 17:31:07.673433  708219 2025-03-04 17:31:07  5.080   \n",
       "\n",
       "            a        w     v_sh  \n",
       "0      0.0860  0.43550  0.00860  \n",
       "1      0.0304  0.15395  0.00304  \n",
       "2      0.0300  0.15240  0.00300  \n",
       "3      0.0300  0.15240  0.00300  \n",
       "4      0.0300  0.15240  0.00300  \n",
       "...       ...      ...      ...  \n",
       "20966  0.0304  0.15443  0.00304  \n",
       "20967  0.0304  0.15443  0.00304  \n",
       "20968  0.0304  0.15443  0.00304  \n",
       "20969  0.0304  0.15443  0.00304  \n",
       "20970  0.0308  0.15646  0.00308  \n",
       "\n",
       "[20971 rows x 8 columns]"
      ]
     },
     "execution_count": 12,
     "metadata": {},
     "output_type": "execute_result"
    }
   ],
   "source": [
    "#remove the trailing data before reset\n",
    "d = df#[df.millis.idxmin():]\n",
    "d"
   ]
  },
  {
   "cell_type": "code",
   "execution_count": 13,
   "id": "2517c444",
   "metadata": {},
   "outputs": [
    {
     "data": {
      "text/plain": [
       "Text(0.5, 1.0, 'Current')"
      ]
     },
     "execution_count": 13,
     "metadata": {},
     "output_type": "execute_result"
    },
    {
     "data": {
      "image/png": "[encoded data removed]",
      "text/plain": [
       "<Figure size 640x480 with 1 Axes>"
      ]
     },
     "metadata": {},
     "output_type": "display_data"
    }
   ],
   "source": [
    "plt.plot(d.read_at, d.a)\n",
    "plt.title(\"Current\")"
   ]
  },
  {
   "cell_type": "code",
   "execution_count": 14,
   "id": "1c889899",
   "metadata": {},
   "outputs": [
    {
     "data": {
      "text/plain": [
       "Text(0.5, 1.0, 'Voltage')"
      ]
     },
     "execution_count": 14,
     "metadata": {},
     "output_type": "execute_result"
    },
    {
     "data": {
      "image/png": "[encoded data removed]",
      "text/plain": [
       "<Figure size 640x480 with 1 Axes>"
      ]
     },
     "metadata": {},
     "output_type": "display_data"
    }
   ],
   "source": [
    "plt.plot(d.read_at, d.v)\n",
    "plt.title(\"Voltage\")"
   ]
  },
  {
   "cell_type": "code",
   "execution_count": 15,
   "id": "6c3eec1e",
   "metadata": {},
   "outputs": [
    {
     "data": {
      "text/plain": [
       "np.float64(7.314409226)"
      ]
     },
     "execution_count": 15,
     "metadata": {},
     "output_type": "execute_result"
    }
   ],
   "source": [
    "from scipy import integrate\n",
    "\n",
    "time_data = (d.read_at - d.read_at.iloc[0]).dt.total_seconds()\n",
    "current_data = d.a.to_numpy()\n",
    "total_current = integrate.trapezoid(current_data, time_data)\n",
    "total_current #A in timespan"
   ]
  },
  {
   "cell_type": "code",
   "execution_count": 16,
   "id": "336bdbc4",
   "metadata": {},
   "outputs": [
    {
     "data": {
      "text/plain": [
       "239.990973"
      ]
     },
     "execution_count": 16,
     "metadata": {},
     "output_type": "execute_result"
    }
   ],
   "source": [
    "time_span = max(time_data)\n",
    "time_span #seg"
   ]
  },
  {
   "cell_type": "code",
   "execution_count": 17,
   "id": "e4cc029d",
   "metadata": {},
   "outputs": [
    {
     "data": {
      "text/plain": [
       "np.float64(0.030477851456521245)"
      ]
     },
     "execution_count": 17,
     "metadata": {},
     "output_type": "execute_result"
    }
   ],
   "source": [
    "avg_current = total_current / time_span\n",
    "avg_current #A"
   ]
  },
  {
   "cell_type": "markdown",
   "id": "70598578-fa7b-43a4-a35e-eabe13ca8fb1",
   "metadata": {},
   "source": [
    "## Expected runtime using batteries"
   ]
  },
  {
   "cell_type": "code",
   "execution_count": 18,
   "id": "6d075128",
   "metadata": {},
   "outputs": [
    {
     "name": "stdout",
     "output_type": "stream",
     "text": [
      "At 0.80Ah:\t26.2 hours,\t1.09 days\n",
      "At 2.00Ah:\t65.6 hours,\t2.73 days\n",
      "At 4.00Ah:\t131.2 hours,\t5.47 days\n",
      "At 10.00Ah:\t328.1 hours,\t13.67 days\n"
     ]
    }
   ],
   "source": [
    "for bat_usable_cap in batteries: #Amp hour\n",
    "    runtime = bat_usable_cap / avg_current\n",
    "    print(f\"At {bat_usable_cap:.02f}Ah:\\t{runtime:.01f} hours,\\t{runtime/24:.02f} days\")"
   ]
  }
 ],
 "metadata": {
  "kernelspec": {
   "display_name": "Python 3 (ipykernel)",
   "language": "python",
   "name": "python3"
  },
  "language_info": {
   "codemirror_mode": {
    "name": "ipython",
    "version": 3
   },
   "file_extension": ".py",
   "mimetype": "text/x-python",
   "name": "python",
   "nbconvert_exporter": "python",
   "pygments_lexer": "ipython3",
   "version": "3.10.16"
  }
 },
 "nbformat": 4,
 "nbformat_minor": 5
}
