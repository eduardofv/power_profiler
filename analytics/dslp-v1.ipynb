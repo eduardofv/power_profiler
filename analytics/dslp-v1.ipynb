{
 "cells": [
  {
   "cell_type": "markdown",
   "id": "a12a46fd-4b4d-4e99-9c01-6622edff4c35",
   "metadata": {},
   "source": [
    "# DeepSleep \n",
    "## Notas\n",
    "\n",
    "## v1\n",
    "\n",
    "- board\n",
    "- r (run duration)\n",
    "- ds (deep sleep duration)\n",
    "- TX (test version)\n",
    "\n",
    "## T\n",
    "\n",
    "- Muestra: 240seg\n",
    "- PowerProfiler freq: 10ms"
   ]
  },
  {
   "cell_type": "code",
   "execution_count": 1,
   "id": "1e079e8c-7ef6-4927-8d64-d58258365d47",
   "metadata": {},
   "outputs": [],
   "source": [
    "board=\"wemosc3mini\"\n",
    "r = 10\n",
    "ds = 30\n",
    "TX = 1\n",
    "\n",
    "batteries = [0.8, 2, 4, 10] #Ah"
   ]
  },
  {
   "cell_type": "code",
   "execution_count": 2,
   "id": "4758d490-4193-462e-865b-6f1be57bf3ab",
   "metadata": {},
   "outputs": [
    {
     "name": "stdout",
     "output_type": "stream",
     "text": [
      "--wemosc3mini_r10_ds30-T1\n"
     ]
    }
   ],
   "source": [
    "import pandas as pd\n",
    "import matplotlib.pyplot as plt\n",
    "\n",
    "experiment_name = f\"--{board}_r{r}_ds{ds}-T{TX}\"\n",
    "filename = f\"../data/dslp{experiment_name}.csv\"\n",
    "print(experiment_name)"
   ]
  },
  {
   "cell_type": "code",
   "execution_count": 3,
   "id": "ea1647dc-8fca-4c37-b50a-b0a2353d6420",
   "metadata": {},
   "outputs": [
    {
     "data": {
      "text/html": [
       "<div>\n",
       "<style scoped>\n",
       "    .dataframe tbody tr th:only-of-type {\n",
       "        vertical-align: middle;\n",
       "    }\n",
       "\n",
       "    .dataframe tbody tr th {\n",
       "        vertical-align: top;\n",
       "    }\n",
       "\n",
       "    .dataframe thead th {\n",
       "        text-align: right;\n",
       "    }\n",
       "</style>\n",
       "<table border=\"1\" class=\"dataframe\">\n",
       "  <thead>\n",
       "    <tr style=\"text-align: right;\">\n",
       "      <th></th>\n",
       "      <th>index</th>\n",
       "      <th>read_at</th>\n",
       "      <th>millis</th>\n",
       "      <th>dt</th>\n",
       "      <th>v</th>\n",
       "      <th>a</th>\n",
       "      <th>w</th>\n",
       "      <th>v_sh</th>\n",
       "    </tr>\n",
       "  </thead>\n",
       "  <tbody>\n",
       "    <tr>\n",
       "      <th>0</th>\n",
       "      <td>0</td>\n",
       "      <td>2025-03-05 19:00:35.175610</td>\n",
       "      <td>195</td>\n",
       "      <td>1970-01-01 00:00:00</td>\n",
       "      <td>5.064</td>\n",
       "      <td>0.0292</td>\n",
       "      <td>0.14787</td>\n",
       "      <td>0.00292</td>\n",
       "    </tr>\n",
       "    <tr>\n",
       "      <th>1</th>\n",
       "      <td>1</td>\n",
       "      <td>2025-03-05 19:00:35.183562</td>\n",
       "      <td>204</td>\n",
       "      <td>1970-01-01 00:00:00</td>\n",
       "      <td>5.064</td>\n",
       "      <td>0.0756</td>\n",
       "      <td>0.38284</td>\n",
       "      <td>0.00756</td>\n",
       "    </tr>\n",
       "    <tr>\n",
       "      <th>2</th>\n",
       "      <td>2</td>\n",
       "      <td>2025-03-05 19:00:35.191579</td>\n",
       "      <td>211</td>\n",
       "      <td>1970-01-01 00:00:00</td>\n",
       "      <td>5.064</td>\n",
       "      <td>0.0756</td>\n",
       "      <td>0.38284</td>\n",
       "      <td>0.00756</td>\n",
       "    </tr>\n",
       "    <tr>\n",
       "      <th>3</th>\n",
       "      <td>3</td>\n",
       "      <td>2025-03-05 19:00:35.200570</td>\n",
       "      <td>221</td>\n",
       "      <td>1970-01-01 00:00:00</td>\n",
       "      <td>5.064</td>\n",
       "      <td>0.0740</td>\n",
       "      <td>0.37474</td>\n",
       "      <td>0.00740</td>\n",
       "    </tr>\n",
       "    <tr>\n",
       "      <th>4</th>\n",
       "      <td>4</td>\n",
       "      <td>2025-03-05 19:00:35.211431</td>\n",
       "      <td>231</td>\n",
       "      <td>1970-01-01 00:00:00</td>\n",
       "      <td>5.064</td>\n",
       "      <td>0.0296</td>\n",
       "      <td>0.14989</td>\n",
       "      <td>0.00296</td>\n",
       "    </tr>\n",
       "    <tr>\n",
       "      <th>...</th>\n",
       "      <td>...</td>\n",
       "      <td>...</td>\n",
       "      <td>...</td>\n",
       "      <td>...</td>\n",
       "      <td>...</td>\n",
       "      <td>...</td>\n",
       "      <td>...</td>\n",
       "      <td>...</td>\n",
       "    </tr>\n",
       "    <tr>\n",
       "      <th>20971</th>\n",
       "      <td>20971</td>\n",
       "      <td>2025-03-05 19:04:34.935291</td>\n",
       "      <td>239946</td>\n",
       "      <td>2025-03-05 19:04:34</td>\n",
       "      <td>5.104</td>\n",
       "      <td>0.0012</td>\n",
       "      <td>0.00612</td>\n",
       "      <td>0.00012</td>\n",
       "    </tr>\n",
       "    <tr>\n",
       "      <th>20972</th>\n",
       "      <td>20972</td>\n",
       "      <td>2025-03-05 19:04:34.947423</td>\n",
       "      <td>239958</td>\n",
       "      <td>2025-03-05 19:04:34</td>\n",
       "      <td>5.104</td>\n",
       "      <td>0.0012</td>\n",
       "      <td>0.00612</td>\n",
       "      <td>0.00012</td>\n",
       "    </tr>\n",
       "    <tr>\n",
       "      <th>20973</th>\n",
       "      <td>20973</td>\n",
       "      <td>2025-03-05 19:04:34.957331</td>\n",
       "      <td>239968</td>\n",
       "      <td>2025-03-05 19:04:34</td>\n",
       "      <td>5.104</td>\n",
       "      <td>0.0012</td>\n",
       "      <td>0.00612</td>\n",
       "      <td>0.00012</td>\n",
       "    </tr>\n",
       "    <tr>\n",
       "      <th>20974</th>\n",
       "      <td>20974</td>\n",
       "      <td>2025-03-05 19:04:34.969148</td>\n",
       "      <td>239980</td>\n",
       "      <td>2025-03-05 19:04:34</td>\n",
       "      <td>5.104</td>\n",
       "      <td>0.0012</td>\n",
       "      <td>0.00612</td>\n",
       "      <td>0.00012</td>\n",
       "    </tr>\n",
       "    <tr>\n",
       "      <th>20975</th>\n",
       "      <td>20975</td>\n",
       "      <td>2025-03-05 19:04:34.979263</td>\n",
       "      <td>239990</td>\n",
       "      <td>2025-03-05 19:04:34</td>\n",
       "      <td>5.104</td>\n",
       "      <td>0.0012</td>\n",
       "      <td>0.00612</td>\n",
       "      <td>0.00012</td>\n",
       "    </tr>\n",
       "  </tbody>\n",
       "</table>\n",
       "<p>20976 rows × 8 columns</p>\n",
       "</div>"
      ],
      "text/plain": [
       "       index                    read_at  millis                  dt      v  \\\n",
       "0          0 2025-03-05 19:00:35.175610     195 1970-01-01 00:00:00  5.064   \n",
       "1          1 2025-03-05 19:00:35.183562     204 1970-01-01 00:00:00  5.064   \n",
       "2          2 2025-03-05 19:00:35.191579     211 1970-01-01 00:00:00  5.064   \n",
       "3          3 2025-03-05 19:00:35.200570     221 1970-01-01 00:00:00  5.064   \n",
       "4          4 2025-03-05 19:00:35.211431     231 1970-01-01 00:00:00  5.064   \n",
       "...      ...                        ...     ...                 ...    ...   \n",
       "20971  20971 2025-03-05 19:04:34.935291  239946 2025-03-05 19:04:34  5.104   \n",
       "20972  20972 2025-03-05 19:04:34.947423  239958 2025-03-05 19:04:34  5.104   \n",
       "20973  20973 2025-03-05 19:04:34.957331  239968 2025-03-05 19:04:34  5.104   \n",
       "20974  20974 2025-03-05 19:04:34.969148  239980 2025-03-05 19:04:34  5.104   \n",
       "20975  20975 2025-03-05 19:04:34.979263  239990 2025-03-05 19:04:34  5.104   \n",
       "\n",
       "            a        w     v_sh  \n",
       "0      0.0292  0.14787  0.00292  \n",
       "1      0.0756  0.38284  0.00756  \n",
       "2      0.0756  0.38284  0.00756  \n",
       "3      0.0740  0.37474  0.00740  \n",
       "4      0.0296  0.14989  0.00296  \n",
       "...       ...      ...      ...  \n",
       "20971  0.0012  0.00612  0.00012  \n",
       "20972  0.0012  0.00612  0.00012  \n",
       "20973  0.0012  0.00612  0.00012  \n",
       "20974  0.0012  0.00612  0.00012  \n",
       "20975  0.0012  0.00612  0.00012  \n",
       "\n",
       "[20976 rows x 8 columns]"
      ]
     },
     "execution_count": 3,
     "metadata": {},
     "output_type": "execute_result"
    }
   ],
   "source": [
    "df = pd.read_csv(filename, parse_dates=[\"read_at\", \"timestamp\"])\n",
    "\n",
    "df.columns = ['index','read_at', 'millis', \"dt\", \"v\", \"a\", \"w\", \"v_sh\"]\n",
    "df"
   ]
  },
  {
   "cell_type": "code",
   "execution_count": 4,
   "id": "98b6ec92",
   "metadata": {},
   "outputs": [
    {
     "data": {
      "text/html": [
       "<div>\n",
       "<style scoped>\n",
       "    .dataframe tbody tr th:only-of-type {\n",
       "        vertical-align: middle;\n",
       "    }\n",
       "\n",
       "    .dataframe tbody tr th {\n",
       "        vertical-align: top;\n",
       "    }\n",
       "\n",
       "    .dataframe thead th {\n",
       "        text-align: right;\n",
       "    }\n",
       "</style>\n",
       "<table border=\"1\" class=\"dataframe\">\n",
       "  <thead>\n",
       "    <tr style=\"text-align: right;\">\n",
       "      <th></th>\n",
       "      <th>index</th>\n",
       "      <th>read_at</th>\n",
       "      <th>millis</th>\n",
       "      <th>dt</th>\n",
       "      <th>v</th>\n",
       "      <th>a</th>\n",
       "      <th>w</th>\n",
       "      <th>v_sh</th>\n",
       "    </tr>\n",
       "  </thead>\n",
       "  <tbody>\n",
       "    <tr>\n",
       "      <th>0</th>\n",
       "      <td>0</td>\n",
       "      <td>2025-03-05 19:00:35.175610</td>\n",
       "      <td>195</td>\n",
       "      <td>1970-01-01 00:00:00</td>\n",
       "      <td>5.064</td>\n",
       "      <td>0.0292</td>\n",
       "      <td>0.14787</td>\n",
       "      <td>0.00292</td>\n",
       "    </tr>\n",
       "    <tr>\n",
       "      <th>1</th>\n",
       "      <td>1</td>\n",
       "      <td>2025-03-05 19:00:35.183562</td>\n",
       "      <td>204</td>\n",
       "      <td>1970-01-01 00:00:00</td>\n",
       "      <td>5.064</td>\n",
       "      <td>0.0756</td>\n",
       "      <td>0.38284</td>\n",
       "      <td>0.00756</td>\n",
       "    </tr>\n",
       "    <tr>\n",
       "      <th>2</th>\n",
       "      <td>2</td>\n",
       "      <td>2025-03-05 19:00:35.191579</td>\n",
       "      <td>211</td>\n",
       "      <td>1970-01-01 00:00:00</td>\n",
       "      <td>5.064</td>\n",
       "      <td>0.0756</td>\n",
       "      <td>0.38284</td>\n",
       "      <td>0.00756</td>\n",
       "    </tr>\n",
       "    <tr>\n",
       "      <th>3</th>\n",
       "      <td>3</td>\n",
       "      <td>2025-03-05 19:00:35.200570</td>\n",
       "      <td>221</td>\n",
       "      <td>1970-01-01 00:00:00</td>\n",
       "      <td>5.064</td>\n",
       "      <td>0.0740</td>\n",
       "      <td>0.37474</td>\n",
       "      <td>0.00740</td>\n",
       "    </tr>\n",
       "    <tr>\n",
       "      <th>4</th>\n",
       "      <td>4</td>\n",
       "      <td>2025-03-05 19:00:35.211431</td>\n",
       "      <td>231</td>\n",
       "      <td>1970-01-01 00:00:00</td>\n",
       "      <td>5.064</td>\n",
       "      <td>0.0296</td>\n",
       "      <td>0.14989</td>\n",
       "      <td>0.00296</td>\n",
       "    </tr>\n",
       "    <tr>\n",
       "      <th>...</th>\n",
       "      <td>...</td>\n",
       "      <td>...</td>\n",
       "      <td>...</td>\n",
       "      <td>...</td>\n",
       "      <td>...</td>\n",
       "      <td>...</td>\n",
       "      <td>...</td>\n",
       "      <td>...</td>\n",
       "    </tr>\n",
       "    <tr>\n",
       "      <th>20971</th>\n",
       "      <td>20971</td>\n",
       "      <td>2025-03-05 19:04:34.935291</td>\n",
       "      <td>239946</td>\n",
       "      <td>2025-03-05 19:04:34</td>\n",
       "      <td>5.104</td>\n",
       "      <td>0.0012</td>\n",
       "      <td>0.00612</td>\n",
       "      <td>0.00012</td>\n",
       "    </tr>\n",
       "    <tr>\n",
       "      <th>20972</th>\n",
       "      <td>20972</td>\n",
       "      <td>2025-03-05 19:04:34.947423</td>\n",
       "      <td>239958</td>\n",
       "      <td>2025-03-05 19:04:34</td>\n",
       "      <td>5.104</td>\n",
       "      <td>0.0012</td>\n",
       "      <td>0.00612</td>\n",
       "      <td>0.00012</td>\n",
       "    </tr>\n",
       "    <tr>\n",
       "      <th>20973</th>\n",
       "      <td>20973</td>\n",
       "      <td>2025-03-05 19:04:34.957331</td>\n",
       "      <td>239968</td>\n",
       "      <td>2025-03-05 19:04:34</td>\n",
       "      <td>5.104</td>\n",
       "      <td>0.0012</td>\n",
       "      <td>0.00612</td>\n",
       "      <td>0.00012</td>\n",
       "    </tr>\n",
       "    <tr>\n",
       "      <th>20974</th>\n",
       "      <td>20974</td>\n",
       "      <td>2025-03-05 19:04:34.969148</td>\n",
       "      <td>239980</td>\n",
       "      <td>2025-03-05 19:04:34</td>\n",
       "      <td>5.104</td>\n",
       "      <td>0.0012</td>\n",
       "      <td>0.00612</td>\n",
       "      <td>0.00012</td>\n",
       "    </tr>\n",
       "    <tr>\n",
       "      <th>20975</th>\n",
       "      <td>20975</td>\n",
       "      <td>2025-03-05 19:04:34.979263</td>\n",
       "      <td>239990</td>\n",
       "      <td>2025-03-05 19:04:34</td>\n",
       "      <td>5.104</td>\n",
       "      <td>0.0012</td>\n",
       "      <td>0.00612</td>\n",
       "      <td>0.00012</td>\n",
       "    </tr>\n",
       "  </tbody>\n",
       "</table>\n",
       "<p>20976 rows × 8 columns</p>\n",
       "</div>"
      ],
      "text/plain": [
       "       index                    read_at  millis                  dt      v  \\\n",
       "0          0 2025-03-05 19:00:35.175610     195 1970-01-01 00:00:00  5.064   \n",
       "1          1 2025-03-05 19:00:35.183562     204 1970-01-01 00:00:00  5.064   \n",
       "2          2 2025-03-05 19:00:35.191579     211 1970-01-01 00:00:00  5.064   \n",
       "3          3 2025-03-05 19:00:35.200570     221 1970-01-01 00:00:00  5.064   \n",
       "4          4 2025-03-05 19:00:35.211431     231 1970-01-01 00:00:00  5.064   \n",
       "...      ...                        ...     ...                 ...    ...   \n",
       "20971  20971 2025-03-05 19:04:34.935291  239946 2025-03-05 19:04:34  5.104   \n",
       "20972  20972 2025-03-05 19:04:34.947423  239958 2025-03-05 19:04:34  5.104   \n",
       "20973  20973 2025-03-05 19:04:34.957331  239968 2025-03-05 19:04:34  5.104   \n",
       "20974  20974 2025-03-05 19:04:34.969148  239980 2025-03-05 19:04:34  5.104   \n",
       "20975  20975 2025-03-05 19:04:34.979263  239990 2025-03-05 19:04:34  5.104   \n",
       "\n",
       "            a        w     v_sh  \n",
       "0      0.0292  0.14787  0.00292  \n",
       "1      0.0756  0.38284  0.00756  \n",
       "2      0.0756  0.38284  0.00756  \n",
       "3      0.0740  0.37474  0.00740  \n",
       "4      0.0296  0.14989  0.00296  \n",
       "...       ...      ...      ...  \n",
       "20971  0.0012  0.00612  0.00012  \n",
       "20972  0.0012  0.00612  0.00012  \n",
       "20973  0.0012  0.00612  0.00012  \n",
       "20974  0.0012  0.00612  0.00012  \n",
       "20975  0.0012  0.00612  0.00012  \n",
       "\n",
       "[20976 rows x 8 columns]"
      ]
     },
     "execution_count": 4,
     "metadata": {},
     "output_type": "execute_result"
    }
   ],
   "source": [
    "#remove the trailing data before reset\n",
    "d = df#[df.millis.idxmin():]\n",
    "d"
   ]
  },
  {
   "cell_type": "code",
   "execution_count": 5,
   "id": "2517c444",
   "metadata": {},
   "outputs": [
    {
     "data": {
      "text/plain": [
       "Text(0.5, 1.0, 'Current')"
      ]
     },
     "execution_count": 5,
     "metadata": {},
     "output_type": "execute_result"
    },
    {
     "data": {
      "image/png": "[encoded data removed]",
      "text/plain": [
       "<Figure size 640x480 with 1 Axes>"
      ]
     },
     "metadata": {},
     "output_type": "display_data"
    }
   ],
   "source": [
    "plt.plot(d.read_at, d.a)\n",
    "plt.title(\"Current\")"
   ]
  },
  {
   "cell_type": "code",
   "execution_count": 6,
   "id": "1c889899",
   "metadata": {},
   "outputs": [
    {
     "data": {
      "text/plain": [
       "Text(0.5, 1.0, 'Voltage')"
      ]
     },
     "execution_count": 6,
     "metadata": {},
     "output_type": "execute_result"
    },
    {
     "data": {
      "image/png": "[encoded data removed]",
      "text/plain": [
       "<Figure size 640x480 with 1 Axes>"
      ]
     },
     "metadata": {},
     "output_type": "display_data"
    }
   ],
   "source": [
    "plt.plot(d.read_at, d.v)\n",
    "plt.title(\"Voltage\")"
   ]
  },
  {
   "cell_type": "code",
   "execution_count": 7,
   "id": "6c3eec1e",
   "metadata": {},
   "outputs": [
    {
     "data": {
      "text/plain": [
       "5.771347136600005"
      ]
     },
     "execution_count": 7,
     "metadata": {},
     "output_type": "execute_result"
    }
   ],
   "source": [
    "from scipy import integrate\n",
    "\n",
    "time_data = (d.read_at - d.read_at.iloc[0]).dt.total_seconds()\n",
    "current_data = d.a.to_numpy()\n",
    "total_current = integrate.trapezoid(current_data, time_data)\n",
    "total_current #A in timespan"
   ]
  },
  {
   "cell_type": "code",
   "execution_count": 8,
   "id": "336bdbc4",
   "metadata": {},
   "outputs": [
    {
     "data": {
      "text/plain": [
       "239.803653"
      ]
     },
     "execution_count": 8,
     "metadata": {},
     "output_type": "execute_result"
    }
   ],
   "source": [
    "time_span = max(time_data)\n",
    "time_span #seg"
   ]
  },
  {
   "cell_type": "code",
   "execution_count": 9,
   "id": "e4cc029d",
   "metadata": {},
   "outputs": [
    {
     "data": {
      "text/plain": [
       "0.02406696922419278"
      ]
     },
     "execution_count": 9,
     "metadata": {},
     "output_type": "execute_result"
    }
   ],
   "source": [
    "avg_current = total_current / time_span\n",
    "avg_current #A"
   ]
  },
  {
   "cell_type": "markdown",
   "id": "70598578-fa7b-43a4-a35e-eabe13ca8fb1",
   "metadata": {},
   "source": [
    "## Expected runtime using batteries"
   ]
  },
  {
   "cell_type": "code",
   "execution_count": 10,
   "id": "6d075128",
   "metadata": {},
   "outputs": [
    {
     "name": "stdout",
     "output_type": "stream",
     "text": [
      "At 0.80Ah:\t33.2 hours,\t1.39 days\n",
      "At 2.00Ah:\t83.1 hours,\t3.46 days\n",
      "At 4.00Ah:\t166.2 hours,\t6.93 days\n",
      "At 10.00Ah:\t415.5 hours,\t17.31 days\n"
     ]
    }
   ],
   "source": [
    "for bat_usable_cap in batteries: #Amp hour\n",
    "    runtime = bat_usable_cap / avg_current\n",
    "    print(f\"At {bat_usable_cap:.02f}Ah:\\t{runtime:.01f} hours,\\t{runtime/24:.02f} days\")"
   ]
  },
  {
   "cell_type": "code",
   "execution_count": null,
   "id": "c5608685",
   "metadata": {},
   "outputs": [],
   "source": []
  }
 ],
 "metadata": {
  "kernelspec": {
   "display_name": "py310",
   "language": "python",
   "name": "py310"
  },
  "language_info": {
   "codemirror_mode": {
    "name": "ipython",
    "version": 3
   },
   "file_extension": ".py",
   "mimetype": "text/x-python",
   "name": "python",
   "nbconvert_exporter": "python",
   "pygments_lexer": "ipython3",
   "version": "3.10.6"
  }
 },
 "nbformat": 4,
 "nbformat_minor": 5
}
