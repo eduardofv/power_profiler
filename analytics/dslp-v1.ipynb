{
 "cells": [
  {
   "cell_type": "markdown",
   "id": "a12a46fd-4b4d-4e99-9c01-6622edff4c35",
   "metadata": {},
   "source": [
    "# DeepSleep \n",
    "## v1\n",
    "\n",
    "- board\n",
    "- r (run duration)\n",
    "- ds (deep sleep duration)\n",
    "- TX (test version)\n",
    "\n",
    "## T\n",
    "\n",
    "Explicación de la variante"
   ]
  },
  {
   "cell_type": "code",
   "execution_count": 10,
   "id": "1e079e8c-7ef6-4927-8d64-d58258365d47",
   "metadata": {},
   "outputs": [],
   "source": [
    "board=\"nodemcu\"\n",
    "r = 10\n",
    "ds = 30\n",
    "TX = 3\n",
    "\n",
    "batteries = [0.8, 2, 4, 10] #Ah"
   ]
  },
  {
   "cell_type": "code",
   "execution_count": 11,
   "id": "a7478314",
   "metadata": {},
   "outputs": [
    {
     "name": "stdout",
     "output_type": "stream",
     "text": [
      "../data/dslp--nodemcu_r10_ds30-T3.csv\n"
     ]
    },
    {
     "data": {
      "text/html": [
       "<div>\n",
       "<style scoped>\n",
       "    .dataframe tbody tr th:only-of-type {\n",
       "        vertical-align: middle;\n",
       "    }\n",
       "\n",
       "    .dataframe tbody tr th {\n",
       "        vertical-align: top;\n",
       "    }\n",
       "\n",
       "    .dataframe thead th {\n",
       "        text-align: right;\n",
       "    }\n",
       "</style>\n",
       "<table border=\"1\" class=\"dataframe\">\n",
       "  <thead>\n",
       "    <tr style=\"text-align: right;\">\n",
       "      <th></th>\n",
       "      <th>index</th>\n",
       "      <th>read_at</th>\n",
       "      <th>millis</th>\n",
       "      <th>dt</th>\n",
       "      <th>v</th>\n",
       "      <th>a</th>\n",
       "      <th>w</th>\n",
       "      <th>v_sh</th>\n",
       "    </tr>\n",
       "  </thead>\n",
       "  <tbody>\n",
       "    <tr>\n",
       "      <th>0</th>\n",
       "      <td>0</td>\n",
       "      <td>2025-02-28 15:25:48.436272</td>\n",
       "      <td>518554</td>\n",
       "      <td>2025-02-28 15:25:48</td>\n",
       "      <td>5.040</td>\n",
       "      <td>0.0768</td>\n",
       "      <td>0.38707</td>\n",
       "      <td>0.00768</td>\n",
       "    </tr>\n",
       "    <tr>\n",
       "      <th>1</th>\n",
       "      <td>1</td>\n",
       "      <td>2025-02-28 15:25:48.446606</td>\n",
       "      <td>518564</td>\n",
       "      <td>2025-02-28 15:25:48</td>\n",
       "      <td>5.040</td>\n",
       "      <td>0.0768</td>\n",
       "      <td>0.38707</td>\n",
       "      <td>0.00768</td>\n",
       "    </tr>\n",
       "    <tr>\n",
       "      <th>2</th>\n",
       "      <td>2</td>\n",
       "      <td>2025-02-28 15:25:48.458477</td>\n",
       "      <td>518576</td>\n",
       "      <td>2025-02-28 15:25:48</td>\n",
       "      <td>5.040</td>\n",
       "      <td>0.0780</td>\n",
       "      <td>0.39312</td>\n",
       "      <td>0.00780</td>\n",
       "    </tr>\n",
       "    <tr>\n",
       "      <th>3</th>\n",
       "      <td>3</td>\n",
       "      <td>2025-02-28 15:25:48.468211</td>\n",
       "      <td>518586</td>\n",
       "      <td>2025-02-28 15:25:48</td>\n",
       "      <td>5.040</td>\n",
       "      <td>0.0780</td>\n",
       "      <td>0.39312</td>\n",
       "      <td>0.00780</td>\n",
       "    </tr>\n",
       "    <tr>\n",
       "      <th>4</th>\n",
       "      <td>4</td>\n",
       "      <td>2025-02-28 15:25:48.480082</td>\n",
       "      <td>518598</td>\n",
       "      <td>2025-02-28 15:25:48</td>\n",
       "      <td>5.040</td>\n",
       "      <td>0.0784</td>\n",
       "      <td>0.39514</td>\n",
       "      <td>0.00784</td>\n",
       "    </tr>\n",
       "    <tr>\n",
       "      <th>...</th>\n",
       "      <td>...</td>\n",
       "      <td>...</td>\n",
       "      <td>...</td>\n",
       "      <td>...</td>\n",
       "      <td>...</td>\n",
       "      <td>...</td>\n",
       "      <td>...</td>\n",
       "      <td>...</td>\n",
       "    </tr>\n",
       "    <tr>\n",
       "      <th>42006</th>\n",
       "      <td>42006</td>\n",
       "      <td>2025-02-28 15:33:48.394946</td>\n",
       "      <td>90705</td>\n",
       "      <td>2025-02-28 15:33:48</td>\n",
       "      <td>5.048</td>\n",
       "      <td>0.0748</td>\n",
       "      <td>0.37759</td>\n",
       "      <td>0.00748</td>\n",
       "    </tr>\n",
       "    <tr>\n",
       "      <th>42007</th>\n",
       "      <td>42007</td>\n",
       "      <td>2025-02-28 15:33:48.405486</td>\n",
       "      <td>90716</td>\n",
       "      <td>2025-02-28 15:33:48</td>\n",
       "      <td>5.048</td>\n",
       "      <td>0.0748</td>\n",
       "      <td>0.37759</td>\n",
       "      <td>0.00748</td>\n",
       "    </tr>\n",
       "    <tr>\n",
       "      <th>42008</th>\n",
       "      <td>42008</td>\n",
       "      <td>2025-02-28 15:33:48.416212</td>\n",
       "      <td>90726</td>\n",
       "      <td>2025-02-28 15:33:48</td>\n",
       "      <td>5.048</td>\n",
       "      <td>0.0780</td>\n",
       "      <td>0.39374</td>\n",
       "      <td>0.00780</td>\n",
       "    </tr>\n",
       "    <tr>\n",
       "      <th>42009</th>\n",
       "      <td>42009</td>\n",
       "      <td>2025-02-28 15:33:48.427527</td>\n",
       "      <td>90738</td>\n",
       "      <td>2025-02-28 15:33:48</td>\n",
       "      <td>5.048</td>\n",
       "      <td>0.0788</td>\n",
       "      <td>0.39778</td>\n",
       "      <td>0.00788</td>\n",
       "    </tr>\n",
       "    <tr>\n",
       "      <th>42010</th>\n",
       "      <td>42010</td>\n",
       "      <td>2025-02-28 15:33:48.437972</td>\n",
       "      <td>90748</td>\n",
       "      <td>2025-02-28 15:33:48</td>\n",
       "      <td>5.048</td>\n",
       "      <td>0.0780</td>\n",
       "      <td>0.39374</td>\n",
       "      <td>0.00780</td>\n",
       "    </tr>\n",
       "  </tbody>\n",
       "</table>\n",
       "<p>42011 rows × 8 columns</p>\n",
       "</div>"
      ],
      "text/plain": [
       "       index                    read_at  millis                  dt      v  \\\n",
       "0          0 2025-02-28 15:25:48.436272  518554 2025-02-28 15:25:48  5.040   \n",
       "1          1 2025-02-28 15:25:48.446606  518564 2025-02-28 15:25:48  5.040   \n",
       "2          2 2025-02-28 15:25:48.458477  518576 2025-02-28 15:25:48  5.040   \n",
       "3          3 2025-02-28 15:25:48.468211  518586 2025-02-28 15:25:48  5.040   \n",
       "4          4 2025-02-28 15:25:48.480082  518598 2025-02-28 15:25:48  5.040   \n",
       "...      ...                        ...     ...                 ...    ...   \n",
       "42006  42006 2025-02-28 15:33:48.394946   90705 2025-02-28 15:33:48  5.048   \n",
       "42007  42007 2025-02-28 15:33:48.405486   90716 2025-02-28 15:33:48  5.048   \n",
       "42008  42008 2025-02-28 15:33:48.416212   90726 2025-02-28 15:33:48  5.048   \n",
       "42009  42009 2025-02-28 15:33:48.427527   90738 2025-02-28 15:33:48  5.048   \n",
       "42010  42010 2025-02-28 15:33:48.437972   90748 2025-02-28 15:33:48  5.048   \n",
       "\n",
       "            a        w     v_sh  \n",
       "0      0.0768  0.38707  0.00768  \n",
       "1      0.0768  0.38707  0.00768  \n",
       "2      0.0780  0.39312  0.00780  \n",
       "3      0.0780  0.39312  0.00780  \n",
       "4      0.0784  0.39514  0.00784  \n",
       "...       ...      ...      ...  \n",
       "42006  0.0748  0.37759  0.00748  \n",
       "42007  0.0748  0.37759  0.00748  \n",
       "42008  0.0780  0.39374  0.00780  \n",
       "42009  0.0788  0.39778  0.00788  \n",
       "42010  0.0780  0.39374  0.00780  \n",
       "\n",
       "[42011 rows x 8 columns]"
      ]
     },
     "execution_count": 11,
     "metadata": {},
     "output_type": "execute_result"
    }
   ],
   "source": [
    "import pandas as pd\n",
    "import matplotlib.pyplot as plt\n",
    "\n",
    "filename = f\"../data/dslp--{board}_r{r}_ds{ds}-T{TX}.csv\"\n",
    "print(filename)\n",
    "\n",
    "df = pd.read_csv(filename, parse_dates=[\"read_at\", \"timestamp\"])\n",
    "\n",
    "df.columns = ['index','read_at', 'millis', \"dt\", \"v\", \"a\", \"w\", \"v_sh\"]\n",
    "df"
   ]
  },
  {
   "cell_type": "code",
   "execution_count": 12,
   "id": "98b6ec92",
   "metadata": {},
   "outputs": [
    {
     "data": {
      "text/html": [
       "<div>\n",
       "<style scoped>\n",
       "    .dataframe tbody tr th:only-of-type {\n",
       "        vertical-align: middle;\n",
       "    }\n",
       "\n",
       "    .dataframe tbody tr th {\n",
       "        vertical-align: top;\n",
       "    }\n",
       "\n",
       "    .dataframe thead th {\n",
       "        text-align: right;\n",
       "    }\n",
       "</style>\n",
       "<table border=\"1\" class=\"dataframe\">\n",
       "  <thead>\n",
       "    <tr style=\"text-align: right;\">\n",
       "      <th></th>\n",
       "      <th>index</th>\n",
       "      <th>read_at</th>\n",
       "      <th>millis</th>\n",
       "      <th>dt</th>\n",
       "      <th>v</th>\n",
       "      <th>a</th>\n",
       "      <th>w</th>\n",
       "      <th>v_sh</th>\n",
       "    </tr>\n",
       "  </thead>\n",
       "  <tbody>\n",
       "    <tr>\n",
       "      <th>0</th>\n",
       "      <td>0</td>\n",
       "      <td>2025-02-28 15:25:48.436272</td>\n",
       "      <td>518554</td>\n",
       "      <td>2025-02-28 15:25:48</td>\n",
       "      <td>5.040</td>\n",
       "      <td>0.0768</td>\n",
       "      <td>0.38707</td>\n",
       "      <td>0.00768</td>\n",
       "    </tr>\n",
       "    <tr>\n",
       "      <th>1</th>\n",
       "      <td>1</td>\n",
       "      <td>2025-02-28 15:25:48.446606</td>\n",
       "      <td>518564</td>\n",
       "      <td>2025-02-28 15:25:48</td>\n",
       "      <td>5.040</td>\n",
       "      <td>0.0768</td>\n",
       "      <td>0.38707</td>\n",
       "      <td>0.00768</td>\n",
       "    </tr>\n",
       "    <tr>\n",
       "      <th>2</th>\n",
       "      <td>2</td>\n",
       "      <td>2025-02-28 15:25:48.458477</td>\n",
       "      <td>518576</td>\n",
       "      <td>2025-02-28 15:25:48</td>\n",
       "      <td>5.040</td>\n",
       "      <td>0.0780</td>\n",
       "      <td>0.39312</td>\n",
       "      <td>0.00780</td>\n",
       "    </tr>\n",
       "    <tr>\n",
       "      <th>3</th>\n",
       "      <td>3</td>\n",
       "      <td>2025-02-28 15:25:48.468211</td>\n",
       "      <td>518586</td>\n",
       "      <td>2025-02-28 15:25:48</td>\n",
       "      <td>5.040</td>\n",
       "      <td>0.0780</td>\n",
       "      <td>0.39312</td>\n",
       "      <td>0.00780</td>\n",
       "    </tr>\n",
       "    <tr>\n",
       "      <th>4</th>\n",
       "      <td>4</td>\n",
       "      <td>2025-02-28 15:25:48.480082</td>\n",
       "      <td>518598</td>\n",
       "      <td>2025-02-28 15:25:48</td>\n",
       "      <td>5.040</td>\n",
       "      <td>0.0784</td>\n",
       "      <td>0.39514</td>\n",
       "      <td>0.00784</td>\n",
       "    </tr>\n",
       "    <tr>\n",
       "      <th>...</th>\n",
       "      <td>...</td>\n",
       "      <td>...</td>\n",
       "      <td>...</td>\n",
       "      <td>...</td>\n",
       "      <td>...</td>\n",
       "      <td>...</td>\n",
       "      <td>...</td>\n",
       "      <td>...</td>\n",
       "    </tr>\n",
       "    <tr>\n",
       "      <th>42006</th>\n",
       "      <td>42006</td>\n",
       "      <td>2025-02-28 15:33:48.394946</td>\n",
       "      <td>90705</td>\n",
       "      <td>2025-02-28 15:33:48</td>\n",
       "      <td>5.048</td>\n",
       "      <td>0.0748</td>\n",
       "      <td>0.37759</td>\n",
       "      <td>0.00748</td>\n",
       "    </tr>\n",
       "    <tr>\n",
       "      <th>42007</th>\n",
       "      <td>42007</td>\n",
       "      <td>2025-02-28 15:33:48.405486</td>\n",
       "      <td>90716</td>\n",
       "      <td>2025-02-28 15:33:48</td>\n",
       "      <td>5.048</td>\n",
       "      <td>0.0748</td>\n",
       "      <td>0.37759</td>\n",
       "      <td>0.00748</td>\n",
       "    </tr>\n",
       "    <tr>\n",
       "      <th>42008</th>\n",
       "      <td>42008</td>\n",
       "      <td>2025-02-28 15:33:48.416212</td>\n",
       "      <td>90726</td>\n",
       "      <td>2025-02-28 15:33:48</td>\n",
       "      <td>5.048</td>\n",
       "      <td>0.0780</td>\n",
       "      <td>0.39374</td>\n",
       "      <td>0.00780</td>\n",
       "    </tr>\n",
       "    <tr>\n",
       "      <th>42009</th>\n",
       "      <td>42009</td>\n",
       "      <td>2025-02-28 15:33:48.427527</td>\n",
       "      <td>90738</td>\n",
       "      <td>2025-02-28 15:33:48</td>\n",
       "      <td>5.048</td>\n",
       "      <td>0.0788</td>\n",
       "      <td>0.39778</td>\n",
       "      <td>0.00788</td>\n",
       "    </tr>\n",
       "    <tr>\n",
       "      <th>42010</th>\n",
       "      <td>42010</td>\n",
       "      <td>2025-02-28 15:33:48.437972</td>\n",
       "      <td>90748</td>\n",
       "      <td>2025-02-28 15:33:48</td>\n",
       "      <td>5.048</td>\n",
       "      <td>0.0780</td>\n",
       "      <td>0.39374</td>\n",
       "      <td>0.00780</td>\n",
       "    </tr>\n",
       "  </tbody>\n",
       "</table>\n",
       "<p>42011 rows × 8 columns</p>\n",
       "</div>"
      ],
      "text/plain": [
       "       index                    read_at  millis                  dt      v  \\\n",
       "0          0 2025-02-28 15:25:48.436272  518554 2025-02-28 15:25:48  5.040   \n",
       "1          1 2025-02-28 15:25:48.446606  518564 2025-02-28 15:25:48  5.040   \n",
       "2          2 2025-02-28 15:25:48.458477  518576 2025-02-28 15:25:48  5.040   \n",
       "3          3 2025-02-28 15:25:48.468211  518586 2025-02-28 15:25:48  5.040   \n",
       "4          4 2025-02-28 15:25:48.480082  518598 2025-02-28 15:25:48  5.040   \n",
       "...      ...                        ...     ...                 ...    ...   \n",
       "42006  42006 2025-02-28 15:33:48.394946   90705 2025-02-28 15:33:48  5.048   \n",
       "42007  42007 2025-02-28 15:33:48.405486   90716 2025-02-28 15:33:48  5.048   \n",
       "42008  42008 2025-02-28 15:33:48.416212   90726 2025-02-28 15:33:48  5.048   \n",
       "42009  42009 2025-02-28 15:33:48.427527   90738 2025-02-28 15:33:48  5.048   \n",
       "42010  42010 2025-02-28 15:33:48.437972   90748 2025-02-28 15:33:48  5.048   \n",
       "\n",
       "            a        w     v_sh  \n",
       "0      0.0768  0.38707  0.00768  \n",
       "1      0.0768  0.38707  0.00768  \n",
       "2      0.0780  0.39312  0.00780  \n",
       "3      0.0780  0.39312  0.00780  \n",
       "4      0.0784  0.39514  0.00784  \n",
       "...       ...      ...      ...  \n",
       "42006  0.0748  0.37759  0.00748  \n",
       "42007  0.0748  0.37759  0.00748  \n",
       "42008  0.0780  0.39374  0.00780  \n",
       "42009  0.0788  0.39778  0.00788  \n",
       "42010  0.0780  0.39374  0.00780  \n",
       "\n",
       "[42011 rows x 8 columns]"
      ]
     },
     "execution_count": 12,
     "metadata": {},
     "output_type": "execute_result"
    }
   ],
   "source": [
    "#remove the trailing data before reset\n",
    "d = df#[df.millis.idxmin():]\n",
    "d"
   ]
  },
  {
   "cell_type": "code",
   "execution_count": 13,
   "id": "2517c444",
   "metadata": {},
   "outputs": [
    {
     "data": {
      "text/plain": [
       "Text(0.5, 1.0, 'Current')"
      ]
     },
     "execution_count": 13,
     "metadata": {},
     "output_type": "execute_result"
    },
    {
     "data": {
      "image/png": "[encoded data removed]",
      "text/plain": [
       "<Figure size 640x480 with 1 Axes>"
      ]
     },
     "metadata": {},
     "output_type": "display_data"
    }
   ],
   "source": [
    "plt.plot(d.read_at, d.a)\n",
    "plt.title(\"Current\")"
   ]
  },
  {
   "cell_type": "code",
   "execution_count": 14,
   "id": "1c889899",
   "metadata": {},
   "outputs": [
    {
     "data": {
      "text/plain": [
       "Text(0.5, 1.0, 'Voltage')"
      ]
     },
     "execution_count": 14,
     "metadata": {},
     "output_type": "execute_result"
    },
    {
     "data": {
      "image/png": "[encoded data removed]",
      "text/plain": [
       "<Figure size 640x480 with 1 Axes>"
      ]
     },
     "metadata": {},
     "output_type": "display_data"
    }
   ],
   "source": [
    "plt.plot(d.read_at, d.v)\n",
    "plt.title(\"Voltage\")"
   ]
  },
  {
   "cell_type": "code",
   "execution_count": 15,
   "id": "6c3eec1e",
   "metadata": {},
   "outputs": [
    {
     "data": {
      "text/plain": [
       "np.float64(18.604389853600004)"
      ]
     },
     "execution_count": 15,
     "metadata": {},
     "output_type": "execute_result"
    }
   ],
   "source": [
    "from scipy import integrate\n",
    "\n",
    "time_data = (d.read_at - d.read_at.iloc[0]).dt.total_seconds()\n",
    "current_data = d.a.to_numpy()\n",
    "total_current = integrate.trapezoid(current_data, time_data)\n",
    "total_current #A in timespan"
   ]
  },
  {
   "cell_type": "code",
   "execution_count": 16,
   "id": "336bdbc4",
   "metadata": {},
   "outputs": [
    {
     "data": {
      "text/plain": [
       "480.0017"
      ]
     },
     "execution_count": 16,
     "metadata": {},
     "output_type": "execute_result"
    }
   ],
   "source": [
    "time_span = max(time_data)\n",
    "time_span #seg"
   ]
  },
  {
   "cell_type": "code",
   "execution_count": 17,
   "id": "e4cc029d",
   "metadata": {},
   "outputs": [
    {
     "data": {
      "text/plain": [
       "np.float64(0.038759008256845764)"
      ]
     },
     "execution_count": 17,
     "metadata": {},
     "output_type": "execute_result"
    }
   ],
   "source": [
    "avg_current = total_current / time_span\n",
    "avg_current #A"
   ]
  },
  {
   "cell_type": "markdown",
   "id": "70598578-fa7b-43a4-a35e-eabe13ca8fb1",
   "metadata": {},
   "source": [
    "## Expected runtime using batteries"
   ]
  },
  {
   "cell_type": "code",
   "execution_count": 18,
   "id": "6d075128",
   "metadata": {},
   "outputs": [
    {
     "name": "stdout",
     "output_type": "stream",
     "text": [
      "At 0.80Ah:\t20.6 hours,\t0.86 days\n",
      "At 2.00Ah:\t51.6 hours,\t2.15 days\n",
      "At 4.00Ah:\t103.2 hours,\t4.30 days\n",
      "At 10.00Ah:\t258.0 hours,\t10.75 days\n"
     ]
    }
   ],
   "source": [
    "for bat_usable_cap in batteries: #Amp hour\n",
    "    runtime = bat_usable_cap / avg_current\n",
    "    print(f\"At {bat_usable_cap:.02f}Ah:\\t{runtime:.01f} hours,\\t{runtime/24:.02f} days\")"
   ]
  }
 ],
 "metadata": {
  "kernelspec": {
   "display_name": "Python 3 (ipykernel)",
   "language": "python",
   "name": "python3"
  },
  "language_info": {
   "codemirror_mode": {
    "name": "ipython",
    "version": 3
   },
   "file_extension": ".py",
   "mimetype": "text/x-python",
   "name": "python",
   "nbconvert_exporter": "python",
   "pygments_lexer": "ipython3",
   "version": "3.10.16"
  }
 },
 "nbformat": 4,
 "nbformat_minor": 5
}
