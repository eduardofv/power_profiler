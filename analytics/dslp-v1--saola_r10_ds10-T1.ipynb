{
 "cells": [
  {
   "cell_type": "markdown",
   "id": "a12a46fd-4b4d-4e99-9c01-6622edff4c35",
   "metadata": {},
   "source": [
    "# DeepSleep \n",
    "## Notas\n",
    "* En Saola hay periodos que no se va a dormir y se une co\n",
    "\n",
    "## v1\n",
    "\n",
    "- board\n",
    "- r (run duration)\n",
    "- ds (deep sleep duration)\n",
    "- TX (test version)\n",
    "\n",
    "## T\n",
    "\n",
    "240seg a 10ms"
   ]
  },
  {
   "cell_type": "code",
   "execution_count": 28,
   "id": "1e079e8c-7ef6-4927-8d64-d58258365d47",
   "metadata": {},
   "outputs": [],
   "source": [
    "board=\"saola\"\n",
    "r = 10\n",
    "ds = 10\n",
    "TX = 1\n",
    "\n",
    "batteries = [0.8, 2, 4, 10] #Ah"
   ]
  },
  {
   "cell_type": "code",
   "execution_count": 29,
   "id": "a7478314",
   "metadata": {},
   "outputs": [
    {
     "name": "stdout",
     "output_type": "stream",
     "text": [
      "../data/dslp--saola_r10_ds10-T1.csv\n"
     ]
    },
    {
     "data": {
      "text/html": [
       "<div>\n",
       "<style scoped>\n",
       "    .dataframe tbody tr th:only-of-type {\n",
       "        vertical-align: middle;\n",
       "    }\n",
       "\n",
       "    .dataframe tbody tr th {\n",
       "        vertical-align: top;\n",
       "    }\n",
       "\n",
       "    .dataframe thead th {\n",
       "        text-align: right;\n",
       "    }\n",
       "</style>\n",
       "<table border=\"1\" class=\"dataframe\">\n",
       "  <thead>\n",
       "    <tr style=\"text-align: right;\">\n",
       "      <th></th>\n",
       "      <th>index</th>\n",
       "      <th>read_at</th>\n",
       "      <th>millis</th>\n",
       "      <th>dt</th>\n",
       "      <th>v</th>\n",
       "      <th>a</th>\n",
       "      <th>w</th>\n",
       "      <th>v_sh</th>\n",
       "    </tr>\n",
       "  </thead>\n",
       "  <tbody>\n",
       "    <tr>\n",
       "      <th>0</th>\n",
       "      <td>0</td>\n",
       "      <td>2025-02-28 17:53:13.136065</td>\n",
       "      <td>486828</td>\n",
       "      <td>2025-02-28 17:53:12</td>\n",
       "      <td>5.064</td>\n",
       "      <td>0.0616</td>\n",
       "      <td>0.31194</td>\n",
       "      <td>0.00616</td>\n",
       "    </tr>\n",
       "    <tr>\n",
       "      <th>1</th>\n",
       "      <td>1</td>\n",
       "      <td>2025-02-28 17:53:13.146976</td>\n",
       "      <td>486838</td>\n",
       "      <td>2025-02-28 17:53:13</td>\n",
       "      <td>5.088</td>\n",
       "      <td>0.0296</td>\n",
       "      <td>0.15060</td>\n",
       "      <td>0.00296</td>\n",
       "    </tr>\n",
       "    <tr>\n",
       "      <th>2</th>\n",
       "      <td>2</td>\n",
       "      <td>2025-02-28 17:53:13.157788</td>\n",
       "      <td>486850</td>\n",
       "      <td>2025-02-28 17:53:13</td>\n",
       "      <td>5.088</td>\n",
       "      <td>0.0296</td>\n",
       "      <td>0.15060</td>\n",
       "      <td>0.00296</td>\n",
       "    </tr>\n",
       "    <tr>\n",
       "      <th>3</th>\n",
       "      <td>3</td>\n",
       "      <td>2025-02-28 17:53:13.169053</td>\n",
       "      <td>486861</td>\n",
       "      <td>2025-02-28 17:53:13</td>\n",
       "      <td>5.088</td>\n",
       "      <td>0.0296</td>\n",
       "      <td>0.15060</td>\n",
       "      <td>0.00296</td>\n",
       "    </tr>\n",
       "    <tr>\n",
       "      <th>4</th>\n",
       "      <td>4</td>\n",
       "      <td>2025-02-28 17:53:13.179874</td>\n",
       "      <td>486871</td>\n",
       "      <td>2025-02-28 17:53:13</td>\n",
       "      <td>5.088</td>\n",
       "      <td>0.0296</td>\n",
       "      <td>0.15060</td>\n",
       "      <td>0.00296</td>\n",
       "    </tr>\n",
       "    <tr>\n",
       "      <th>...</th>\n",
       "      <td>...</td>\n",
       "      <td>...</td>\n",
       "      <td>...</td>\n",
       "      <td>...</td>\n",
       "      <td>...</td>\n",
       "      <td>...</td>\n",
       "      <td>...</td>\n",
       "      <td>...</td>\n",
       "    </tr>\n",
       "    <tr>\n",
       "      <th>20977</th>\n",
       "      <td>20977</td>\n",
       "      <td>2025-02-28 17:57:13.080190</td>\n",
       "      <td>726763</td>\n",
       "      <td>2025-02-28 17:57:12</td>\n",
       "      <td>5.088</td>\n",
       "      <td>0.0472</td>\n",
       "      <td>0.24015</td>\n",
       "      <td>0.00472</td>\n",
       "    </tr>\n",
       "    <tr>\n",
       "      <th>20978</th>\n",
       "      <td>20978</td>\n",
       "      <td>2025-02-28 17:57:13.091316</td>\n",
       "      <td>726774</td>\n",
       "      <td>2025-02-28 17:57:12</td>\n",
       "      <td>5.088</td>\n",
       "      <td>0.0296</td>\n",
       "      <td>0.15060</td>\n",
       "      <td>0.00296</td>\n",
       "    </tr>\n",
       "    <tr>\n",
       "      <th>20979</th>\n",
       "      <td>20979</td>\n",
       "      <td>2025-02-28 17:57:13.101395</td>\n",
       "      <td>726784</td>\n",
       "      <td>2025-02-28 17:57:12</td>\n",
       "      <td>5.088</td>\n",
       "      <td>0.0296</td>\n",
       "      <td>0.15060</td>\n",
       "      <td>0.00296</td>\n",
       "    </tr>\n",
       "    <tr>\n",
       "      <th>20980</th>\n",
       "      <td>20980</td>\n",
       "      <td>2025-02-28 17:57:13.113511</td>\n",
       "      <td>726796</td>\n",
       "      <td>2025-02-28 17:57:12</td>\n",
       "      <td>5.088</td>\n",
       "      <td>0.0296</td>\n",
       "      <td>0.15060</td>\n",
       "      <td>0.00296</td>\n",
       "    </tr>\n",
       "    <tr>\n",
       "      <th>20981</th>\n",
       "      <td>20981</td>\n",
       "      <td>2025-02-28 17:57:13.123657</td>\n",
       "      <td>726806</td>\n",
       "      <td>2025-02-28 17:57:12</td>\n",
       "      <td>5.088</td>\n",
       "      <td>0.0296</td>\n",
       "      <td>0.15060</td>\n",
       "      <td>0.00296</td>\n",
       "    </tr>\n",
       "  </tbody>\n",
       "</table>\n",
       "<p>20982 rows × 8 columns</p>\n",
       "</div>"
      ],
      "text/plain": [
       "       index                    read_at  millis                  dt      v  \\\n",
       "0          0 2025-02-28 17:53:13.136065  486828 2025-02-28 17:53:12  5.064   \n",
       "1          1 2025-02-28 17:53:13.146976  486838 2025-02-28 17:53:13  5.088   \n",
       "2          2 2025-02-28 17:53:13.157788  486850 2025-02-28 17:53:13  5.088   \n",
       "3          3 2025-02-28 17:53:13.169053  486861 2025-02-28 17:53:13  5.088   \n",
       "4          4 2025-02-28 17:53:13.179874  486871 2025-02-28 17:53:13  5.088   \n",
       "...      ...                        ...     ...                 ...    ...   \n",
       "20977  20977 2025-02-28 17:57:13.080190  726763 2025-02-28 17:57:12  5.088   \n",
       "20978  20978 2025-02-28 17:57:13.091316  726774 2025-02-28 17:57:12  5.088   \n",
       "20979  20979 2025-02-28 17:57:13.101395  726784 2025-02-28 17:57:12  5.088   \n",
       "20980  20980 2025-02-28 17:57:13.113511  726796 2025-02-28 17:57:12  5.088   \n",
       "20981  20981 2025-02-28 17:57:13.123657  726806 2025-02-28 17:57:12  5.088   \n",
       "\n",
       "            a        w     v_sh  \n",
       "0      0.0616  0.31194  0.00616  \n",
       "1      0.0296  0.15060  0.00296  \n",
       "2      0.0296  0.15060  0.00296  \n",
       "3      0.0296  0.15060  0.00296  \n",
       "4      0.0296  0.15060  0.00296  \n",
       "...       ...      ...      ...  \n",
       "20977  0.0472  0.24015  0.00472  \n",
       "20978  0.0296  0.15060  0.00296  \n",
       "20979  0.0296  0.15060  0.00296  \n",
       "20980  0.0296  0.15060  0.00296  \n",
       "20981  0.0296  0.15060  0.00296  \n",
       "\n",
       "[20982 rows x 8 columns]"
      ]
     },
     "execution_count": 29,
     "metadata": {},
     "output_type": "execute_result"
    }
   ],
   "source": [
    "import pandas as pd\n",
    "import matplotlib.pyplot as plt\n",
    "\n",
    "filename = f\"../data/dslp--{board}_r{r}_ds{ds}-T{TX}.csv\"\n",
    "print(filename)\n",
    "\n",
    "df = pd.read_csv(filename, parse_dates=[\"read_at\", \"timestamp\"])\n",
    "\n",
    "df.columns = ['index','read_at', 'millis', \"dt\", \"v\", \"a\", \"w\", \"v_sh\"]\n",
    "df"
   ]
  },
  {
   "cell_type": "code",
   "execution_count": 30,
   "id": "98b6ec92",
   "metadata": {},
   "outputs": [
    {
     "data": {
      "text/html": [
       "<div>\n",
       "<style scoped>\n",
       "    .dataframe tbody tr th:only-of-type {\n",
       "        vertical-align: middle;\n",
       "    }\n",
       "\n",
       "    .dataframe tbody tr th {\n",
       "        vertical-align: top;\n",
       "    }\n",
       "\n",
       "    .dataframe thead th {\n",
       "        text-align: right;\n",
       "    }\n",
       "</style>\n",
       "<table border=\"1\" class=\"dataframe\">\n",
       "  <thead>\n",
       "    <tr style=\"text-align: right;\">\n",
       "      <th></th>\n",
       "      <th>index</th>\n",
       "      <th>read_at</th>\n",
       "      <th>millis</th>\n",
       "      <th>dt</th>\n",
       "      <th>v</th>\n",
       "      <th>a</th>\n",
       "      <th>w</th>\n",
       "      <th>v_sh</th>\n",
       "    </tr>\n",
       "  </thead>\n",
       "  <tbody>\n",
       "    <tr>\n",
       "      <th>0</th>\n",
       "      <td>0</td>\n",
       "      <td>2025-02-28 17:53:13.136065</td>\n",
       "      <td>486828</td>\n",
       "      <td>2025-02-28 17:53:12</td>\n",
       "      <td>5.064</td>\n",
       "      <td>0.0616</td>\n",
       "      <td>0.31194</td>\n",
       "      <td>0.00616</td>\n",
       "    </tr>\n",
       "    <tr>\n",
       "      <th>1</th>\n",
       "      <td>1</td>\n",
       "      <td>2025-02-28 17:53:13.146976</td>\n",
       "      <td>486838</td>\n",
       "      <td>2025-02-28 17:53:13</td>\n",
       "      <td>5.088</td>\n",
       "      <td>0.0296</td>\n",
       "      <td>0.15060</td>\n",
       "      <td>0.00296</td>\n",
       "    </tr>\n",
       "    <tr>\n",
       "      <th>2</th>\n",
       "      <td>2</td>\n",
       "      <td>2025-02-28 17:53:13.157788</td>\n",
       "      <td>486850</td>\n",
       "      <td>2025-02-28 17:53:13</td>\n",
       "      <td>5.088</td>\n",
       "      <td>0.0296</td>\n",
       "      <td>0.15060</td>\n",
       "      <td>0.00296</td>\n",
       "    </tr>\n",
       "    <tr>\n",
       "      <th>3</th>\n",
       "      <td>3</td>\n",
       "      <td>2025-02-28 17:53:13.169053</td>\n",
       "      <td>486861</td>\n",
       "      <td>2025-02-28 17:53:13</td>\n",
       "      <td>5.088</td>\n",
       "      <td>0.0296</td>\n",
       "      <td>0.15060</td>\n",
       "      <td>0.00296</td>\n",
       "    </tr>\n",
       "    <tr>\n",
       "      <th>4</th>\n",
       "      <td>4</td>\n",
       "      <td>2025-02-28 17:53:13.179874</td>\n",
       "      <td>486871</td>\n",
       "      <td>2025-02-28 17:53:13</td>\n",
       "      <td>5.088</td>\n",
       "      <td>0.0296</td>\n",
       "      <td>0.15060</td>\n",
       "      <td>0.00296</td>\n",
       "    </tr>\n",
       "    <tr>\n",
       "      <th>...</th>\n",
       "      <td>...</td>\n",
       "      <td>...</td>\n",
       "      <td>...</td>\n",
       "      <td>...</td>\n",
       "      <td>...</td>\n",
       "      <td>...</td>\n",
       "      <td>...</td>\n",
       "      <td>...</td>\n",
       "    </tr>\n",
       "    <tr>\n",
       "      <th>20977</th>\n",
       "      <td>20977</td>\n",
       "      <td>2025-02-28 17:57:13.080190</td>\n",
       "      <td>726763</td>\n",
       "      <td>2025-02-28 17:57:12</td>\n",
       "      <td>5.088</td>\n",
       "      <td>0.0472</td>\n",
       "      <td>0.24015</td>\n",
       "      <td>0.00472</td>\n",
       "    </tr>\n",
       "    <tr>\n",
       "      <th>20978</th>\n",
       "      <td>20978</td>\n",
       "      <td>2025-02-28 17:57:13.091316</td>\n",
       "      <td>726774</td>\n",
       "      <td>2025-02-28 17:57:12</td>\n",
       "      <td>5.088</td>\n",
       "      <td>0.0296</td>\n",
       "      <td>0.15060</td>\n",
       "      <td>0.00296</td>\n",
       "    </tr>\n",
       "    <tr>\n",
       "      <th>20979</th>\n",
       "      <td>20979</td>\n",
       "      <td>2025-02-28 17:57:13.101395</td>\n",
       "      <td>726784</td>\n",
       "      <td>2025-02-28 17:57:12</td>\n",
       "      <td>5.088</td>\n",
       "      <td>0.0296</td>\n",
       "      <td>0.15060</td>\n",
       "      <td>0.00296</td>\n",
       "    </tr>\n",
       "    <tr>\n",
       "      <th>20980</th>\n",
       "      <td>20980</td>\n",
       "      <td>2025-02-28 17:57:13.113511</td>\n",
       "      <td>726796</td>\n",
       "      <td>2025-02-28 17:57:12</td>\n",
       "      <td>5.088</td>\n",
       "      <td>0.0296</td>\n",
       "      <td>0.15060</td>\n",
       "      <td>0.00296</td>\n",
       "    </tr>\n",
       "    <tr>\n",
       "      <th>20981</th>\n",
       "      <td>20981</td>\n",
       "      <td>2025-02-28 17:57:13.123657</td>\n",
       "      <td>726806</td>\n",
       "      <td>2025-02-28 17:57:12</td>\n",
       "      <td>5.088</td>\n",
       "      <td>0.0296</td>\n",
       "      <td>0.15060</td>\n",
       "      <td>0.00296</td>\n",
       "    </tr>\n",
       "  </tbody>\n",
       "</table>\n",
       "<p>20982 rows × 8 columns</p>\n",
       "</div>"
      ],
      "text/plain": [
       "       index                    read_at  millis                  dt      v  \\\n",
       "0          0 2025-02-28 17:53:13.136065  486828 2025-02-28 17:53:12  5.064   \n",
       "1          1 2025-02-28 17:53:13.146976  486838 2025-02-28 17:53:13  5.088   \n",
       "2          2 2025-02-28 17:53:13.157788  486850 2025-02-28 17:53:13  5.088   \n",
       "3          3 2025-02-28 17:53:13.169053  486861 2025-02-28 17:53:13  5.088   \n",
       "4          4 2025-02-28 17:53:13.179874  486871 2025-02-28 17:53:13  5.088   \n",
       "...      ...                        ...     ...                 ...    ...   \n",
       "20977  20977 2025-02-28 17:57:13.080190  726763 2025-02-28 17:57:12  5.088   \n",
       "20978  20978 2025-02-28 17:57:13.091316  726774 2025-02-28 17:57:12  5.088   \n",
       "20979  20979 2025-02-28 17:57:13.101395  726784 2025-02-28 17:57:12  5.088   \n",
       "20980  20980 2025-02-28 17:57:13.113511  726796 2025-02-28 17:57:12  5.088   \n",
       "20981  20981 2025-02-28 17:57:13.123657  726806 2025-02-28 17:57:12  5.088   \n",
       "\n",
       "            a        w     v_sh  \n",
       "0      0.0616  0.31194  0.00616  \n",
       "1      0.0296  0.15060  0.00296  \n",
       "2      0.0296  0.15060  0.00296  \n",
       "3      0.0296  0.15060  0.00296  \n",
       "4      0.0296  0.15060  0.00296  \n",
       "...       ...      ...      ...  \n",
       "20977  0.0472  0.24015  0.00472  \n",
       "20978  0.0296  0.15060  0.00296  \n",
       "20979  0.0296  0.15060  0.00296  \n",
       "20980  0.0296  0.15060  0.00296  \n",
       "20981  0.0296  0.15060  0.00296  \n",
       "\n",
       "[20982 rows x 8 columns]"
      ]
     },
     "execution_count": 30,
     "metadata": {},
     "output_type": "execute_result"
    }
   ],
   "source": [
    "#remove the trailing data before reset\n",
    "d = df#[df.millis.idxmin():]\n",
    "d"
   ]
  },
  {
   "cell_type": "code",
   "execution_count": 31,
   "id": "2517c444",
   "metadata": {},
   "outputs": [
    {
     "data": {
      "text/plain": [
       "Text(0.5, 1.0, 'Current')"
      ]
     },
     "execution_count": 31,
     "metadata": {},
     "output_type": "execute_result"
    },
    {
     "data": {
      "image/png": "[encoded data removed]",
      "text/plain": [
       "<Figure size 640x480 with 1 Axes>"
      ]
     },
     "metadata": {},
     "output_type": "display_data"
    }
   ],
   "source": [
    "plt.plot(d.read_at, d.a)\n",
    "plt.title(\"Current\")"
   ]
  },
  {
   "cell_type": "code",
   "execution_count": 32,
   "id": "1c889899",
   "metadata": {},
   "outputs": [
    {
     "data": {
      "text/plain": [
       "Text(0.5, 1.0, 'Voltage')"
      ]
     },
     "execution_count": 32,
     "metadata": {},
     "output_type": "execute_result"
    },
    {
     "data": {
      "image/png": "[encoded data removed]",
      "text/plain": [
       "<Figure size 640x480 with 1 Axes>"
      ]
     },
     "metadata": {},
     "output_type": "display_data"
    }
   ],
   "source": [
    "plt.plot(d.read_at, d.v)\n",
    "plt.title(\"Voltage\")"
   ]
  },
  {
   "cell_type": "code",
   "execution_count": 33,
   "id": "6c3eec1e",
   "metadata": {},
   "outputs": [
    {
     "data": {
      "text/plain": [
       "np.float64(13.83473712420001)"
      ]
     },
     "execution_count": 33,
     "metadata": {},
     "output_type": "execute_result"
    }
   ],
   "source": [
    "from scipy import integrate\n",
    "\n",
    "time_data = (d.read_at - d.read_at.iloc[0]).dt.total_seconds()\n",
    "current_data = d.a.to_numpy()\n",
    "total_current = integrate.trapezoid(current_data, time_data)\n",
    "total_current #A in timespan"
   ]
  },
  {
   "cell_type": "code",
   "execution_count": 34,
   "id": "336bdbc4",
   "metadata": {},
   "outputs": [
    {
     "data": {
      "text/plain": [
       "239.987592"
      ]
     },
     "execution_count": 34,
     "metadata": {},
     "output_type": "execute_result"
    }
   ],
   "source": [
    "time_span = max(time_data)\n",
    "time_span #seg"
   ]
  },
  {
   "cell_type": "code",
   "execution_count": 35,
   "id": "e4cc029d",
   "metadata": {},
   "outputs": [
    {
     "data": {
      "text/plain": [
       "np.float64(0.05764771840454156)"
      ]
     },
     "execution_count": 35,
     "metadata": {},
     "output_type": "execute_result"
    }
   ],
   "source": [
    "avg_current = total_current / time_span\n",
    "avg_current #A"
   ]
  },
  {
   "cell_type": "markdown",
   "id": "70598578-fa7b-43a4-a35e-eabe13ca8fb1",
   "metadata": {},
   "source": [
    "## Expected runtime using batteries"
   ]
  },
  {
   "cell_type": "code",
   "execution_count": 36,
   "id": "6d075128",
   "metadata": {},
   "outputs": [
    {
     "name": "stdout",
     "output_type": "stream",
     "text": [
      "At 0.80Ah:\t13.9 hours,\t0.58 days\n",
      "At 2.00Ah:\t34.7 hours,\t1.45 days\n",
      "At 4.00Ah:\t69.4 hours,\t2.89 days\n",
      "At 10.00Ah:\t173.5 hours,\t7.23 days\n"
     ]
    }
   ],
   "source": [
    "for bat_usable_cap in batteries: #Amp hour\n",
    "    runtime = bat_usable_cap / avg_current\n",
    "    print(f\"At {bat_usable_cap:.02f}Ah:\\t{runtime:.01f} hours,\\t{runtime/24:.02f} days\")"
   ]
  }
 ],
 "metadata": {
  "kernelspec": {
   "display_name": "Python 3 (ipykernel)",
   "language": "python",
   "name": "python3"
  },
  "language_info": {
   "codemirror_mode": {
    "name": "ipython",
    "version": 3
   },
   "file_extension": ".py",
   "mimetype": "text/x-python",
   "name": "python",
   "nbconvert_exporter": "python",
   "pygments_lexer": "ipython3",
   "version": "3.10.16"
  }
 },
 "nbformat": 4,
 "nbformat_minor": 5
}
