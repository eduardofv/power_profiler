{
 "cells": [
  {
   "cell_type": "markdown",
   "id": "a12a46fd-4b4d-4e99-9c01-6622edff4c35",
   "metadata": {},
   "source": [
    "# DeepSleep \n",
    "## v1\n",
    "\n",
    "- board\n",
    "- r (run duration)\n",
    "- ds (deep sleep duration)\n",
    "- TX (test version)\n",
    "\n",
    "## T1\n",
    "Muestreado por 60 seg a 10ms de resolucion"
   ]
  },
  {
   "cell_type": "code",
   "execution_count": 1,
   "id": "1e079e8c-7ef6-4927-8d64-d58258365d47",
   "metadata": {},
   "outputs": [],
   "source": [
    "board=\"nodemcu\"\n",
    "r = 10\n",
    "ds = 30\n",
    "TX = 1\n",
    "\n",
    "batteries = [0.8, 2, 4, 10] #Ah"
   ]
  },
  {
   "cell_type": "code",
   "execution_count": 2,
   "id": "a7478314",
   "metadata": {},
   "outputs": [
    {
     "data": {
      "text/html": [
       "<div>\n",
       "<style scoped>\n",
       "    .dataframe tbody tr th:only-of-type {\n",
       "        vertical-align: middle;\n",
       "    }\n",
       "\n",
       "    .dataframe tbody tr th {\n",
       "        vertical-align: top;\n",
       "    }\n",
       "\n",
       "    .dataframe thead th {\n",
       "        text-align: right;\n",
       "    }\n",
       "</style>\n",
       "<table border=\"1\" class=\"dataframe\">\n",
       "  <thead>\n",
       "    <tr style=\"text-align: right;\">\n",
       "      <th></th>\n",
       "      <th>index</th>\n",
       "      <th>read_at</th>\n",
       "      <th>millis</th>\n",
       "      <th>dt</th>\n",
       "      <th>v</th>\n",
       "      <th>a</th>\n",
       "      <th>w</th>\n",
       "      <th>v_sh</th>\n",
       "    </tr>\n",
       "  </thead>\n",
       "  <tbody>\n",
       "    <tr>\n",
       "      <th>0</th>\n",
       "      <td>0</td>\n",
       "      <td>2025-02-28 15:09:53.709425</td>\n",
       "      <td>73600</td>\n",
       "      <td>2025-02-28 15:09:53</td>\n",
       "      <td>5.096</td>\n",
       "      <td>0.0100</td>\n",
       "      <td>0.05096</td>\n",
       "      <td>0.00100</td>\n",
       "    </tr>\n",
       "    <tr>\n",
       "      <th>1</th>\n",
       "      <td>1</td>\n",
       "      <td>2025-02-28 15:09:53.720429</td>\n",
       "      <td>473612</td>\n",
       "      <td>2025-02-28 15:09:53</td>\n",
       "      <td>5.096</td>\n",
       "      <td>0.0100</td>\n",
       "      <td>0.05096</td>\n",
       "      <td>0.00100</td>\n",
       "    </tr>\n",
       "    <tr>\n",
       "      <th>2</th>\n",
       "      <td>2</td>\n",
       "      <td>2025-02-28 15:09:53.730039</td>\n",
       "      <td>473622</td>\n",
       "      <td>2025-02-28 15:09:53</td>\n",
       "      <td>5.096</td>\n",
       "      <td>0.0100</td>\n",
       "      <td>0.05096</td>\n",
       "      <td>0.00100</td>\n",
       "    </tr>\n",
       "    <tr>\n",
       "      <th>3</th>\n",
       "      <td>3</td>\n",
       "      <td>2025-02-28 15:09:53.741948</td>\n",
       "      <td>473633</td>\n",
       "      <td>2025-02-28 15:09:53</td>\n",
       "      <td>5.096</td>\n",
       "      <td>0.0100</td>\n",
       "      <td>0.05096</td>\n",
       "      <td>0.00100</td>\n",
       "    </tr>\n",
       "    <tr>\n",
       "      <th>4</th>\n",
       "      <td>4</td>\n",
       "      <td>2025-02-28 15:09:53.753320</td>\n",
       "      <td>473644</td>\n",
       "      <td>2025-02-28 15:09:53</td>\n",
       "      <td>5.096</td>\n",
       "      <td>0.0100</td>\n",
       "      <td>0.05096</td>\n",
       "      <td>0.00100</td>\n",
       "    </tr>\n",
       "    <tr>\n",
       "      <th>...</th>\n",
       "      <td>...</td>\n",
       "      <td>...</td>\n",
       "      <td>...</td>\n",
       "      <td>...</td>\n",
       "      <td>...</td>\n",
       "      <td>...</td>\n",
       "      <td>...</td>\n",
       "      <td>...</td>\n",
       "    </tr>\n",
       "    <tr>\n",
       "      <th>10500</th>\n",
       "      <td>10500</td>\n",
       "      <td>2025-02-28 15:11:53.660089</td>\n",
       "      <td>593547</td>\n",
       "      <td>2025-02-28 15:11:53</td>\n",
       "      <td>5.056</td>\n",
       "      <td>0.0808</td>\n",
       "      <td>0.40852</td>\n",
       "      <td>0.00808</td>\n",
       "    </tr>\n",
       "    <tr>\n",
       "      <th>10501</th>\n",
       "      <td>10501</td>\n",
       "      <td>2025-02-28 15:11:53.670305</td>\n",
       "      <td>593557</td>\n",
       "      <td>2025-02-28 15:11:53</td>\n",
       "      <td>5.056</td>\n",
       "      <td>0.0812</td>\n",
       "      <td>0.41055</td>\n",
       "      <td>0.00812</td>\n",
       "    </tr>\n",
       "    <tr>\n",
       "      <th>10502</th>\n",
       "      <td>10502</td>\n",
       "      <td>2025-02-28 15:11:53.682199</td>\n",
       "      <td>593569</td>\n",
       "      <td>2025-02-28 15:11:53</td>\n",
       "      <td>5.056</td>\n",
       "      <td>0.0808</td>\n",
       "      <td>0.40852</td>\n",
       "      <td>0.00808</td>\n",
       "    </tr>\n",
       "    <tr>\n",
       "      <th>10503</th>\n",
       "      <td>10503</td>\n",
       "      <td>2025-02-28 15:11:53.692348</td>\n",
       "      <td>593579</td>\n",
       "      <td>2025-02-28 15:11:53</td>\n",
       "      <td>5.056</td>\n",
       "      <td>0.0808</td>\n",
       "      <td>0.40852</td>\n",
       "      <td>0.00808</td>\n",
       "    </tr>\n",
       "    <tr>\n",
       "      <th>10504</th>\n",
       "      <td>10504</td>\n",
       "      <td>2025-02-28 15:11:53.703253</td>\n",
       "      <td>593590</td>\n",
       "      <td>2025-02-28 15:11:53</td>\n",
       "      <td>5.056</td>\n",
       "      <td>0.0812</td>\n",
       "      <td>0.41055</td>\n",
       "      <td>0.00812</td>\n",
       "    </tr>\n",
       "  </tbody>\n",
       "</table>\n",
       "<p>10505 rows × 8 columns</p>\n",
       "</div>"
      ],
      "text/plain": [
       "       index                    read_at  millis                  dt      v  \\\n",
       "0          0 2025-02-28 15:09:53.709425   73600 2025-02-28 15:09:53  5.096   \n",
       "1          1 2025-02-28 15:09:53.720429  473612 2025-02-28 15:09:53  5.096   \n",
       "2          2 2025-02-28 15:09:53.730039  473622 2025-02-28 15:09:53  5.096   \n",
       "3          3 2025-02-28 15:09:53.741948  473633 2025-02-28 15:09:53  5.096   \n",
       "4          4 2025-02-28 15:09:53.753320  473644 2025-02-28 15:09:53  5.096   \n",
       "...      ...                        ...     ...                 ...    ...   \n",
       "10500  10500 2025-02-28 15:11:53.660089  593547 2025-02-28 15:11:53  5.056   \n",
       "10501  10501 2025-02-28 15:11:53.670305  593557 2025-02-28 15:11:53  5.056   \n",
       "10502  10502 2025-02-28 15:11:53.682199  593569 2025-02-28 15:11:53  5.056   \n",
       "10503  10503 2025-02-28 15:11:53.692348  593579 2025-02-28 15:11:53  5.056   \n",
       "10504  10504 2025-02-28 15:11:53.703253  593590 2025-02-28 15:11:53  5.056   \n",
       "\n",
       "            a        w     v_sh  \n",
       "0      0.0100  0.05096  0.00100  \n",
       "1      0.0100  0.05096  0.00100  \n",
       "2      0.0100  0.05096  0.00100  \n",
       "3      0.0100  0.05096  0.00100  \n",
       "4      0.0100  0.05096  0.00100  \n",
       "...       ...      ...      ...  \n",
       "10500  0.0808  0.40852  0.00808  \n",
       "10501  0.0812  0.41055  0.00812  \n",
       "10502  0.0808  0.40852  0.00808  \n",
       "10503  0.0808  0.40852  0.00808  \n",
       "10504  0.0812  0.41055  0.00812  \n",
       "\n",
       "[10505 rows x 8 columns]"
      ]
     },
     "execution_count": 2,
     "metadata": {},
     "output_type": "execute_result"
    }
   ],
   "source": [
    "import pandas as pd\n",
    "import matplotlib.pyplot as plt\n",
    "\n",
    "filename = f\"../data/dslp--{board}_r{r}_ds{ds}-T{TX}.csv\"\n",
    "\n",
    "df = pd.read_csv(filename, parse_dates=[\"read_at\", \"timestamp\"])\n",
    "\n",
    "df.columns = ['index','read_at', 'millis', \"dt\", \"v\", \"a\", \"w\", \"v_sh\"]\n",
    "df"
   ]
  },
  {
   "cell_type": "code",
   "execution_count": 3,
   "id": "98b6ec92",
   "metadata": {},
   "outputs": [
    {
     "data": {
      "text/html": [
       "<div>\n",
       "<style scoped>\n",
       "    .dataframe tbody tr th:only-of-type {\n",
       "        vertical-align: middle;\n",
       "    }\n",
       "\n",
       "    .dataframe tbody tr th {\n",
       "        vertical-align: top;\n",
       "    }\n",
       "\n",
       "    .dataframe thead th {\n",
       "        text-align: right;\n",
       "    }\n",
       "</style>\n",
       "<table border=\"1\" class=\"dataframe\">\n",
       "  <thead>\n",
       "    <tr style=\"text-align: right;\">\n",
       "      <th></th>\n",
       "      <th>index</th>\n",
       "      <th>read_at</th>\n",
       "      <th>millis</th>\n",
       "      <th>dt</th>\n",
       "      <th>v</th>\n",
       "      <th>a</th>\n",
       "      <th>w</th>\n",
       "      <th>v_sh</th>\n",
       "    </tr>\n",
       "  </thead>\n",
       "  <tbody>\n",
       "    <tr>\n",
       "      <th>0</th>\n",
       "      <td>0</td>\n",
       "      <td>2025-02-28 15:09:53.709425</td>\n",
       "      <td>73600</td>\n",
       "      <td>2025-02-28 15:09:53</td>\n",
       "      <td>5.096</td>\n",
       "      <td>0.0100</td>\n",
       "      <td>0.05096</td>\n",
       "      <td>0.00100</td>\n",
       "    </tr>\n",
       "    <tr>\n",
       "      <th>1</th>\n",
       "      <td>1</td>\n",
       "      <td>2025-02-28 15:09:53.720429</td>\n",
       "      <td>473612</td>\n",
       "      <td>2025-02-28 15:09:53</td>\n",
       "      <td>5.096</td>\n",
       "      <td>0.0100</td>\n",
       "      <td>0.05096</td>\n",
       "      <td>0.00100</td>\n",
       "    </tr>\n",
       "    <tr>\n",
       "      <th>2</th>\n",
       "      <td>2</td>\n",
       "      <td>2025-02-28 15:09:53.730039</td>\n",
       "      <td>473622</td>\n",
       "      <td>2025-02-28 15:09:53</td>\n",
       "      <td>5.096</td>\n",
       "      <td>0.0100</td>\n",
       "      <td>0.05096</td>\n",
       "      <td>0.00100</td>\n",
       "    </tr>\n",
       "    <tr>\n",
       "      <th>3</th>\n",
       "      <td>3</td>\n",
       "      <td>2025-02-28 15:09:53.741948</td>\n",
       "      <td>473633</td>\n",
       "      <td>2025-02-28 15:09:53</td>\n",
       "      <td>5.096</td>\n",
       "      <td>0.0100</td>\n",
       "      <td>0.05096</td>\n",
       "      <td>0.00100</td>\n",
       "    </tr>\n",
       "    <tr>\n",
       "      <th>4</th>\n",
       "      <td>4</td>\n",
       "      <td>2025-02-28 15:09:53.753320</td>\n",
       "      <td>473644</td>\n",
       "      <td>2025-02-28 15:09:53</td>\n",
       "      <td>5.096</td>\n",
       "      <td>0.0100</td>\n",
       "      <td>0.05096</td>\n",
       "      <td>0.00100</td>\n",
       "    </tr>\n",
       "    <tr>\n",
       "      <th>...</th>\n",
       "      <td>...</td>\n",
       "      <td>...</td>\n",
       "      <td>...</td>\n",
       "      <td>...</td>\n",
       "      <td>...</td>\n",
       "      <td>...</td>\n",
       "      <td>...</td>\n",
       "      <td>...</td>\n",
       "    </tr>\n",
       "    <tr>\n",
       "      <th>10500</th>\n",
       "      <td>10500</td>\n",
       "      <td>2025-02-28 15:11:53.660089</td>\n",
       "      <td>593547</td>\n",
       "      <td>2025-02-28 15:11:53</td>\n",
       "      <td>5.056</td>\n",
       "      <td>0.0808</td>\n",
       "      <td>0.40852</td>\n",
       "      <td>0.00808</td>\n",
       "    </tr>\n",
       "    <tr>\n",
       "      <th>10501</th>\n",
       "      <td>10501</td>\n",
       "      <td>2025-02-28 15:11:53.670305</td>\n",
       "      <td>593557</td>\n",
       "      <td>2025-02-28 15:11:53</td>\n",
       "      <td>5.056</td>\n",
       "      <td>0.0812</td>\n",
       "      <td>0.41055</td>\n",
       "      <td>0.00812</td>\n",
       "    </tr>\n",
       "    <tr>\n",
       "      <th>10502</th>\n",
       "      <td>10502</td>\n",
       "      <td>2025-02-28 15:11:53.682199</td>\n",
       "      <td>593569</td>\n",
       "      <td>2025-02-28 15:11:53</td>\n",
       "      <td>5.056</td>\n",
       "      <td>0.0808</td>\n",
       "      <td>0.40852</td>\n",
       "      <td>0.00808</td>\n",
       "    </tr>\n",
       "    <tr>\n",
       "      <th>10503</th>\n",
       "      <td>10503</td>\n",
       "      <td>2025-02-28 15:11:53.692348</td>\n",
       "      <td>593579</td>\n",
       "      <td>2025-02-28 15:11:53</td>\n",
       "      <td>5.056</td>\n",
       "      <td>0.0808</td>\n",
       "      <td>0.40852</td>\n",
       "      <td>0.00808</td>\n",
       "    </tr>\n",
       "    <tr>\n",
       "      <th>10504</th>\n",
       "      <td>10504</td>\n",
       "      <td>2025-02-28 15:11:53.703253</td>\n",
       "      <td>593590</td>\n",
       "      <td>2025-02-28 15:11:53</td>\n",
       "      <td>5.056</td>\n",
       "      <td>0.0812</td>\n",
       "      <td>0.41055</td>\n",
       "      <td>0.00812</td>\n",
       "    </tr>\n",
       "  </tbody>\n",
       "</table>\n",
       "<p>10505 rows × 8 columns</p>\n",
       "</div>"
      ],
      "text/plain": [
       "       index                    read_at  millis                  dt      v  \\\n",
       "0          0 2025-02-28 15:09:53.709425   73600 2025-02-28 15:09:53  5.096   \n",
       "1          1 2025-02-28 15:09:53.720429  473612 2025-02-28 15:09:53  5.096   \n",
       "2          2 2025-02-28 15:09:53.730039  473622 2025-02-28 15:09:53  5.096   \n",
       "3          3 2025-02-28 15:09:53.741948  473633 2025-02-28 15:09:53  5.096   \n",
       "4          4 2025-02-28 15:09:53.753320  473644 2025-02-28 15:09:53  5.096   \n",
       "...      ...                        ...     ...                 ...    ...   \n",
       "10500  10500 2025-02-28 15:11:53.660089  593547 2025-02-28 15:11:53  5.056   \n",
       "10501  10501 2025-02-28 15:11:53.670305  593557 2025-02-28 15:11:53  5.056   \n",
       "10502  10502 2025-02-28 15:11:53.682199  593569 2025-02-28 15:11:53  5.056   \n",
       "10503  10503 2025-02-28 15:11:53.692348  593579 2025-02-28 15:11:53  5.056   \n",
       "10504  10504 2025-02-28 15:11:53.703253  593590 2025-02-28 15:11:53  5.056   \n",
       "\n",
       "            a        w     v_sh  \n",
       "0      0.0100  0.05096  0.00100  \n",
       "1      0.0100  0.05096  0.00100  \n",
       "2      0.0100  0.05096  0.00100  \n",
       "3      0.0100  0.05096  0.00100  \n",
       "4      0.0100  0.05096  0.00100  \n",
       "...       ...      ...      ...  \n",
       "10500  0.0808  0.40852  0.00808  \n",
       "10501  0.0812  0.41055  0.00812  \n",
       "10502  0.0808  0.40852  0.00808  \n",
       "10503  0.0808  0.40852  0.00808  \n",
       "10504  0.0812  0.41055  0.00812  \n",
       "\n",
       "[10505 rows x 8 columns]"
      ]
     },
     "execution_count": 3,
     "metadata": {},
     "output_type": "execute_result"
    }
   ],
   "source": [
    "#remove the trailing data before reset\n",
    "d = df#[df.millis.idxmin():]\n",
    "d"
   ]
  },
  {
   "cell_type": "code",
   "execution_count": 4,
   "id": "2517c444",
   "metadata": {},
   "outputs": [
    {
     "data": {
      "text/plain": [
       "Text(0.5, 1.0, 'Current')"
      ]
     },
     "execution_count": 4,
     "metadata": {},
     "output_type": "execute_result"
    },
    {
     "data": {
      "image/png": "[encoded data removed]",
      "text/plain": [
       "<Figure size 640x480 with 1 Axes>"
      ]
     },
     "metadata": {},
     "output_type": "display_data"
    }
   ],
   "source": [
    "plt.plot(d.read_at, d.a)\n",
    "plt.title(\"Current\")"
   ]
  },
  {
   "cell_type": "code",
   "execution_count": 5,
   "id": "1c889899",
   "metadata": {},
   "outputs": [
    {
     "data": {
      "text/plain": [
       "Text(0.5, 1.0, 'Voltage')"
      ]
     },
     "execution_count": 5,
     "metadata": {},
     "output_type": "execute_result"
    },
    {
     "data": {
      "image/png": "[encoded data removed]",
      "text/plain": [
       "<Figure size 640x480 with 1 Axes>"
      ]
     },
     "metadata": {},
     "output_type": "display_data"
    }
   ],
   "source": [
    "plt.plot(d.read_at, d.v)\n",
    "plt.title(\"Voltage\")"
   ]
  },
  {
   "cell_type": "code",
   "execution_count": 6,
   "id": "6c3eec1e",
   "metadata": {},
   "outputs": [
    {
     "data": {
      "text/plain": [
       "np.float64(4.1277643002)"
      ]
     },
     "execution_count": 6,
     "metadata": {},
     "output_type": "execute_result"
    }
   ],
   "source": [
    "from scipy import integrate\n",
    "\n",
    "time_data = (d.read_at - d.read_at.iloc[0]).dt.total_seconds()\n",
    "current_data = d.a.to_numpy()\n",
    "total_current = integrate.trapezoid(current_data, time_data)\n",
    "total_current #A in timespan"
   ]
  },
  {
   "cell_type": "code",
   "execution_count": 7,
   "id": "336bdbc4",
   "metadata": {},
   "outputs": [
    {
     "data": {
      "text/plain": [
       "119.993828"
      ]
     },
     "execution_count": 7,
     "metadata": {},
     "output_type": "execute_result"
    }
   ],
   "source": [
    "time_span = max(time_data)\n",
    "time_span #seg"
   ]
  },
  {
   "cell_type": "code",
   "execution_count": 8,
   "id": "e4cc029d",
   "metadata": {},
   "outputs": [
    {
     "data": {
      "text/plain": [
       "np.float64(0.03439980513164394)"
      ]
     },
     "execution_count": 8,
     "metadata": {},
     "output_type": "execute_result"
    }
   ],
   "source": [
    "avg_current = total_current / time_span\n",
    "avg_current #A"
   ]
  },
  {
   "cell_type": "markdown",
   "id": "70598578-fa7b-43a4-a35e-eabe13ca8fb1",
   "metadata": {},
   "source": [
    "## Expected runtime using batteries"
   ]
  },
  {
   "cell_type": "code",
   "execution_count": 9,
   "id": "6d075128",
   "metadata": {},
   "outputs": [
    {
     "name": "stdout",
     "output_type": "stream",
     "text": [
      "At 0.80Ah:\t23.3 hours,\t0.97 days\n",
      "At 2.00Ah:\t58.1 hours,\t2.42 days\n",
      "At 4.00Ah:\t116.3 hours,\t4.84 days\n",
      "At 10.00Ah:\t290.7 hours,\t12.11 days\n"
     ]
    }
   ],
   "source": [
    "for bat_usable_cap in batteries: #Amp hour\n",
    "    runtime = bat_usable_cap / avg_current\n",
    "    print(f\"At {bat_usable_cap:.02f}Ah:\\t{runtime:.01f} hours,\\t{runtime/24:.02f} days\")"
   ]
  }
 ],
 "metadata": {
  "kernelspec": {
   "display_name": "Python 3 (ipykernel)",
   "language": "python",
   "name": "python3"
  },
  "language_info": {
   "codemirror_mode": {
    "name": "ipython",
    "version": 3
   },
   "file_extension": ".py",
   "mimetype": "text/x-python",
   "name": "python",
   "nbconvert_exporter": "python",
   "pygments_lexer": "ipython3",
   "version": "3.10.16"
  }
 },
 "nbformat": 4,
 "nbformat_minor": 5
}
