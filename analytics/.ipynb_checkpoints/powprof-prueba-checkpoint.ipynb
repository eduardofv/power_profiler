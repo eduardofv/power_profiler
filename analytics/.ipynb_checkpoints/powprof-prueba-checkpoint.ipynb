{
 "cells": [
  {
   "cell_type": "code",
   "execution_count": 223,
   "id": "a7478314",
   "metadata": {},
   "outputs": [
    {
     "data": {
      "text/html": [
       "<div>\n",
       "<style scoped>\n",
       "    .dataframe tbody tr th:only-of-type {\n",
       "        vertical-align: middle;\n",
       "    }\n",
       "\n",
       "    .dataframe tbody tr th {\n",
       "        vertical-align: top;\n",
       "    }\n",
       "\n",
       "    .dataframe thead th {\n",
       "        text-align: right;\n",
       "    }\n",
       "</style>\n",
       "<table border=\"1\" class=\"dataframe\">\n",
       "  <thead>\n",
       "    <tr style=\"text-align: right;\">\n",
       "      <th></th>\n",
       "      <th>index</th>\n",
       "      <th>millis</th>\n",
       "      <th>dt</th>\n",
       "      <th>v</th>\n",
       "      <th>a</th>\n",
       "      <th>w</th>\n",
       "      <th>v_sh</th>\n",
       "    </tr>\n",
       "  </thead>\n",
       "  <tbody>\n",
       "    <tr>\n",
       "      <th>0</th>\n",
       "      <td>0</td>\n",
       "      <td>193</td>\n",
       "      <td>1970-01-01 00:00:00</td>\n",
       "      <td>0.976</td>\n",
       "      <td>0.1364</td>\n",
       "      <td>0.13313</td>\n",
       "      <td>0.01364</td>\n",
       "    </tr>\n",
       "    <tr>\n",
       "      <th>1</th>\n",
       "      <td>1</td>\n",
       "      <td>259</td>\n",
       "      <td>1970-01-01 00:00:00</td>\n",
       "      <td>0.976</td>\n",
       "      <td>0.1364</td>\n",
       "      <td>0.13313</td>\n",
       "      <td>0.01364</td>\n",
       "    </tr>\n",
       "    <tr>\n",
       "      <th>2</th>\n",
       "      <td>2</td>\n",
       "      <td>359</td>\n",
       "      <td>1970-01-01 00:00:00</td>\n",
       "      <td>0.976</td>\n",
       "      <td>0.1364</td>\n",
       "      <td>0.13313</td>\n",
       "      <td>0.01364</td>\n",
       "    </tr>\n",
       "    <tr>\n",
       "      <th>3</th>\n",
       "      <td>3</td>\n",
       "      <td>459</td>\n",
       "      <td>1970-01-01 00:00:00</td>\n",
       "      <td>0.976</td>\n",
       "      <td>0.1364</td>\n",
       "      <td>0.13313</td>\n",
       "      <td>0.01364</td>\n",
       "    </tr>\n",
       "    <tr>\n",
       "      <th>4</th>\n",
       "      <td>4</td>\n",
       "      <td>559</td>\n",
       "      <td>1970-01-01 00:00:00</td>\n",
       "      <td>0.976</td>\n",
       "      <td>0.1364</td>\n",
       "      <td>0.13313</td>\n",
       "      <td>0.01364</td>\n",
       "    </tr>\n",
       "    <tr>\n",
       "      <th>...</th>\n",
       "      <td>...</td>\n",
       "      <td>...</td>\n",
       "      <td>...</td>\n",
       "      <td>...</td>\n",
       "      <td>...</td>\n",
       "      <td>...</td>\n",
       "      <td>...</td>\n",
       "    </tr>\n",
       "    <tr>\n",
       "      <th>8079</th>\n",
       "      <td>8079</td>\n",
       "      <td>808859</td>\n",
       "      <td>2025-02-06 18:29:37</td>\n",
       "      <td>0.952</td>\n",
       "      <td>0.1348</td>\n",
       "      <td>0.12833</td>\n",
       "      <td>0.01348</td>\n",
       "    </tr>\n",
       "    <tr>\n",
       "      <th>8080</th>\n",
       "      <td>8080</td>\n",
       "      <td>808986</td>\n",
       "      <td>2025-02-06 18:29:37</td>\n",
       "      <td>0.952</td>\n",
       "      <td>0.1348</td>\n",
       "      <td>0.12833</td>\n",
       "      <td>0.01348</td>\n",
       "    </tr>\n",
       "    <tr>\n",
       "      <th>8081</th>\n",
       "      <td>8081</td>\n",
       "      <td>809059</td>\n",
       "      <td>2025-02-06 18:29:37</td>\n",
       "      <td>0.952</td>\n",
       "      <td>0.1348</td>\n",
       "      <td>0.12833</td>\n",
       "      <td>0.01348</td>\n",
       "    </tr>\n",
       "    <tr>\n",
       "      <th>8082</th>\n",
       "      <td>8082</td>\n",
       "      <td>809162</td>\n",
       "      <td>2025-02-06 18:29:37</td>\n",
       "      <td>0.952</td>\n",
       "      <td>0.1348</td>\n",
       "      <td>0.12833</td>\n",
       "      <td>0.01348</td>\n",
       "    </tr>\n",
       "    <tr>\n",
       "      <th>8083</th>\n",
       "      <td>8083</td>\n",
       "      <td>809261</td>\n",
       "      <td>2025-02-06 18:29:37</td>\n",
       "      <td>0.952</td>\n",
       "      <td>0.1348</td>\n",
       "      <td>0.12833</td>\n",
       "      <td>0.01348</td>\n",
       "    </tr>\n",
       "  </tbody>\n",
       "</table>\n",
       "<p>8084 rows × 7 columns</p>\n",
       "</div>"
      ],
      "text/plain": [
       "      index  millis                   dt      v       a        w     v_sh\n",
       "0         0     193  1970-01-01 00:00:00  0.976  0.1364  0.13313  0.01364\n",
       "1         1     259  1970-01-01 00:00:00  0.976  0.1364  0.13313  0.01364\n",
       "2         2     359  1970-01-01 00:00:00  0.976  0.1364  0.13313  0.01364\n",
       "3         3     459  1970-01-01 00:00:00  0.976  0.1364  0.13313  0.01364\n",
       "4         4     559  1970-01-01 00:00:00  0.976  0.1364  0.13313  0.01364\n",
       "...     ...     ...                  ...    ...     ...      ...      ...\n",
       "8079   8079  808859  2025-02-06 18:29:37  0.952  0.1348  0.12833  0.01348\n",
       "8080   8080  808986  2025-02-06 18:29:37  0.952  0.1348  0.12833  0.01348\n",
       "8081   8081  809059  2025-02-06 18:29:37  0.952  0.1348  0.12833  0.01348\n",
       "8082   8082  809162  2025-02-06 18:29:37  0.952  0.1348  0.12833  0.01348\n",
       "8083   8083  809261  2025-02-06 18:29:37  0.952  0.1348  0.12833  0.01348\n",
       "\n",
       "[8084 rows x 7 columns]"
      ]
     },
     "execution_count": 223,
     "metadata": {},
     "output_type": "execute_result"
    }
   ],
   "source": [
    "import pandas as pd\n",
    "import matplotlib.pyplot as plt \n",
    "\n",
    "df = pd.read_csv(\"../app/bat_aa_900mAh_t1.csv\")\n",
    "#df = pd.read_csv(\"../app/nodemcu-10_10-t1.csv\")\n",
    "#df = pd.read_csv(\"../app/led-t1.csv\")\n",
    "\n",
    "df.columns = ['index','millis', \"dt\", \"v\", \"a\", \"w\",\"v_sh\"]\n",
    "df"
   ]
  },
  {
   "cell_type": "code",
   "execution_count": 224,
   "id": "98b6ec92",
   "metadata": {},
   "outputs": [
    {
     "data": {
      "text/html": [
       "<div>\n",
       "<style scoped>\n",
       "    .dataframe tbody tr th:only-of-type {\n",
       "        vertical-align: middle;\n",
       "    }\n",
       "\n",
       "    .dataframe tbody tr th {\n",
       "        vertical-align: top;\n",
       "    }\n",
       "\n",
       "    .dataframe thead th {\n",
       "        text-align: right;\n",
       "    }\n",
       "</style>\n",
       "<table border=\"1\" class=\"dataframe\">\n",
       "  <thead>\n",
       "    <tr style=\"text-align: right;\">\n",
       "      <th></th>\n",
       "      <th>index</th>\n",
       "      <th>millis</th>\n",
       "      <th>dt</th>\n",
       "      <th>v</th>\n",
       "      <th>a</th>\n",
       "      <th>w</th>\n",
       "      <th>v_sh</th>\n",
       "    </tr>\n",
       "  </thead>\n",
       "  <tbody>\n",
       "    <tr>\n",
       "      <th>0</th>\n",
       "      <td>0</td>\n",
       "      <td>193</td>\n",
       "      <td>1970-01-01 00:00:00</td>\n",
       "      <td>0.976</td>\n",
       "      <td>0.1364</td>\n",
       "      <td>0.13313</td>\n",
       "      <td>0.01364</td>\n",
       "    </tr>\n",
       "    <tr>\n",
       "      <th>1</th>\n",
       "      <td>1</td>\n",
       "      <td>259</td>\n",
       "      <td>1970-01-01 00:00:00</td>\n",
       "      <td>0.976</td>\n",
       "      <td>0.1364</td>\n",
       "      <td>0.13313</td>\n",
       "      <td>0.01364</td>\n",
       "    </tr>\n",
       "    <tr>\n",
       "      <th>2</th>\n",
       "      <td>2</td>\n",
       "      <td>359</td>\n",
       "      <td>1970-01-01 00:00:00</td>\n",
       "      <td>0.976</td>\n",
       "      <td>0.1364</td>\n",
       "      <td>0.13313</td>\n",
       "      <td>0.01364</td>\n",
       "    </tr>\n",
       "    <tr>\n",
       "      <th>3</th>\n",
       "      <td>3</td>\n",
       "      <td>459</td>\n",
       "      <td>1970-01-01 00:00:00</td>\n",
       "      <td>0.976</td>\n",
       "      <td>0.1364</td>\n",
       "      <td>0.13313</td>\n",
       "      <td>0.01364</td>\n",
       "    </tr>\n",
       "    <tr>\n",
       "      <th>4</th>\n",
       "      <td>4</td>\n",
       "      <td>559</td>\n",
       "      <td>1970-01-01 00:00:00</td>\n",
       "      <td>0.976</td>\n",
       "      <td>0.1364</td>\n",
       "      <td>0.13313</td>\n",
       "      <td>0.01364</td>\n",
       "    </tr>\n",
       "    <tr>\n",
       "      <th>...</th>\n",
       "      <td>...</td>\n",
       "      <td>...</td>\n",
       "      <td>...</td>\n",
       "      <td>...</td>\n",
       "      <td>...</td>\n",
       "      <td>...</td>\n",
       "      <td>...</td>\n",
       "    </tr>\n",
       "    <tr>\n",
       "      <th>8079</th>\n",
       "      <td>8079</td>\n",
       "      <td>808859</td>\n",
       "      <td>2025-02-06 18:29:37</td>\n",
       "      <td>0.952</td>\n",
       "      <td>0.1348</td>\n",
       "      <td>0.12833</td>\n",
       "      <td>0.01348</td>\n",
       "    </tr>\n",
       "    <tr>\n",
       "      <th>8080</th>\n",
       "      <td>8080</td>\n",
       "      <td>808986</td>\n",
       "      <td>2025-02-06 18:29:37</td>\n",
       "      <td>0.952</td>\n",
       "      <td>0.1348</td>\n",
       "      <td>0.12833</td>\n",
       "      <td>0.01348</td>\n",
       "    </tr>\n",
       "    <tr>\n",
       "      <th>8081</th>\n",
       "      <td>8081</td>\n",
       "      <td>809059</td>\n",
       "      <td>2025-02-06 18:29:37</td>\n",
       "      <td>0.952</td>\n",
       "      <td>0.1348</td>\n",
       "      <td>0.12833</td>\n",
       "      <td>0.01348</td>\n",
       "    </tr>\n",
       "    <tr>\n",
       "      <th>8082</th>\n",
       "      <td>8082</td>\n",
       "      <td>809162</td>\n",
       "      <td>2025-02-06 18:29:37</td>\n",
       "      <td>0.952</td>\n",
       "      <td>0.1348</td>\n",
       "      <td>0.12833</td>\n",
       "      <td>0.01348</td>\n",
       "    </tr>\n",
       "    <tr>\n",
       "      <th>8083</th>\n",
       "      <td>8083</td>\n",
       "      <td>809261</td>\n",
       "      <td>2025-02-06 18:29:37</td>\n",
       "      <td>0.952</td>\n",
       "      <td>0.1348</td>\n",
       "      <td>0.12833</td>\n",
       "      <td>0.01348</td>\n",
       "    </tr>\n",
       "  </tbody>\n",
       "</table>\n",
       "<p>8084 rows × 7 columns</p>\n",
       "</div>"
      ],
      "text/plain": [
       "      index  millis                   dt      v       a        w     v_sh\n",
       "0         0     193  1970-01-01 00:00:00  0.976  0.1364  0.13313  0.01364\n",
       "1         1     259  1970-01-01 00:00:00  0.976  0.1364  0.13313  0.01364\n",
       "2         2     359  1970-01-01 00:00:00  0.976  0.1364  0.13313  0.01364\n",
       "3         3     459  1970-01-01 00:00:00  0.976  0.1364  0.13313  0.01364\n",
       "4         4     559  1970-01-01 00:00:00  0.976  0.1364  0.13313  0.01364\n",
       "...     ...     ...                  ...    ...     ...      ...      ...\n",
       "8079   8079  808859  2025-02-06 18:29:37  0.952  0.1348  0.12833  0.01348\n",
       "8080   8080  808986  2025-02-06 18:29:37  0.952  0.1348  0.12833  0.01348\n",
       "8081   8081  809059  2025-02-06 18:29:37  0.952  0.1348  0.12833  0.01348\n",
       "8082   8082  809162  2025-02-06 18:29:37  0.952  0.1348  0.12833  0.01348\n",
       "8083   8083  809261  2025-02-06 18:29:37  0.952  0.1348  0.12833  0.01348\n",
       "\n",
       "[8084 rows x 7 columns]"
      ]
     },
     "execution_count": 224,
     "metadata": {},
     "output_type": "execute_result"
    }
   ],
   "source": [
    "#remove the trailing data before reset\n",
    "d = df[df.millis.idxmin():]\n",
    "d"
   ]
  },
  {
   "cell_type": "code",
   "execution_count": 225,
   "id": "2517c444",
   "metadata": {},
   "outputs": [
    {
     "data": {
      "text/plain": [
       "Text(0.5, 1.0, 'Current')"
      ]
     },
     "execution_count": 225,
     "metadata": {},
     "output_type": "execute_result"
    },
    {
     "data": {
      "image/png": "[encoded data removed]",
      "text/plain": [
       "<Figure size 640x480 with 1 Axes>"
      ]
     },
     "metadata": {},
     "output_type": "display_data"
    }
   ],
   "source": [
    "plt.plot(d.millis, d.a)\n",
    "plt.title(\"Current\")"
   ]
  },
  {
   "cell_type": "code",
   "execution_count": 226,
   "id": "1c889899",
   "metadata": {},
   "outputs": [
    {
     "data": {
      "text/plain": [
       "Text(0.5, 1.0, 'Voltage')"
      ]
     },
     "execution_count": 226,
     "metadata": {},
     "output_type": "execute_result"
    },
    {
     "data": {
      "image/png": "[encoded data removed]",
      "text/plain": [
       "<Figure size 640x480 with 1 Axes>"
      ]
     },
     "metadata": {},
     "output_type": "display_data"
    }
   ],
   "source": [
    "plt.plot(d.millis, d.v)\n",
    "plt.title(\"Voltage\")"
   ]
  },
  {
   "cell_type": "code",
   "execution_count": 227,
   "id": "6c3eec1e",
   "metadata": {},
   "outputs": [
    {
     "data": {
      "text/plain": [
       "109.6756212"
      ]
     },
     "execution_count": 227,
     "metadata": {},
     "output_type": "execute_result"
    }
   ],
   "source": [
    "from scipy import integrate\n",
    "\n",
    "total_current = integrate.trapz(d.a, d.millis / 1000.0)\n",
    "total_current"
   ]
  },
  {
   "cell_type": "code",
   "execution_count": 228,
   "id": "336bdbc4",
   "metadata": {},
   "outputs": [
    {
     "data": {
      "text/plain": [
       "809.068"
      ]
     },
     "execution_count": 228,
     "metadata": {},
     "output_type": "execute_result"
    }
   ],
   "source": [
    "time_span = (d.millis.max() - d.millis.min()) / 1000\n",
    "time_span"
   ]
  },
  {
   "cell_type": "code",
   "execution_count": 229,
   "id": "e4cc029d",
   "metadata": {},
   "outputs": [
    {
     "data": {
      "text/plain": [
       "0.13555797683260246"
      ]
     },
     "execution_count": 229,
     "metadata": {},
     "output_type": "execute_result"
    }
   ],
   "source": [
    "avg_current = total_current / time_span\n",
    "avg_current"
   ]
  },
  {
   "cell_type": "code",
   "execution_count": 230,
   "id": "6d075128",
   "metadata": {},
   "outputs": [
    {
     "data": {
      "text/plain": [
       "4.426150448829188"
      ]
     },
     "execution_count": 230,
     "metadata": {},
     "output_type": "execute_result"
    }
   ],
   "source": [
    "bat_usable_cap = 0.6 #Amp hour\n",
    "runtime = bat_usable_cap / avg_current\n",
    "runtime #hours"
   ]
  },
  {
   "cell_type": "markdown",
   "id": "a1da28fc",
   "metadata": {},
   "source": [
    "# etc"
   ]
  },
  {
   "cell_type": "code",
   "execution_count": 231,
   "id": "e10dfc63",
   "metadata": {},
   "outputs": [
    {
     "name": "stdout",
     "output_type": "stream",
     "text": [
      "0.20888888888888887 A\n",
      "0.19635555555555553 W\n",
      "3.829787234042554 hours\n"
     ]
    }
   ],
   "source": [
    "#v = i * r\n",
    "#i = v / r\n",
    "v_bat = 0.94 #volts\n",
    "c_bat = .8 #Ah\n",
    "r = 4.5 #ohms\n",
    "\n",
    "i  = v_bat / r\n",
    "print(f\"{i} A\")\n",
    "p = v_bat * i\n",
    "print(f\"{p} W\")\n",
    "\n",
    "run = c_bat / i\n",
    "print(f\"{run} hours\")"
   ]
  },
  {
   "cell_type": "code",
   "execution_count": 232,
   "id": "bda92ead",
   "metadata": {},
   "outputs": [
    {
     "data": {
      "text/plain": [
       "4.2727272727272725"
      ]
     },
     "execution_count": 232,
     "metadata": {},
     "output_type": "execute_result"
    }
   ],
   "source": [
    "1/((1/47)+(1/4.7))"
   ]
  }
 ],
 "metadata": {
  "kernelspec": {
   "display_name": "py310",
   "language": "python",
   "name": "py310"
  },
  "language_info": {
   "codemirror_mode": {
    "name": "ipython",
    "version": 3
   },
   "file_extension": ".py",
   "mimetype": "text/x-python",
   "name": "python",
   "nbconvert_exporter": "python",
   "pygments_lexer": "ipython3",
   "version": "3.10.6"
  }
 },
 "nbformat": 4,
 "nbformat_minor": 5
}
