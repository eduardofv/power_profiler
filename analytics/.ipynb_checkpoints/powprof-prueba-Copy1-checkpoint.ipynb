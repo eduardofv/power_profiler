{
 "cells": [
  {
   "cell_type": "code",
   "execution_count": 51,
   "id": "a7478314",
   "metadata": {},
   "outputs": [
    {
     "data": {
      "text/html": [
       "<div>\n",
       "<style scoped>\n",
       "    .dataframe tbody tr th:only-of-type {\n",
       "        vertical-align: middle;\n",
       "    }\n",
       "\n",
       "    .dataframe tbody tr th {\n",
       "        vertical-align: top;\n",
       "    }\n",
       "\n",
       "    .dataframe thead th {\n",
       "        text-align: right;\n",
       "    }\n",
       "</style>\n",
       "<table border=\"1\" class=\"dataframe\">\n",
       "  <thead>\n",
       "    <tr style=\"text-align: right;\">\n",
       "      <th></th>\n",
       "      <th>index</th>\n",
       "      <th>read_at</th>\n",
       "      <th>millis</th>\n",
       "      <th>dt</th>\n",
       "      <th>v</th>\n",
       "      <th>a</th>\n",
       "      <th>w</th>\n",
       "      <th>v_sh</th>\n",
       "    </tr>\n",
       "  </thead>\n",
       "  <tbody>\n",
       "    <tr>\n",
       "      <th>0</th>\n",
       "      <td>0</td>\n",
       "      <td>2025-02-06 18:39:57.055511</td>\n",
       "      <td>191</td>\n",
       "      <td>1970-01-01 00:00:00</td>\n",
       "      <td>0.944</td>\n",
       "      <td>0.1336</td>\n",
       "      <td>0.12612</td>\n",
       "      <td>0.01336</td>\n",
       "    </tr>\n",
       "    <tr>\n",
       "      <th>1</th>\n",
       "      <td>1</td>\n",
       "      <td>2025-02-06 18:39:57.146541</td>\n",
       "      <td>283</td>\n",
       "      <td>1970-01-01 00:00:00</td>\n",
       "      <td>0.944</td>\n",
       "      <td>0.1336</td>\n",
       "      <td>0.12612</td>\n",
       "      <td>0.01336</td>\n",
       "    </tr>\n",
       "    <tr>\n",
       "      <th>2</th>\n",
       "      <td>2</td>\n",
       "      <td>2025-02-06 18:39:57.246469</td>\n",
       "      <td>383</td>\n",
       "      <td>1970-01-01 00:00:00</td>\n",
       "      <td>0.944</td>\n",
       "      <td>0.1336</td>\n",
       "      <td>0.12612</td>\n",
       "      <td>0.01336</td>\n",
       "    </tr>\n",
       "    <tr>\n",
       "      <th>3</th>\n",
       "      <td>3</td>\n",
       "      <td>2025-02-06 18:39:57.346519</td>\n",
       "      <td>483</td>\n",
       "      <td>1970-01-01 00:00:00</td>\n",
       "      <td>0.944</td>\n",
       "      <td>0.1336</td>\n",
       "      <td>0.12612</td>\n",
       "      <td>0.01336</td>\n",
       "    </tr>\n",
       "    <tr>\n",
       "      <th>4</th>\n",
       "      <td>4</td>\n",
       "      <td>2025-02-06 18:39:57.447417</td>\n",
       "      <td>583</td>\n",
       "      <td>1970-01-01 00:00:00</td>\n",
       "      <td>0.944</td>\n",
       "      <td>0.1336</td>\n",
       "      <td>0.12612</td>\n",
       "      <td>0.01336</td>\n",
       "    </tr>\n",
       "    <tr>\n",
       "      <th>...</th>\n",
       "      <td>...</td>\n",
       "      <td>...</td>\n",
       "      <td>...</td>\n",
       "      <td>...</td>\n",
       "      <td>...</td>\n",
       "      <td>...</td>\n",
       "      <td>...</td>\n",
       "      <td>...</td>\n",
       "    </tr>\n",
       "    <tr>\n",
       "      <th>30710</th>\n",
       "      <td>30710</td>\n",
       "      <td>2025-02-06 19:33:13.352145</td>\n",
       "      <td>2288778</td>\n",
       "      <td>2025-02-06 19:33:13</td>\n",
       "      <td>0.896</td>\n",
       "      <td>0.0000</td>\n",
       "      <td>0.00000</td>\n",
       "      <td>0.00000</td>\n",
       "    </tr>\n",
       "    <tr>\n",
       "      <th>30711</th>\n",
       "      <td>30711</td>\n",
       "      <td>2025-02-06 19:33:13.455972</td>\n",
       "      <td>2288881</td>\n",
       "      <td>2025-02-06 19:33:13</td>\n",
       "      <td>0.896</td>\n",
       "      <td>0.0000</td>\n",
       "      <td>0.00000</td>\n",
       "      <td>0.00000</td>\n",
       "    </tr>\n",
       "    <tr>\n",
       "      <th>30712</th>\n",
       "      <td>30712</td>\n",
       "      <td>2025-02-06 19:33:13.554177</td>\n",
       "      <td>2288980</td>\n",
       "      <td>2025-02-06 19:33:13</td>\n",
       "      <td>0.896</td>\n",
       "      <td>0.0000</td>\n",
       "      <td>0.00000</td>\n",
       "      <td>0.00000</td>\n",
       "    </tr>\n",
       "    <tr>\n",
       "      <th>30713</th>\n",
       "      <td>30713</td>\n",
       "      <td>2025-02-06 19:33:13.686161</td>\n",
       "      <td>2289112</td>\n",
       "      <td>2025-02-06 19:33:13</td>\n",
       "      <td>0.896</td>\n",
       "      <td>0.0000</td>\n",
       "      <td>0.00000</td>\n",
       "      <td>0.00000</td>\n",
       "    </tr>\n",
       "    <tr>\n",
       "      <th>30714</th>\n",
       "      <td>30714</td>\n",
       "      <td>2025-02-06 19:33:13.755136</td>\n",
       "      <td>2289181</td>\n",
       "      <td>2025-02-06 19:33:13</td>\n",
       "      <td>0.896</td>\n",
       "      <td>0.0000</td>\n",
       "      <td>0.00000</td>\n",
       "      <td>0.00000</td>\n",
       "    </tr>\n",
       "  </tbody>\n",
       "</table>\n",
       "<p>30715 rows × 8 columns</p>\n",
       "</div>"
      ],
      "text/plain": [
       "       index                    read_at   millis                  dt      v  \\\n",
       "0          0 2025-02-06 18:39:57.055511      191 1970-01-01 00:00:00  0.944   \n",
       "1          1 2025-02-06 18:39:57.146541      283 1970-01-01 00:00:00  0.944   \n",
       "2          2 2025-02-06 18:39:57.246469      383 1970-01-01 00:00:00  0.944   \n",
       "3          3 2025-02-06 18:39:57.346519      483 1970-01-01 00:00:00  0.944   \n",
       "4          4 2025-02-06 18:39:57.447417      583 1970-01-01 00:00:00  0.944   \n",
       "...      ...                        ...      ...                 ...    ...   \n",
       "30710  30710 2025-02-06 19:33:13.352145  2288778 2025-02-06 19:33:13  0.896   \n",
       "30711  30711 2025-02-06 19:33:13.455972  2288881 2025-02-06 19:33:13  0.896   \n",
       "30712  30712 2025-02-06 19:33:13.554177  2288980 2025-02-06 19:33:13  0.896   \n",
       "30713  30713 2025-02-06 19:33:13.686161  2289112 2025-02-06 19:33:13  0.896   \n",
       "30714  30714 2025-02-06 19:33:13.755136  2289181 2025-02-06 19:33:13  0.896   \n",
       "\n",
       "            a        w     v_sh  \n",
       "0      0.1336  0.12612  0.01336  \n",
       "1      0.1336  0.12612  0.01336  \n",
       "2      0.1336  0.12612  0.01336  \n",
       "3      0.1336  0.12612  0.01336  \n",
       "4      0.1336  0.12612  0.01336  \n",
       "...       ...      ...      ...  \n",
       "30710  0.0000  0.00000  0.00000  \n",
       "30711  0.0000  0.00000  0.00000  \n",
       "30712  0.0000  0.00000  0.00000  \n",
       "30713  0.0000  0.00000  0.00000  \n",
       "30714  0.0000  0.00000  0.00000  \n",
       "\n",
       "[30715 rows x 8 columns]"
      ]
     },
     "execution_count": 51,
     "metadata": {},
     "output_type": "execute_result"
    }
   ],
   "source": [
    "import pandas as pd\n",
    "import matplotlib.pyplot as plt \n",
    "\n",
    "df = pd.read_csv(\"../app/bat_aa_900mAh_t1.csv\", parse_dates=[\"read_at\", \"timestamp\"])\n",
    "#df = pd.read_csv(\"../app/nodemcu-10_10-t1.csv\")\n",
    "#df = pd.read_csv(\"../app/led-t1.csv\")\n",
    "\n",
    "df.columns = ['index','read_at', 'millis', \"dt\", \"v\", \"a\", \"w\", \"v_sh\"]\n",
    "df"
   ]
  },
  {
   "cell_type": "code",
   "execution_count": 52,
   "id": "98b6ec92",
   "metadata": {},
   "outputs": [
    {
     "data": {
      "text/html": [
       "<div>\n",
       "<style scoped>\n",
       "    .dataframe tbody tr th:only-of-type {\n",
       "        vertical-align: middle;\n",
       "    }\n",
       "\n",
       "    .dataframe tbody tr th {\n",
       "        vertical-align: top;\n",
       "    }\n",
       "\n",
       "    .dataframe thead th {\n",
       "        text-align: right;\n",
       "    }\n",
       "</style>\n",
       "<table border=\"1\" class=\"dataframe\">\n",
       "  <thead>\n",
       "    <tr style=\"text-align: right;\">\n",
       "      <th></th>\n",
       "      <th>index</th>\n",
       "      <th>read_at</th>\n",
       "      <th>millis</th>\n",
       "      <th>dt</th>\n",
       "      <th>v</th>\n",
       "      <th>a</th>\n",
       "      <th>w</th>\n",
       "      <th>v_sh</th>\n",
       "    </tr>\n",
       "  </thead>\n",
       "  <tbody>\n",
       "    <tr>\n",
       "      <th>0</th>\n",
       "      <td>0</td>\n",
       "      <td>2025-02-06 18:39:57.055511</td>\n",
       "      <td>191</td>\n",
       "      <td>1970-01-01 00:00:00</td>\n",
       "      <td>0.944</td>\n",
       "      <td>0.1336</td>\n",
       "      <td>0.12612</td>\n",
       "      <td>0.01336</td>\n",
       "    </tr>\n",
       "    <tr>\n",
       "      <th>1</th>\n",
       "      <td>1</td>\n",
       "      <td>2025-02-06 18:39:57.146541</td>\n",
       "      <td>283</td>\n",
       "      <td>1970-01-01 00:00:00</td>\n",
       "      <td>0.944</td>\n",
       "      <td>0.1336</td>\n",
       "      <td>0.12612</td>\n",
       "      <td>0.01336</td>\n",
       "    </tr>\n",
       "    <tr>\n",
       "      <th>2</th>\n",
       "      <td>2</td>\n",
       "      <td>2025-02-06 18:39:57.246469</td>\n",
       "      <td>383</td>\n",
       "      <td>1970-01-01 00:00:00</td>\n",
       "      <td>0.944</td>\n",
       "      <td>0.1336</td>\n",
       "      <td>0.12612</td>\n",
       "      <td>0.01336</td>\n",
       "    </tr>\n",
       "    <tr>\n",
       "      <th>3</th>\n",
       "      <td>3</td>\n",
       "      <td>2025-02-06 18:39:57.346519</td>\n",
       "      <td>483</td>\n",
       "      <td>1970-01-01 00:00:00</td>\n",
       "      <td>0.944</td>\n",
       "      <td>0.1336</td>\n",
       "      <td>0.12612</td>\n",
       "      <td>0.01336</td>\n",
       "    </tr>\n",
       "    <tr>\n",
       "      <th>4</th>\n",
       "      <td>4</td>\n",
       "      <td>2025-02-06 18:39:57.447417</td>\n",
       "      <td>583</td>\n",
       "      <td>1970-01-01 00:00:00</td>\n",
       "      <td>0.944</td>\n",
       "      <td>0.1336</td>\n",
       "      <td>0.12612</td>\n",
       "      <td>0.01336</td>\n",
       "    </tr>\n",
       "    <tr>\n",
       "      <th>...</th>\n",
       "      <td>...</td>\n",
       "      <td>...</td>\n",
       "      <td>...</td>\n",
       "      <td>...</td>\n",
       "      <td>...</td>\n",
       "      <td>...</td>\n",
       "      <td>...</td>\n",
       "      <td>...</td>\n",
       "    </tr>\n",
       "    <tr>\n",
       "      <th>30710</th>\n",
       "      <td>30710</td>\n",
       "      <td>2025-02-06 19:33:13.352145</td>\n",
       "      <td>2288778</td>\n",
       "      <td>2025-02-06 19:33:13</td>\n",
       "      <td>0.896</td>\n",
       "      <td>0.0000</td>\n",
       "      <td>0.00000</td>\n",
       "      <td>0.00000</td>\n",
       "    </tr>\n",
       "    <tr>\n",
       "      <th>30711</th>\n",
       "      <td>30711</td>\n",
       "      <td>2025-02-06 19:33:13.455972</td>\n",
       "      <td>2288881</td>\n",
       "      <td>2025-02-06 19:33:13</td>\n",
       "      <td>0.896</td>\n",
       "      <td>0.0000</td>\n",
       "      <td>0.00000</td>\n",
       "      <td>0.00000</td>\n",
       "    </tr>\n",
       "    <tr>\n",
       "      <th>30712</th>\n",
       "      <td>30712</td>\n",
       "      <td>2025-02-06 19:33:13.554177</td>\n",
       "      <td>2288980</td>\n",
       "      <td>2025-02-06 19:33:13</td>\n",
       "      <td>0.896</td>\n",
       "      <td>0.0000</td>\n",
       "      <td>0.00000</td>\n",
       "      <td>0.00000</td>\n",
       "    </tr>\n",
       "    <tr>\n",
       "      <th>30713</th>\n",
       "      <td>30713</td>\n",
       "      <td>2025-02-06 19:33:13.686161</td>\n",
       "      <td>2289112</td>\n",
       "      <td>2025-02-06 19:33:13</td>\n",
       "      <td>0.896</td>\n",
       "      <td>0.0000</td>\n",
       "      <td>0.00000</td>\n",
       "      <td>0.00000</td>\n",
       "    </tr>\n",
       "    <tr>\n",
       "      <th>30714</th>\n",
       "      <td>30714</td>\n",
       "      <td>2025-02-06 19:33:13.755136</td>\n",
       "      <td>2289181</td>\n",
       "      <td>2025-02-06 19:33:13</td>\n",
       "      <td>0.896</td>\n",
       "      <td>0.0000</td>\n",
       "      <td>0.00000</td>\n",
       "      <td>0.00000</td>\n",
       "    </tr>\n",
       "  </tbody>\n",
       "</table>\n",
       "<p>30715 rows × 8 columns</p>\n",
       "</div>"
      ],
      "text/plain": [
       "       index                    read_at   millis                  dt      v  \\\n",
       "0          0 2025-02-06 18:39:57.055511      191 1970-01-01 00:00:00  0.944   \n",
       "1          1 2025-02-06 18:39:57.146541      283 1970-01-01 00:00:00  0.944   \n",
       "2          2 2025-02-06 18:39:57.246469      383 1970-01-01 00:00:00  0.944   \n",
       "3          3 2025-02-06 18:39:57.346519      483 1970-01-01 00:00:00  0.944   \n",
       "4          4 2025-02-06 18:39:57.447417      583 1970-01-01 00:00:00  0.944   \n",
       "...      ...                        ...      ...                 ...    ...   \n",
       "30710  30710 2025-02-06 19:33:13.352145  2288778 2025-02-06 19:33:13  0.896   \n",
       "30711  30711 2025-02-06 19:33:13.455972  2288881 2025-02-06 19:33:13  0.896   \n",
       "30712  30712 2025-02-06 19:33:13.554177  2288980 2025-02-06 19:33:13  0.896   \n",
       "30713  30713 2025-02-06 19:33:13.686161  2289112 2025-02-06 19:33:13  0.896   \n",
       "30714  30714 2025-02-06 19:33:13.755136  2289181 2025-02-06 19:33:13  0.896   \n",
       "\n",
       "            a        w     v_sh  \n",
       "0      0.1336  0.12612  0.01336  \n",
       "1      0.1336  0.12612  0.01336  \n",
       "2      0.1336  0.12612  0.01336  \n",
       "3      0.1336  0.12612  0.01336  \n",
       "4      0.1336  0.12612  0.01336  \n",
       "...       ...      ...      ...  \n",
       "30710  0.0000  0.00000  0.00000  \n",
       "30711  0.0000  0.00000  0.00000  \n",
       "30712  0.0000  0.00000  0.00000  \n",
       "30713  0.0000  0.00000  0.00000  \n",
       "30714  0.0000  0.00000  0.00000  \n",
       "\n",
       "[30715 rows x 8 columns]"
      ]
     },
     "execution_count": 52,
     "metadata": {},
     "output_type": "execute_result"
    }
   ],
   "source": [
    "#remove the trailing data before reset\n",
    "d = df#[df.millis.idxmin():]\n",
    "d"
   ]
  },
  {
   "cell_type": "code",
   "execution_count": 53,
   "id": "2517c444",
   "metadata": {},
   "outputs": [
    {
     "data": {
      "text/plain": [
       "Text(0.5, 1.0, 'Current')"
      ]
     },
     "execution_count": 53,
     "metadata": {},
     "output_type": "execute_result"
    },
    {
     "data": {
      "image/png": "[encoded data removed]",
      "text/plain": [
       "<Figure size 640x480 with 1 Axes>"
      ]
     },
     "metadata": {},
     "output_type": "display_data"
    }
   ],
   "source": [
    "plt.plot(d.read_at, d.a)\n",
    "plt.title(\"Current\")"
   ]
  },
  {
   "cell_type": "code",
   "execution_count": 54,
   "id": "1c889899",
   "metadata": {},
   "outputs": [
    {
     "data": {
      "text/plain": [
       "Text(0.5, 1.0, 'Voltage')"
      ]
     },
     "execution_count": 54,
     "metadata": {},
     "output_type": "execute_result"
    },
    {
     "data": {
      "image/png": "[encoded data removed]",
      "text/plain": [
       "<Figure size 640x480 with 1 Axes>"
      ]
     },
     "metadata": {},
     "output_type": "display_data"
    }
   ],
   "source": [
    "plt.plot(d.read_at, d.v)\n",
    "plt.title(\"Voltage\")"
   ]
  },
  {
   "cell_type": "code",
   "execution_count": 55,
   "id": "6c3eec1e",
   "metadata": {},
   "outputs": [
    {
     "data": {
      "text/plain": [
       "357.24957686460004"
      ]
     },
     "execution_count": 55,
     "metadata": {},
     "output_type": "execute_result"
    }
   ],
   "source": [
    "from scipy import integrate\n",
    "\n",
    "time_data = (d.read_at - d.read_at.iloc[0]).dt.total_seconds()\n",
    "current_data = d.a.to_numpy()\n",
    "total_current = integrate.trapz(current_data, time_data)\n",
    "total_current"
   ]
  },
  {
   "cell_type": "code",
   "execution_count": 56,
   "id": "336bdbc4",
   "metadata": {},
   "outputs": [
    {
     "data": {
      "text/plain": [
       "3196.699625"
      ]
     },
     "execution_count": 56,
     "metadata": {},
     "output_type": "execute_result"
    }
   ],
   "source": [
    "time_span = max(time_data)\n",
    "time_span"
   ]
  },
  {
   "cell_type": "code",
   "execution_count": 57,
   "id": "e4cc029d",
   "metadata": {},
   "outputs": [
    {
     "data": {
      "text/plain": [
       "0.11175575398786491"
      ]
     },
     "execution_count": 57,
     "metadata": {},
     "output_type": "execute_result"
    }
   ],
   "source": [
    "avg_current = total_current / time_span\n",
    "avg_current"
   ]
  },
  {
   "cell_type": "code",
   "execution_count": 58,
   "id": "6d075128",
   "metadata": {},
   "outputs": [
    {
     "data": {
      "text/plain": [
       "5.368851075579978"
      ]
     },
     "execution_count": 58,
     "metadata": {},
     "output_type": "execute_result"
    }
   ],
   "source": [
    "bat_usable_cap = 0.6 #Amp hour\n",
    "runtime = bat_usable_cap / avg_current\n",
    "runtime #hours"
   ]
  },
  {
   "cell_type": "markdown",
   "id": "0b18696d",
   "metadata": {},
   "source": [
    "# etc"
   ]
  },
  {
   "cell_type": "code",
   "execution_count": 59,
   "id": "e10dfc63",
   "metadata": {},
   "outputs": [
    {
     "name": "stdout",
     "output_type": "stream",
     "text": [
      "0.20888888888888887 A\n",
      "0.19635555555555553 W\n",
      "3.829787234042554 hours\n"
     ]
    }
   ],
   "source": [
    "#v = i * r\n",
    "#i = v / r\n",
    "v_bat = 0.94 #volts\n",
    "c_bat = .8 #Ah\n",
    "r = 4.5 #ohms\n",
    "\n",
    "i  = v_bat / r\n",
    "print(f\"{i} A\")\n",
    "p = v_bat * i\n",
    "print(f\"{p} W\")\n",
    "\n",
    "run = c_bat / i\n",
    "print(f\"{run} hours\")"
   ]
  },
  {
   "cell_type": "code",
   "execution_count": 60,
   "id": "cce3663d",
   "metadata": {},
   "outputs": [
    {
     "data": {
      "text/plain": [
       "4.2727272727272725"
      ]
     },
     "execution_count": 60,
     "metadata": {},
     "output_type": "execute_result"
    }
   ],
   "source": [
    "1/((1/47)+(1/4.7))"
   ]
  }
 ],
 "metadata": {
  "kernelspec": {
   "display_name": "py310",
   "language": "python",
   "name": "py310"
  },
  "language_info": {
   "codemirror_mode": {
    "name": "ipython",
    "version": 3
   },
   "file_extension": ".py",
   "mimetype": "text/x-python",
   "name": "python",
   "nbconvert_exporter": "python",
   "pygments_lexer": "ipython3",
   "version": "3.10.6"
  }
 },
 "nbformat": 4,
 "nbformat_minor": 5
}
