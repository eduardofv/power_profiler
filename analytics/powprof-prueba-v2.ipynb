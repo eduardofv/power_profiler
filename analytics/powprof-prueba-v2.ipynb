{
 "cells": [
  {
   "cell_type": "code",
   "execution_count": 2,
   "id": "a7478314",
   "metadata": {},
   "outputs": [
    {
     "data": {
      "text/html": [
       "<div>\n",
       "<style scoped>\n",
       "    .dataframe tbody tr th:only-of-type {\n",
       "        vertical-align: middle;\n",
       "    }\n",
       "\n",
       "    .dataframe tbody tr th {\n",
       "        vertical-align: top;\n",
       "    }\n",
       "\n",
       "    .dataframe thead th {\n",
       "        text-align: right;\n",
       "    }\n",
       "</style>\n",
       "<table border=\"1\" class=\"dataframe\">\n",
       "  <thead>\n",
       "    <tr style=\"text-align: right;\">\n",
       "      <th></th>\n",
       "      <th>index</th>\n",
       "      <th>read_at</th>\n",
       "      <th>millis</th>\n",
       "      <th>dt</th>\n",
       "      <th>v</th>\n",
       "      <th>a</th>\n",
       "      <th>w</th>\n",
       "      <th>v_sh</th>\n",
       "    </tr>\n",
       "  </thead>\n",
       "  <tbody>\n",
       "    <tr>\n",
       "      <th>0</th>\n",
       "      <td>0</td>\n",
       "      <td>2025-02-27 21:14:34.817939</td>\n",
       "      <td>574978</td>\n",
       "      <td>2025-02-27 21:14:34</td>\n",
       "      <td>5.088</td>\n",
       "      <td>0.01</td>\n",
       "      <td>0.05088</td>\n",
       "      <td>0.001</td>\n",
       "    </tr>\n",
       "    <tr>\n",
       "      <th>1</th>\n",
       "      <td>1</td>\n",
       "      <td>2025-02-27 21:14:34.918667</td>\n",
       "      <td>575078</td>\n",
       "      <td>2025-02-27 21:14:34</td>\n",
       "      <td>5.088</td>\n",
       "      <td>0.01</td>\n",
       "      <td>0.05088</td>\n",
       "      <td>0.001</td>\n",
       "    </tr>\n",
       "    <tr>\n",
       "      <th>2</th>\n",
       "      <td>2</td>\n",
       "      <td>2025-02-27 21:14:35.017959</td>\n",
       "      <td>575178</td>\n",
       "      <td>2025-02-27 21:14:34</td>\n",
       "      <td>5.088</td>\n",
       "      <td>0.01</td>\n",
       "      <td>0.05088</td>\n",
       "      <td>0.001</td>\n",
       "    </tr>\n",
       "    <tr>\n",
       "      <th>3</th>\n",
       "      <td>3</td>\n",
       "      <td>2025-02-27 21:14:35.117850</td>\n",
       "      <td>575278</td>\n",
       "      <td>2025-02-27 21:14:35</td>\n",
       "      <td>5.088</td>\n",
       "      <td>0.01</td>\n",
       "      <td>0.05088</td>\n",
       "      <td>0.001</td>\n",
       "    </tr>\n",
       "    <tr>\n",
       "      <th>4</th>\n",
       "      <td>4</td>\n",
       "      <td>2025-02-27 21:14:35.217919</td>\n",
       "      <td>575378</td>\n",
       "      <td>2025-02-27 21:14:35</td>\n",
       "      <td>5.088</td>\n",
       "      <td>0.01</td>\n",
       "      <td>0.05088</td>\n",
       "      <td>0.001</td>\n",
       "    </tr>\n",
       "    <tr>\n",
       "      <th>...</th>\n",
       "      <td>...</td>\n",
       "      <td>...</td>\n",
       "      <td>...</td>\n",
       "      <td>...</td>\n",
       "      <td>...</td>\n",
       "      <td>...</td>\n",
       "      <td>...</td>\n",
       "      <td>...</td>\n",
       "    </tr>\n",
       "    <tr>\n",
       "      <th>596</th>\n",
       "      <td>596</td>\n",
       "      <td>2025-02-27 21:15:34.427063</td>\n",
       "      <td>634585</td>\n",
       "      <td>2025-02-27 21:15:34</td>\n",
       "      <td>5.088</td>\n",
       "      <td>0.01</td>\n",
       "      <td>0.05088</td>\n",
       "      <td>0.001</td>\n",
       "    </tr>\n",
       "    <tr>\n",
       "      <th>597</th>\n",
       "      <td>597</td>\n",
       "      <td>2025-02-27 21:15:34.519131</td>\n",
       "      <td>634677</td>\n",
       "      <td>2025-02-27 21:15:34</td>\n",
       "      <td>5.088</td>\n",
       "      <td>0.01</td>\n",
       "      <td>0.05088</td>\n",
       "      <td>0.001</td>\n",
       "    </tr>\n",
       "    <tr>\n",
       "      <th>598</th>\n",
       "      <td>598</td>\n",
       "      <td>2025-02-27 21:15:34.620300</td>\n",
       "      <td>634778</td>\n",
       "      <td>2025-02-27 21:15:34</td>\n",
       "      <td>5.088</td>\n",
       "      <td>0.01</td>\n",
       "      <td>0.05088</td>\n",
       "      <td>0.001</td>\n",
       "    </tr>\n",
       "    <tr>\n",
       "      <th>599</th>\n",
       "      <td>599</td>\n",
       "      <td>2025-02-27 21:15:34.720059</td>\n",
       "      <td>634878</td>\n",
       "      <td>2025-02-27 21:15:34</td>\n",
       "      <td>5.088</td>\n",
       "      <td>0.01</td>\n",
       "      <td>0.05088</td>\n",
       "      <td>0.001</td>\n",
       "    </tr>\n",
       "    <tr>\n",
       "      <th>600</th>\n",
       "      <td>600</td>\n",
       "      <td>2025-02-27 21:15:34.820267</td>\n",
       "      <td>634978</td>\n",
       "      <td>2025-02-27 21:15:34</td>\n",
       "      <td>5.088</td>\n",
       "      <td>0.01</td>\n",
       "      <td>0.05088</td>\n",
       "      <td>0.001</td>\n",
       "    </tr>\n",
       "  </tbody>\n",
       "</table>\n",
       "<p>601 rows × 8 columns</p>\n",
       "</div>"
      ],
      "text/plain": [
       "     index                    read_at  millis                  dt      v  \\\n",
       "0        0 2025-02-27 21:14:34.817939  574978 2025-02-27 21:14:34  5.088   \n",
       "1        1 2025-02-27 21:14:34.918667  575078 2025-02-27 21:14:34  5.088   \n",
       "2        2 2025-02-27 21:14:35.017959  575178 2025-02-27 21:14:34  5.088   \n",
       "3        3 2025-02-27 21:14:35.117850  575278 2025-02-27 21:14:35  5.088   \n",
       "4        4 2025-02-27 21:14:35.217919  575378 2025-02-27 21:14:35  5.088   \n",
       "..     ...                        ...     ...                 ...    ...   \n",
       "596    596 2025-02-27 21:15:34.427063  634585 2025-02-27 21:15:34  5.088   \n",
       "597    597 2025-02-27 21:15:34.519131  634677 2025-02-27 21:15:34  5.088   \n",
       "598    598 2025-02-27 21:15:34.620300  634778 2025-02-27 21:15:34  5.088   \n",
       "599    599 2025-02-27 21:15:34.720059  634878 2025-02-27 21:15:34  5.088   \n",
       "600    600 2025-02-27 21:15:34.820267  634978 2025-02-27 21:15:34  5.088   \n",
       "\n",
       "        a        w   v_sh  \n",
       "0    0.01  0.05088  0.001  \n",
       "1    0.01  0.05088  0.001  \n",
       "2    0.01  0.05088  0.001  \n",
       "3    0.01  0.05088  0.001  \n",
       "4    0.01  0.05088  0.001  \n",
       "..    ...      ...    ...  \n",
       "596  0.01  0.05088  0.001  \n",
       "597  0.01  0.05088  0.001  \n",
       "598  0.01  0.05088  0.001  \n",
       "599  0.01  0.05088  0.001  \n",
       "600  0.01  0.05088  0.001  \n",
       "\n",
       "[601 rows x 8 columns]"
      ]
     },
     "execution_count": 2,
     "metadata": {},
     "output_type": "execute_result"
    }
   ],
   "source": [
    "import pandas as pd\n",
    "import matplotlib.pyplot as plt \n",
    "\n",
    "df = pd.read_csv(\"../app/data/borra\", parse_dates=[\"read_at\", \"timestamp\"], on_bad_lines=\"warn\")\n",
    "#df = pd.read_csv(\"../app/bat_AAA_900mAh-T1.csv\", parse_dates=[\"read_at\", \"timestamp\"], on_bad_lines=\"warn\")\n",
    "#df = pd.read_csv(\"../app/nodemcu-10_10-t1.csv\")\n",
    "#df = pd.read_csv(\"../app/led-t1.csv\")\n",
    "\n",
    "df.columns = ['index','read_at', 'millis', \"dt\", \"v\", \"a\", \"w\", \"v_sh\"]\n",
    "df"
   ]
  },
  {
   "cell_type": "code",
   "execution_count": 3,
   "id": "98b6ec92",
   "metadata": {},
   "outputs": [
    {
     "data": {
      "text/html": [
       "<div>\n",
       "<style scoped>\n",
       "    .dataframe tbody tr th:only-of-type {\n",
       "        vertical-align: middle;\n",
       "    }\n",
       "\n",
       "    .dataframe tbody tr th {\n",
       "        vertical-align: top;\n",
       "    }\n",
       "\n",
       "    .dataframe thead th {\n",
       "        text-align: right;\n",
       "    }\n",
       "</style>\n",
       "<table border=\"1\" class=\"dataframe\">\n",
       "  <thead>\n",
       "    <tr style=\"text-align: right;\">\n",
       "      <th></th>\n",
       "      <th>index</th>\n",
       "      <th>read_at</th>\n",
       "      <th>millis</th>\n",
       "      <th>dt</th>\n",
       "      <th>v</th>\n",
       "      <th>a</th>\n",
       "      <th>w</th>\n",
       "      <th>v_sh</th>\n",
       "    </tr>\n",
       "  </thead>\n",
       "  <tbody>\n",
       "    <tr>\n",
       "      <th>0</th>\n",
       "      <td>0</td>\n",
       "      <td>2025-02-27 21:14:34.817939</td>\n",
       "      <td>574978</td>\n",
       "      <td>2025-02-27 21:14:34</td>\n",
       "      <td>5.088</td>\n",
       "      <td>0.01</td>\n",
       "      <td>0.05088</td>\n",
       "      <td>0.001</td>\n",
       "    </tr>\n",
       "    <tr>\n",
       "      <th>1</th>\n",
       "      <td>1</td>\n",
       "      <td>2025-02-27 21:14:34.918667</td>\n",
       "      <td>575078</td>\n",
       "      <td>2025-02-27 21:14:34</td>\n",
       "      <td>5.088</td>\n",
       "      <td>0.01</td>\n",
       "      <td>0.05088</td>\n",
       "      <td>0.001</td>\n",
       "    </tr>\n",
       "    <tr>\n",
       "      <th>2</th>\n",
       "      <td>2</td>\n",
       "      <td>2025-02-27 21:14:35.017959</td>\n",
       "      <td>575178</td>\n",
       "      <td>2025-02-27 21:14:34</td>\n",
       "      <td>5.088</td>\n",
       "      <td>0.01</td>\n",
       "      <td>0.05088</td>\n",
       "      <td>0.001</td>\n",
       "    </tr>\n",
       "    <tr>\n",
       "      <th>3</th>\n",
       "      <td>3</td>\n",
       "      <td>2025-02-27 21:14:35.117850</td>\n",
       "      <td>575278</td>\n",
       "      <td>2025-02-27 21:14:35</td>\n",
       "      <td>5.088</td>\n",
       "      <td>0.01</td>\n",
       "      <td>0.05088</td>\n",
       "      <td>0.001</td>\n",
       "    </tr>\n",
       "    <tr>\n",
       "      <th>4</th>\n",
       "      <td>4</td>\n",
       "      <td>2025-02-27 21:14:35.217919</td>\n",
       "      <td>575378</td>\n",
       "      <td>2025-02-27 21:14:35</td>\n",
       "      <td>5.088</td>\n",
       "      <td>0.01</td>\n",
       "      <td>0.05088</td>\n",
       "      <td>0.001</td>\n",
       "    </tr>\n",
       "    <tr>\n",
       "      <th>...</th>\n",
       "      <td>...</td>\n",
       "      <td>...</td>\n",
       "      <td>...</td>\n",
       "      <td>...</td>\n",
       "      <td>...</td>\n",
       "      <td>...</td>\n",
       "      <td>...</td>\n",
       "      <td>...</td>\n",
       "    </tr>\n",
       "    <tr>\n",
       "      <th>596</th>\n",
       "      <td>596</td>\n",
       "      <td>2025-02-27 21:15:34.427063</td>\n",
       "      <td>634585</td>\n",
       "      <td>2025-02-27 21:15:34</td>\n",
       "      <td>5.088</td>\n",
       "      <td>0.01</td>\n",
       "      <td>0.05088</td>\n",
       "      <td>0.001</td>\n",
       "    </tr>\n",
       "    <tr>\n",
       "      <th>597</th>\n",
       "      <td>597</td>\n",
       "      <td>2025-02-27 21:15:34.519131</td>\n",
       "      <td>634677</td>\n",
       "      <td>2025-02-27 21:15:34</td>\n",
       "      <td>5.088</td>\n",
       "      <td>0.01</td>\n",
       "      <td>0.05088</td>\n",
       "      <td>0.001</td>\n",
       "    </tr>\n",
       "    <tr>\n",
       "      <th>598</th>\n",
       "      <td>598</td>\n",
       "      <td>2025-02-27 21:15:34.620300</td>\n",
       "      <td>634778</td>\n",
       "      <td>2025-02-27 21:15:34</td>\n",
       "      <td>5.088</td>\n",
       "      <td>0.01</td>\n",
       "      <td>0.05088</td>\n",
       "      <td>0.001</td>\n",
       "    </tr>\n",
       "    <tr>\n",
       "      <th>599</th>\n",
       "      <td>599</td>\n",
       "      <td>2025-02-27 21:15:34.720059</td>\n",
       "      <td>634878</td>\n",
       "      <td>2025-02-27 21:15:34</td>\n",
       "      <td>5.088</td>\n",
       "      <td>0.01</td>\n",
       "      <td>0.05088</td>\n",
       "      <td>0.001</td>\n",
       "    </tr>\n",
       "    <tr>\n",
       "      <th>600</th>\n",
       "      <td>600</td>\n",
       "      <td>2025-02-27 21:15:34.820267</td>\n",
       "      <td>634978</td>\n",
       "      <td>2025-02-27 21:15:34</td>\n",
       "      <td>5.088</td>\n",
       "      <td>0.01</td>\n",
       "      <td>0.05088</td>\n",
       "      <td>0.001</td>\n",
       "    </tr>\n",
       "  </tbody>\n",
       "</table>\n",
       "<p>601 rows × 8 columns</p>\n",
       "</div>"
      ],
      "text/plain": [
       "     index                    read_at  millis                  dt      v  \\\n",
       "0        0 2025-02-27 21:14:34.817939  574978 2025-02-27 21:14:34  5.088   \n",
       "1        1 2025-02-27 21:14:34.918667  575078 2025-02-27 21:14:34  5.088   \n",
       "2        2 2025-02-27 21:14:35.017959  575178 2025-02-27 21:14:34  5.088   \n",
       "3        3 2025-02-27 21:14:35.117850  575278 2025-02-27 21:14:35  5.088   \n",
       "4        4 2025-02-27 21:14:35.217919  575378 2025-02-27 21:14:35  5.088   \n",
       "..     ...                        ...     ...                 ...    ...   \n",
       "596    596 2025-02-27 21:15:34.427063  634585 2025-02-27 21:15:34  5.088   \n",
       "597    597 2025-02-27 21:15:34.519131  634677 2025-02-27 21:15:34  5.088   \n",
       "598    598 2025-02-27 21:15:34.620300  634778 2025-02-27 21:15:34  5.088   \n",
       "599    599 2025-02-27 21:15:34.720059  634878 2025-02-27 21:15:34  5.088   \n",
       "600    600 2025-02-27 21:15:34.820267  634978 2025-02-27 21:15:34  5.088   \n",
       "\n",
       "        a        w   v_sh  \n",
       "0    0.01  0.05088  0.001  \n",
       "1    0.01  0.05088  0.001  \n",
       "2    0.01  0.05088  0.001  \n",
       "3    0.01  0.05088  0.001  \n",
       "4    0.01  0.05088  0.001  \n",
       "..    ...      ...    ...  \n",
       "596  0.01  0.05088  0.001  \n",
       "597  0.01  0.05088  0.001  \n",
       "598  0.01  0.05088  0.001  \n",
       "599  0.01  0.05088  0.001  \n",
       "600  0.01  0.05088  0.001  \n",
       "\n",
       "[601 rows x 8 columns]"
      ]
     },
     "execution_count": 3,
     "metadata": {},
     "output_type": "execute_result"
    }
   ],
   "source": [
    "#remove the trailing data before reset\n",
    "d = df#[df.millis.idxmin():]\n",
    "d"
   ]
  },
  {
   "cell_type": "code",
   "execution_count": 4,
   "id": "2517c444",
   "metadata": {},
   "outputs": [
    {
     "data": {
      "text/plain": [
       "Text(0.5, 1.0, 'Current')"
      ]
     },
     "execution_count": 4,
     "metadata": {},
     "output_type": "execute_result"
    },
    {
     "data": {
      "image/png": "[encoded data removed]",
      "text/plain": [
       "<Figure size 640x480 with 1 Axes>"
      ]
     },
     "metadata": {},
     "output_type": "display_data"
    }
   ],
   "source": [
    "plt.plot(d.read_at, d.a)\n",
    "plt.title(\"Current\")"
   ]
  },
  {
   "cell_type": "code",
   "execution_count": 5,
   "id": "1c889899",
   "metadata": {},
   "outputs": [
    {
     "data": {
      "text/plain": [
       "Text(0.5, 1.0, 'Voltage')"
      ]
     },
     "execution_count": 5,
     "metadata": {},
     "output_type": "execute_result"
    },
    {
     "data": {
      "image/png": "[encoded data removed]",
      "text/plain": [
       "<Figure size 640x480 with 1 Axes>"
      ]
     },
     "metadata": {},
     "output_type": "display_data"
    }
   ],
   "source": [
    "plt.plot(d.read_at, d.v)\n",
    "plt.title(\"Voltage\")"
   ]
  },
  {
   "cell_type": "code",
   "execution_count": 7,
   "id": "6c3eec1e",
   "metadata": {},
   "outputs": [
    {
     "data": {
      "text/plain": [
       "np.float64(3.3968655657999998)"
      ]
     },
     "execution_count": 7,
     "metadata": {},
     "output_type": "execute_result"
    }
   ],
   "source": [
    "from scipy import integrate\n",
    "\n",
    "time_data = (d.read_at - d.read_at.iloc[0]).dt.total_seconds()\n",
    "current_data = d.a.to_numpy()\n",
    "total_current = integrate.trapezoid(current_data, time_data)\n",
    "total_current #charge"
   ]
  },
  {
   "cell_type": "code",
   "execution_count": 8,
   "id": "336bdbc4",
   "metadata": {},
   "outputs": [
    {
     "data": {
      "text/plain": [
       "(60.002328, 1.0000388, 0.016667313333333333)"
      ]
     },
     "execution_count": 8,
     "metadata": {},
     "output_type": "execute_result"
    }
   ],
   "source": [
    "time_span = max(time_data)\n",
    "time_span, time_span / 60, time_span / 3600"
   ]
  },
  {
   "cell_type": "code",
   "execution_count": 9,
   "id": "e4cc029d",
   "metadata": {},
   "outputs": [
    {
     "data": {
      "text/plain": [
       "np.float64(0.05661222954216043)"
      ]
     },
     "execution_count": 9,
     "metadata": {},
     "output_type": "execute_result"
    }
   ],
   "source": [
    "avg_current = total_current / time_span\n",
    "avg_current"
   ]
  },
  {
   "cell_type": "code",
   "execution_count": 10,
   "id": "6d075128",
   "metadata": {},
   "outputs": [
    {
     "data": {
      "text/plain": [
       "np.float64(14.131222290127642)"
      ]
     },
     "execution_count": 10,
     "metadata": {},
     "output_type": "execute_result"
    }
   ],
   "source": [
    "#expected\n",
    "bat_usable_cap = 0.8 #Amp hour\n",
    "runtime = bat_usable_cap / avg_current\n",
    "runtime #hours"
   ]
  },
  {
   "cell_type": "code",
   "execution_count": 11,
   "id": "204ed9c8",
   "metadata": {},
   "outputs": [
    {
     "data": {
      "text/plain": [
       "np.float64(0.0009435737682777777)"
      ]
     },
     "execution_count": 11,
     "metadata": {},
     "output_type": "execute_result"
    }
   ],
   "source": [
    "#actual\n",
    "act_runtime = time_span / 3600\n",
    "act_bat_usable_cap = act_runtime * avg_current\n",
    "act_bat_usable_cap #Ah"
   ]
  },
  {
   "cell_type": "markdown",
   "id": "0b18696d",
   "metadata": {},
   "source": [
    "# etc"
   ]
  },
  {
   "cell_type": "code",
   "execution_count": null,
   "id": "e10dfc63",
   "metadata": {},
   "outputs": [],
   "source": [
    "#v = i * r\n",
    "#i = v / r\n",
    "v_bat = 0.94 #volts\n",
    "c_bat = .8 #Ah\n",
    "r = 4.5 #ohms\n",
    "\n",
    "i  = v_bat / r\n",
    "print(f\"{i} A\")\n",
    "p = v_bat * i\n",
    "print(f\"{p} W\")\n",
    "\n",
    "run = c_bat / i\n",
    "print(f\"{run} hours\")"
   ]
  },
  {
   "cell_type": "code",
   "execution_count": null,
   "id": "cce3663d",
   "metadata": {},
   "outputs": [],
   "source": [
    "1/((1/2.3)+(1/4.7))"
   ]
  }
 ],
 "metadata": {
  "kernelspec": {
   "display_name": "Python 3 (ipykernel)",
   "language": "python",
   "name": "python3"
  },
  "language_info": {
   "codemirror_mode": {
    "name": "ipython",
    "version": 3
   },
   "file_extension": ".py",
   "mimetype": "text/x-python",
   "name": "python",
   "nbconvert_exporter": "python",
   "pygments_lexer": "ipython3",
   "version": "3.10.16"
  }
 },
 "nbformat": 4,
 "nbformat_minor": 5
}
