{
 "cells": [
  {
   "cell_type": "code",
   "execution_count": 227,
   "id": "a7478314",
   "metadata": {},
   "outputs": [
    {
     "name": "stderr",
     "output_type": "stream",
     "text": [
      "/var/folders/2h/lr4jnn5j0z34s738f_cc5yww0000gn/T/ipykernel_9739/740254797.py:4: ParserWarning: Skipping line 380: expected 8 fields, saw 13\n",
      "\n",
      "  df = pd.read_csv(\"../app/bat_AAA_900mAh-T1.csv\", parse_dates=[\"read_at\", \"timestamp\"], on_bad_lines=\"warn\")\n"
     ]
    },
    {
     "data": {
      "text/html": [
       "<div>\n",
       "<style scoped>\n",
       "    .dataframe tbody tr th:only-of-type {\n",
       "        vertical-align: middle;\n",
       "    }\n",
       "\n",
       "    .dataframe tbody tr th {\n",
       "        vertical-align: top;\n",
       "    }\n",
       "\n",
       "    .dataframe thead th {\n",
       "        text-align: right;\n",
       "    }\n",
       "</style>\n",
       "<table border=\"1\" class=\"dataframe\">\n",
       "  <thead>\n",
       "    <tr style=\"text-align: right;\">\n",
       "      <th></th>\n",
       "      <th>index</th>\n",
       "      <th>read_at</th>\n",
       "      <th>millis</th>\n",
       "      <th>dt</th>\n",
       "      <th>v</th>\n",
       "      <th>a</th>\n",
       "      <th>w</th>\n",
       "      <th>v_sh</th>\n",
       "    </tr>\n",
       "  </thead>\n",
       "  <tbody>\n",
       "    <tr>\n",
       "      <th>0</th>\n",
       "      <td>0</td>\n",
       "      <td>2025-02-16 12:47:17.933823</td>\n",
       "      <td>192</td>\n",
       "      <td>1970-01-01 00:00:00</td>\n",
       "      <td>0.0</td>\n",
       "      <td>0.0</td>\n",
       "      <td>0.0</td>\n",
       "      <td>0.0</td>\n",
       "    </tr>\n",
       "    <tr>\n",
       "      <th>1</th>\n",
       "      <td>1</td>\n",
       "      <td>2025-02-16 12:47:17.998887</td>\n",
       "      <td>257</td>\n",
       "      <td>1970-01-01 00:00:00</td>\n",
       "      <td>0.0</td>\n",
       "      <td>0.0</td>\n",
       "      <td>0.0</td>\n",
       "      <td>0.0</td>\n",
       "    </tr>\n",
       "    <tr>\n",
       "      <th>2</th>\n",
       "      <td>2</td>\n",
       "      <td>2025-02-16 12:47:18.098908</td>\n",
       "      <td>357</td>\n",
       "      <td>1970-01-01 00:00:00</td>\n",
       "      <td>0.0</td>\n",
       "      <td>0.0</td>\n",
       "      <td>0.0</td>\n",
       "      <td>0.0</td>\n",
       "    </tr>\n",
       "    <tr>\n",
       "      <th>3</th>\n",
       "      <td>3</td>\n",
       "      <td>2025-02-16 12:47:18.198870</td>\n",
       "      <td>457</td>\n",
       "      <td>1970-01-01 00:00:00</td>\n",
       "      <td>0.0</td>\n",
       "      <td>0.0</td>\n",
       "      <td>0.0</td>\n",
       "      <td>0.0</td>\n",
       "    </tr>\n",
       "    <tr>\n",
       "      <th>4</th>\n",
       "      <td>4</td>\n",
       "      <td>2025-02-16 12:47:18.298854</td>\n",
       "      <td>557</td>\n",
       "      <td>1970-01-01 00:00:00</td>\n",
       "      <td>0.0</td>\n",
       "      <td>0.0</td>\n",
       "      <td>0.0</td>\n",
       "      <td>0.0</td>\n",
       "    </tr>\n",
       "    <tr>\n",
       "      <th>...</th>\n",
       "      <td>...</td>\n",
       "      <td>...</td>\n",
       "      <td>...</td>\n",
       "      <td>...</td>\n",
       "      <td>...</td>\n",
       "      <td>...</td>\n",
       "      <td>...</td>\n",
       "      <td>...</td>\n",
       "    </tr>\n",
       "    <tr>\n",
       "      <th>95929</th>\n",
       "      <td>95930</td>\n",
       "      <td>2025-02-16 15:27:22.712948</td>\n",
       "      <td>508653</td>\n",
       "      <td>2025-02-16 15:27:22</td>\n",
       "      <td>0.0</td>\n",
       "      <td>0.0</td>\n",
       "      <td>0.0</td>\n",
       "      <td>0.0</td>\n",
       "    </tr>\n",
       "    <tr>\n",
       "      <th>95930</th>\n",
       "      <td>95931</td>\n",
       "      <td>2025-02-16 15:27:22.811789</td>\n",
       "      <td>508752</td>\n",
       "      <td>2025-02-16 15:27:22</td>\n",
       "      <td>0.0</td>\n",
       "      <td>0.0</td>\n",
       "      <td>0.0</td>\n",
       "      <td>0.0</td>\n",
       "    </tr>\n",
       "    <tr>\n",
       "      <th>95931</th>\n",
       "      <td>95932</td>\n",
       "      <td>2025-02-16 15:27:22.914726</td>\n",
       "      <td>508855</td>\n",
       "      <td>2025-02-16 15:27:22</td>\n",
       "      <td>0.0</td>\n",
       "      <td>0.0</td>\n",
       "      <td>0.0</td>\n",
       "      <td>0.0</td>\n",
       "    </tr>\n",
       "    <tr>\n",
       "      <th>95932</th>\n",
       "      <td>95933</td>\n",
       "      <td>2025-02-16 15:27:23.037750</td>\n",
       "      <td>508978</td>\n",
       "      <td>2025-02-16 15:27:23</td>\n",
       "      <td>0.0</td>\n",
       "      <td>0.0</td>\n",
       "      <td>0.0</td>\n",
       "      <td>0.0</td>\n",
       "    </tr>\n",
       "    <tr>\n",
       "      <th>95933</th>\n",
       "      <td>95934</td>\n",
       "      <td>2025-02-16 15:27:23.110766</td>\n",
       "      <td>509051</td>\n",
       "      <td>2025-02-16 15:27:23</td>\n",
       "      <td>0.0</td>\n",
       "      <td>0.0</td>\n",
       "      <td>0.0</td>\n",
       "      <td>0.0</td>\n",
       "    </tr>\n",
       "  </tbody>\n",
       "</table>\n",
       "<p>95934 rows × 8 columns</p>\n",
       "</div>"
      ],
      "text/plain": [
       "       index                    read_at  millis                  dt    v    a  \\\n",
       "0          0 2025-02-16 12:47:17.933823     192 1970-01-01 00:00:00  0.0  0.0   \n",
       "1          1 2025-02-16 12:47:17.998887     257 1970-01-01 00:00:00  0.0  0.0   \n",
       "2          2 2025-02-16 12:47:18.098908     357 1970-01-01 00:00:00  0.0  0.0   \n",
       "3          3 2025-02-16 12:47:18.198870     457 1970-01-01 00:00:00  0.0  0.0   \n",
       "4          4 2025-02-16 12:47:18.298854     557 1970-01-01 00:00:00  0.0  0.0   \n",
       "...      ...                        ...     ...                 ...  ...  ...   \n",
       "95929  95930 2025-02-16 15:27:22.712948  508653 2025-02-16 15:27:22  0.0  0.0   \n",
       "95930  95931 2025-02-16 15:27:22.811789  508752 2025-02-16 15:27:22  0.0  0.0   \n",
       "95931  95932 2025-02-16 15:27:22.914726  508855 2025-02-16 15:27:22  0.0  0.0   \n",
       "95932  95933 2025-02-16 15:27:23.037750  508978 2025-02-16 15:27:23  0.0  0.0   \n",
       "95933  95934 2025-02-16 15:27:23.110766  509051 2025-02-16 15:27:23  0.0  0.0   \n",
       "\n",
       "         w  v_sh  \n",
       "0      0.0   0.0  \n",
       "1      0.0   0.0  \n",
       "2      0.0   0.0  \n",
       "3      0.0   0.0  \n",
       "4      0.0   0.0  \n",
       "...    ...   ...  \n",
       "95929  0.0   0.0  \n",
       "95930  0.0   0.0  \n",
       "95931  0.0   0.0  \n",
       "95932  0.0   0.0  \n",
       "95933  0.0   0.0  \n",
       "\n",
       "[95934 rows x 8 columns]"
      ]
     },
     "execution_count": 227,
     "metadata": {},
     "output_type": "execute_result"
    }
   ],
   "source": [
    "import pandas as pd\n",
    "import matplotlib.pyplot as plt \n",
    "\n",
    "df = pd.read_csv(\"../app/bat_AAA_900mAh-T1.csv\", parse_dates=[\"read_at\", \"timestamp\"], on_bad_lines=\"warn\")\n",
    "#df = pd.read_csv(\"../app/nodemcu-10_10-t1.csv\")\n",
    "#df = pd.read_csv(\"../app/led-t1.csv\")\n",
    "\n",
    "df.columns = ['index','read_at', 'millis', \"dt\", \"v\", \"a\", \"w\", \"v_sh\"]\n",
    "df"
   ]
  },
  {
   "cell_type": "code",
   "execution_count": 228,
   "id": "98b6ec92",
   "metadata": {},
   "outputs": [
    {
     "data": {
      "text/html": [
       "<div>\n",
       "<style scoped>\n",
       "    .dataframe tbody tr th:only-of-type {\n",
       "        vertical-align: middle;\n",
       "    }\n",
       "\n",
       "    .dataframe tbody tr th {\n",
       "        vertical-align: top;\n",
       "    }\n",
       "\n",
       "    .dataframe thead th {\n",
       "        text-align: right;\n",
       "    }\n",
       "</style>\n",
       "<table border=\"1\" class=\"dataframe\">\n",
       "  <thead>\n",
       "    <tr style=\"text-align: right;\">\n",
       "      <th></th>\n",
       "      <th>index</th>\n",
       "      <th>read_at</th>\n",
       "      <th>millis</th>\n",
       "      <th>dt</th>\n",
       "      <th>v</th>\n",
       "      <th>a</th>\n",
       "      <th>w</th>\n",
       "      <th>v_sh</th>\n",
       "    </tr>\n",
       "  </thead>\n",
       "  <tbody>\n",
       "    <tr>\n",
       "      <th>0</th>\n",
       "      <td>0</td>\n",
       "      <td>2025-02-16 12:47:17.933823</td>\n",
       "      <td>192</td>\n",
       "      <td>1970-01-01 00:00:00</td>\n",
       "      <td>0.0</td>\n",
       "      <td>0.0</td>\n",
       "      <td>0.0</td>\n",
       "      <td>0.0</td>\n",
       "    </tr>\n",
       "    <tr>\n",
       "      <th>1</th>\n",
       "      <td>1</td>\n",
       "      <td>2025-02-16 12:47:17.998887</td>\n",
       "      <td>257</td>\n",
       "      <td>1970-01-01 00:00:00</td>\n",
       "      <td>0.0</td>\n",
       "      <td>0.0</td>\n",
       "      <td>0.0</td>\n",
       "      <td>0.0</td>\n",
       "    </tr>\n",
       "    <tr>\n",
       "      <th>2</th>\n",
       "      <td>2</td>\n",
       "      <td>2025-02-16 12:47:18.098908</td>\n",
       "      <td>357</td>\n",
       "      <td>1970-01-01 00:00:00</td>\n",
       "      <td>0.0</td>\n",
       "      <td>0.0</td>\n",
       "      <td>0.0</td>\n",
       "      <td>0.0</td>\n",
       "    </tr>\n",
       "    <tr>\n",
       "      <th>3</th>\n",
       "      <td>3</td>\n",
       "      <td>2025-02-16 12:47:18.198870</td>\n",
       "      <td>457</td>\n",
       "      <td>1970-01-01 00:00:00</td>\n",
       "      <td>0.0</td>\n",
       "      <td>0.0</td>\n",
       "      <td>0.0</td>\n",
       "      <td>0.0</td>\n",
       "    </tr>\n",
       "    <tr>\n",
       "      <th>4</th>\n",
       "      <td>4</td>\n",
       "      <td>2025-02-16 12:47:18.298854</td>\n",
       "      <td>557</td>\n",
       "      <td>1970-01-01 00:00:00</td>\n",
       "      <td>0.0</td>\n",
       "      <td>0.0</td>\n",
       "      <td>0.0</td>\n",
       "      <td>0.0</td>\n",
       "    </tr>\n",
       "    <tr>\n",
       "      <th>...</th>\n",
       "      <td>...</td>\n",
       "      <td>...</td>\n",
       "      <td>...</td>\n",
       "      <td>...</td>\n",
       "      <td>...</td>\n",
       "      <td>...</td>\n",
       "      <td>...</td>\n",
       "      <td>...</td>\n",
       "    </tr>\n",
       "    <tr>\n",
       "      <th>95929</th>\n",
       "      <td>95930</td>\n",
       "      <td>2025-02-16 15:27:22.712948</td>\n",
       "      <td>508653</td>\n",
       "      <td>2025-02-16 15:27:22</td>\n",
       "      <td>0.0</td>\n",
       "      <td>0.0</td>\n",
       "      <td>0.0</td>\n",
       "      <td>0.0</td>\n",
       "    </tr>\n",
       "    <tr>\n",
       "      <th>95930</th>\n",
       "      <td>95931</td>\n",
       "      <td>2025-02-16 15:27:22.811789</td>\n",
       "      <td>508752</td>\n",
       "      <td>2025-02-16 15:27:22</td>\n",
       "      <td>0.0</td>\n",
       "      <td>0.0</td>\n",
       "      <td>0.0</td>\n",
       "      <td>0.0</td>\n",
       "    </tr>\n",
       "    <tr>\n",
       "      <th>95931</th>\n",
       "      <td>95932</td>\n",
       "      <td>2025-02-16 15:27:22.914726</td>\n",
       "      <td>508855</td>\n",
       "      <td>2025-02-16 15:27:22</td>\n",
       "      <td>0.0</td>\n",
       "      <td>0.0</td>\n",
       "      <td>0.0</td>\n",
       "      <td>0.0</td>\n",
       "    </tr>\n",
       "    <tr>\n",
       "      <th>95932</th>\n",
       "      <td>95933</td>\n",
       "      <td>2025-02-16 15:27:23.037750</td>\n",
       "      <td>508978</td>\n",
       "      <td>2025-02-16 15:27:23</td>\n",
       "      <td>0.0</td>\n",
       "      <td>0.0</td>\n",
       "      <td>0.0</td>\n",
       "      <td>0.0</td>\n",
       "    </tr>\n",
       "    <tr>\n",
       "      <th>95933</th>\n",
       "      <td>95934</td>\n",
       "      <td>2025-02-16 15:27:23.110766</td>\n",
       "      <td>509051</td>\n",
       "      <td>2025-02-16 15:27:23</td>\n",
       "      <td>0.0</td>\n",
       "      <td>0.0</td>\n",
       "      <td>0.0</td>\n",
       "      <td>0.0</td>\n",
       "    </tr>\n",
       "  </tbody>\n",
       "</table>\n",
       "<p>95934 rows × 8 columns</p>\n",
       "</div>"
      ],
      "text/plain": [
       "       index                    read_at  millis                  dt    v    a  \\\n",
       "0          0 2025-02-16 12:47:17.933823     192 1970-01-01 00:00:00  0.0  0.0   \n",
       "1          1 2025-02-16 12:47:17.998887     257 1970-01-01 00:00:00  0.0  0.0   \n",
       "2          2 2025-02-16 12:47:18.098908     357 1970-01-01 00:00:00  0.0  0.0   \n",
       "3          3 2025-02-16 12:47:18.198870     457 1970-01-01 00:00:00  0.0  0.0   \n",
       "4          4 2025-02-16 12:47:18.298854     557 1970-01-01 00:00:00  0.0  0.0   \n",
       "...      ...                        ...     ...                 ...  ...  ...   \n",
       "95929  95930 2025-02-16 15:27:22.712948  508653 2025-02-16 15:27:22  0.0  0.0   \n",
       "95930  95931 2025-02-16 15:27:22.811789  508752 2025-02-16 15:27:22  0.0  0.0   \n",
       "95931  95932 2025-02-16 15:27:22.914726  508855 2025-02-16 15:27:22  0.0  0.0   \n",
       "95932  95933 2025-02-16 15:27:23.037750  508978 2025-02-16 15:27:23  0.0  0.0   \n",
       "95933  95934 2025-02-16 15:27:23.110766  509051 2025-02-16 15:27:23  0.0  0.0   \n",
       "\n",
       "         w  v_sh  \n",
       "0      0.0   0.0  \n",
       "1      0.0   0.0  \n",
       "2      0.0   0.0  \n",
       "3      0.0   0.0  \n",
       "4      0.0   0.0  \n",
       "...    ...   ...  \n",
       "95929  0.0   0.0  \n",
       "95930  0.0   0.0  \n",
       "95931  0.0   0.0  \n",
       "95932  0.0   0.0  \n",
       "95933  0.0   0.0  \n",
       "\n",
       "[95934 rows x 8 columns]"
      ]
     },
     "execution_count": 228,
     "metadata": {},
     "output_type": "execute_result"
    }
   ],
   "source": [
    "#remove the trailing data before reset\n",
    "d = df#[df.millis.idxmin():]\n",
    "d"
   ]
  },
  {
   "cell_type": "code",
   "execution_count": 229,
   "id": "2517c444",
   "metadata": {},
   "outputs": [
    {
     "data": {
      "text/plain": [
       "Text(0.5, 1.0, 'Current')"
      ]
     },
     "execution_count": 229,
     "metadata": {},
     "output_type": "execute_result"
    },
    {
     "data": {
      "image/png": "[encoded data removed]",
      "text/plain": [
       "<Figure size 640x480 with 1 Axes>"
      ]
     },
     "metadata": {},
     "output_type": "display_data"
    }
   ],
   "source": [
    "plt.plot(d.read_at, d.a)\n",
    "plt.title(\"Current\")"
   ]
  },
  {
   "cell_type": "code",
   "execution_count": 230,
   "id": "1c889899",
   "metadata": {},
   "outputs": [
    {
     "data": {
      "text/plain": [
       "Text(0.5, 1.0, 'Voltage')"
      ]
     },
     "execution_count": 230,
     "metadata": {},
     "output_type": "execute_result"
    },
    {
     "data": {
      "image/png": "[encoded data removed]",
      "text/plain": [
       "<Figure size 640x480 with 1 Axes>"
      ]
     },
     "metadata": {},
     "output_type": "display_data"
    }
   ],
   "source": [
    "plt.plot(d.read_at, d.v)\n",
    "plt.title(\"Voltage\")"
   ]
  },
  {
   "cell_type": "code",
   "execution_count": 231,
   "id": "6c3eec1e",
   "metadata": {},
   "outputs": [
    {
     "data": {
      "text/plain": [
       "2573.9246796312004"
      ]
     },
     "execution_count": 231,
     "metadata": {},
     "output_type": "execute_result"
    }
   ],
   "source": [
    "from scipy import integrate\n",
    "\n",
    "time_data = (d.read_at - d.read_at.iloc[0]).dt.total_seconds()\n",
    "current_data = d.a.to_numpy()\n",
    "total_current = integrate.trapz(current_data, time_data)\n",
    "total_current #charge"
   ]
  },
  {
   "cell_type": "code",
   "execution_count": 243,
   "id": "336bdbc4",
   "metadata": {},
   "outputs": [
    {
     "data": {
      "text/plain": [
       "(9605.176943, 160.08628238333333, 2.668104706388889)"
      ]
     },
     "execution_count": 243,
     "metadata": {},
     "output_type": "execute_result"
    }
   ],
   "source": [
    "time_span = max(time_data)\n",
    "time_span, time_span / 60, time_span / 3600"
   ]
  },
  {
   "cell_type": "code",
   "execution_count": 233,
   "id": "e4cc029d",
   "metadata": {},
   "outputs": [
    {
     "data": {
      "text/plain": [
       "0.2679726458872794"
      ]
     },
     "execution_count": 233,
     "metadata": {},
     "output_type": "execute_result"
    }
   ],
   "source": [
    "avg_current = total_current / time_span\n",
    "avg_current"
   ]
  },
  {
   "cell_type": "code",
   "execution_count": 234,
   "id": "6d075128",
   "metadata": {},
   "outputs": [
    {
     "data": {
      "text/plain": [
       "2.9853793373242796"
      ]
     },
     "execution_count": 234,
     "metadata": {},
     "output_type": "execute_result"
    }
   ],
   "source": [
    "#expected\n",
    "bat_usable_cap = 0.8 #Amp hour\n",
    "runtime = bat_usable_cap / avg_current\n",
    "runtime #hours"
   ]
  },
  {
   "cell_type": "code",
   "execution_count": 240,
   "id": "204ed9c8",
   "metadata": {},
   "outputs": [
    {
     "data": {
      "text/plain": [
       "0.7149790776753334"
      ]
     },
     "execution_count": 240,
     "metadata": {},
     "output_type": "execute_result"
    }
   ],
   "source": [
    "#actual\n",
    "act_runtime = time_span / 3600\n",
    "act_bat_usable_cap = act_runtime * avg_current\n",
    "act_bat_usable_cap #Ah"
   ]
  },
  {
   "cell_type": "markdown",
   "id": "0b18696d",
   "metadata": {},
   "source": [
    "# etc"
   ]
  },
  {
   "cell_type": "code",
   "execution_count": 235,
   "id": "e10dfc63",
   "metadata": {},
   "outputs": [
    {
     "name": "stdout",
     "output_type": "stream",
     "text": [
      "0.20888888888888887 A\n",
      "0.19635555555555553 W\n",
      "3.829787234042554 hours\n"
     ]
    }
   ],
   "source": [
    "#v = i * r\n",
    "#i = v / r\n",
    "v_bat = 0.94 #volts\n",
    "c_bat = .8 #Ah\n",
    "r = 4.5 #ohms\n",
    "\n",
    "i  = v_bat / r\n",
    "print(f\"{i} A\")\n",
    "p = v_bat * i\n",
    "print(f\"{p} W\")\n",
    "\n",
    "run = c_bat / i\n",
    "print(f\"{run} hours\")"
   ]
  },
  {
   "cell_type": "code",
   "execution_count": 236,
   "id": "cce3663d",
   "metadata": {},
   "outputs": [
    {
     "data": {
      "text/plain": [
       "1.5442857142857143"
      ]
     },
     "execution_count": 236,
     "metadata": {},
     "output_type": "execute_result"
    }
   ],
   "source": [
    "1/((1/2.3)+(1/4.7))"
   ]
  }
 ],
 "metadata": {
  "kernelspec": {
   "display_name": "py310",
   "language": "python",
   "name": "py310"
  },
  "language_info": {
   "codemirror_mode": {
    "name": "ipython",
    "version": 3
   },
   "file_extension": ".py",
   "mimetype": "text/x-python",
   "name": "python",
   "nbconvert_exporter": "python",
   "pygments_lexer": "ipython3",
   "version": "3.10.6"
  }
 },
 "nbformat": 4,
 "nbformat_minor": 5
}
