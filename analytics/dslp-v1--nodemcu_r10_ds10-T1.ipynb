{
 "cells": [
  {
   "cell_type": "markdown",
   "id": "a12a46fd-4b4d-4e99-9c01-6622edff4c35",
   "metadata": {},
   "source": [
    "# DeepSleep \n",
    "## v1\n",
    "\n",
    "- board\n",
    "- r (run duration)\n",
    "- ds (deep sleep duration)\n",
    "- TX (test version)"
   ]
  },
  {
   "cell_type": "code",
   "execution_count": 22,
   "id": "1e079e8c-7ef6-4927-8d64-d58258365d47",
   "metadata": {},
   "outputs": [],
   "source": [
    "board=\"nodemcu\"\n",
    "r = 10\n",
    "ds = 10\n",
    "TX = 1\n",
    "\n",
    "batteries = [0.8, 2, 4, 10] #Ah"
   ]
  },
  {
   "cell_type": "code",
   "execution_count": 23,
   "id": "a7478314",
   "metadata": {},
   "outputs": [
    {
     "data": {
      "text/html": [
       "<div>\n",
       "<style scoped>\n",
       "    .dataframe tbody tr th:only-of-type {\n",
       "        vertical-align: middle;\n",
       "    }\n",
       "\n",
       "    .dataframe tbody tr th {\n",
       "        vertical-align: top;\n",
       "    }\n",
       "\n",
       "    .dataframe thead th {\n",
       "        text-align: right;\n",
       "    }\n",
       "</style>\n",
       "<table border=\"1\" class=\"dataframe\">\n",
       "  <thead>\n",
       "    <tr style=\"text-align: right;\">\n",
       "      <th></th>\n",
       "      <th>index</th>\n",
       "      <th>read_at</th>\n",
       "      <th>millis</th>\n",
       "      <th>dt</th>\n",
       "      <th>v</th>\n",
       "      <th>a</th>\n",
       "      <th>w</th>\n",
       "      <th>v_sh</th>\n",
       "    </tr>\n",
       "  </thead>\n",
       "  <tbody>\n",
       "    <tr>\n",
       "      <th>0</th>\n",
       "      <td>0</td>\n",
       "      <td>2025-02-28 14:32:00.666620</td>\n",
       "      <td>18165</td>\n",
       "      <td>2025-02-28 14:32:00</td>\n",
       "      <td>5.096</td>\n",
       "      <td>0.01</td>\n",
       "      <td>0.05096</td>\n",
       "      <td>0.001</td>\n",
       "    </tr>\n",
       "    <tr>\n",
       "      <th>1</th>\n",
       "      <td>1</td>\n",
       "      <td>2025-02-28 14:32:00.676277</td>\n",
       "      <td>18176</td>\n",
       "      <td>2025-02-28 14:32:00</td>\n",
       "      <td>5.096</td>\n",
       "      <td>0.01</td>\n",
       "      <td>0.05096</td>\n",
       "      <td>0.001</td>\n",
       "    </tr>\n",
       "    <tr>\n",
       "      <th>2</th>\n",
       "      <td>2</td>\n",
       "      <td>2025-02-28 14:32:00.688151</td>\n",
       "      <td>18187</td>\n",
       "      <td>2025-02-28 14:32:00</td>\n",
       "      <td>5.096</td>\n",
       "      <td>0.01</td>\n",
       "      <td>0.05096</td>\n",
       "      <td>0.001</td>\n",
       "    </tr>\n",
       "    <tr>\n",
       "      <th>3</th>\n",
       "      <td>3</td>\n",
       "      <td>2025-02-28 14:32:00.698533</td>\n",
       "      <td>18197</td>\n",
       "      <td>2025-02-28 14:32:00</td>\n",
       "      <td>5.096</td>\n",
       "      <td>0.01</td>\n",
       "      <td>0.05096</td>\n",
       "      <td>0.001</td>\n",
       "    </tr>\n",
       "    <tr>\n",
       "      <th>4</th>\n",
       "      <td>4</td>\n",
       "      <td>2025-02-28 14:32:00.710205</td>\n",
       "      <td>18209</td>\n",
       "      <td>2025-02-28 14:32:00</td>\n",
       "      <td>5.096</td>\n",
       "      <td>0.01</td>\n",
       "      <td>0.05096</td>\n",
       "      <td>0.001</td>\n",
       "    </tr>\n",
       "    <tr>\n",
       "      <th>...</th>\n",
       "      <td>...</td>\n",
       "      <td>...</td>\n",
       "      <td>...</td>\n",
       "      <td>...</td>\n",
       "      <td>...</td>\n",
       "      <td>...</td>\n",
       "      <td>...</td>\n",
       "      <td>...</td>\n",
       "    </tr>\n",
       "    <tr>\n",
       "      <th>5265</th>\n",
       "      <td>5265</td>\n",
       "      <td>2025-02-28 14:33:00.615008</td>\n",
       "      <td>78112</td>\n",
       "      <td>2025-02-28 14:33:00</td>\n",
       "      <td>5.096</td>\n",
       "      <td>0.01</td>\n",
       "      <td>0.05096</td>\n",
       "      <td>0.001</td>\n",
       "    </tr>\n",
       "    <tr>\n",
       "      <th>5266</th>\n",
       "      <td>5266</td>\n",
       "      <td>2025-02-28 14:33:00.626876</td>\n",
       "      <td>78124</td>\n",
       "      <td>2025-02-28 14:33:00</td>\n",
       "      <td>5.096</td>\n",
       "      <td>0.01</td>\n",
       "      <td>0.05096</td>\n",
       "      <td>0.001</td>\n",
       "    </tr>\n",
       "    <tr>\n",
       "      <th>5267</th>\n",
       "      <td>5267</td>\n",
       "      <td>2025-02-28 14:33:00.636793</td>\n",
       "      <td>78133</td>\n",
       "      <td>2025-02-28 14:33:00</td>\n",
       "      <td>5.096</td>\n",
       "      <td>0.01</td>\n",
       "      <td>0.05096</td>\n",
       "      <td>0.001</td>\n",
       "    </tr>\n",
       "    <tr>\n",
       "      <th>5268</th>\n",
       "      <td>5268</td>\n",
       "      <td>2025-02-28 14:33:00.647981</td>\n",
       "      <td>78145</td>\n",
       "      <td>2025-02-28 14:33:00</td>\n",
       "      <td>5.096</td>\n",
       "      <td>0.01</td>\n",
       "      <td>0.05096</td>\n",
       "      <td>0.001</td>\n",
       "    </tr>\n",
       "    <tr>\n",
       "      <th>5269</th>\n",
       "      <td>5269</td>\n",
       "      <td>2025-02-28 14:33:00.658921</td>\n",
       "      <td>78156</td>\n",
       "      <td>2025-02-28 14:33:00</td>\n",
       "      <td>5.096</td>\n",
       "      <td>0.01</td>\n",
       "      <td>0.05096</td>\n",
       "      <td>0.001</td>\n",
       "    </tr>\n",
       "  </tbody>\n",
       "</table>\n",
       "<p>5270 rows × 8 columns</p>\n",
       "</div>"
      ],
      "text/plain": [
       "      index                    read_at  millis                  dt      v  \\\n",
       "0         0 2025-02-28 14:32:00.666620   18165 2025-02-28 14:32:00  5.096   \n",
       "1         1 2025-02-28 14:32:00.676277   18176 2025-02-28 14:32:00  5.096   \n",
       "2         2 2025-02-28 14:32:00.688151   18187 2025-02-28 14:32:00  5.096   \n",
       "3         3 2025-02-28 14:32:00.698533   18197 2025-02-28 14:32:00  5.096   \n",
       "4         4 2025-02-28 14:32:00.710205   18209 2025-02-28 14:32:00  5.096   \n",
       "...     ...                        ...     ...                 ...    ...   \n",
       "5265   5265 2025-02-28 14:33:00.615008   78112 2025-02-28 14:33:00  5.096   \n",
       "5266   5266 2025-02-28 14:33:00.626876   78124 2025-02-28 14:33:00  5.096   \n",
       "5267   5267 2025-02-28 14:33:00.636793   78133 2025-02-28 14:33:00  5.096   \n",
       "5268   5268 2025-02-28 14:33:00.647981   78145 2025-02-28 14:33:00  5.096   \n",
       "5269   5269 2025-02-28 14:33:00.658921   78156 2025-02-28 14:33:00  5.096   \n",
       "\n",
       "         a        w   v_sh  \n",
       "0     0.01  0.05096  0.001  \n",
       "1     0.01  0.05096  0.001  \n",
       "2     0.01  0.05096  0.001  \n",
       "3     0.01  0.05096  0.001  \n",
       "4     0.01  0.05096  0.001  \n",
       "...    ...      ...    ...  \n",
       "5265  0.01  0.05096  0.001  \n",
       "5266  0.01  0.05096  0.001  \n",
       "5267  0.01  0.05096  0.001  \n",
       "5268  0.01  0.05096  0.001  \n",
       "5269  0.01  0.05096  0.001  \n",
       "\n",
       "[5270 rows x 8 columns]"
      ]
     },
     "execution_count": 23,
     "metadata": {},
     "output_type": "execute_result"
    }
   ],
   "source": [
    "import pandas as pd\n",
    "import matplotlib.pyplot as plt\n",
    "\n",
    "filename = f\"../data/dslp--{board}_r{r}_ds{ds}-T{TX}.csv\"\n",
    "\n",
    "df = pd.read_csv(filename, parse_dates=[\"read_at\", \"timestamp\"])\n",
    "\n",
    "df.columns = ['index','read_at', 'millis', \"dt\", \"v\", \"a\", \"w\", \"v_sh\"]\n",
    "df"
   ]
  },
  {
   "cell_type": "code",
   "execution_count": 24,
   "id": "98b6ec92",
   "metadata": {},
   "outputs": [
    {
     "data": {
      "text/html": [
       "<div>\n",
       "<style scoped>\n",
       "    .dataframe tbody tr th:only-of-type {\n",
       "        vertical-align: middle;\n",
       "    }\n",
       "\n",
       "    .dataframe tbody tr th {\n",
       "        vertical-align: top;\n",
       "    }\n",
       "\n",
       "    .dataframe thead th {\n",
       "        text-align: right;\n",
       "    }\n",
       "</style>\n",
       "<table border=\"1\" class=\"dataframe\">\n",
       "  <thead>\n",
       "    <tr style=\"text-align: right;\">\n",
       "      <th></th>\n",
       "      <th>index</th>\n",
       "      <th>read_at</th>\n",
       "      <th>millis</th>\n",
       "      <th>dt</th>\n",
       "      <th>v</th>\n",
       "      <th>a</th>\n",
       "      <th>w</th>\n",
       "      <th>v_sh</th>\n",
       "    </tr>\n",
       "  </thead>\n",
       "  <tbody>\n",
       "    <tr>\n",
       "      <th>0</th>\n",
       "      <td>0</td>\n",
       "      <td>2025-02-28 14:32:00.666620</td>\n",
       "      <td>18165</td>\n",
       "      <td>2025-02-28 14:32:00</td>\n",
       "      <td>5.096</td>\n",
       "      <td>0.01</td>\n",
       "      <td>0.05096</td>\n",
       "      <td>0.001</td>\n",
       "    </tr>\n",
       "    <tr>\n",
       "      <th>1</th>\n",
       "      <td>1</td>\n",
       "      <td>2025-02-28 14:32:00.676277</td>\n",
       "      <td>18176</td>\n",
       "      <td>2025-02-28 14:32:00</td>\n",
       "      <td>5.096</td>\n",
       "      <td>0.01</td>\n",
       "      <td>0.05096</td>\n",
       "      <td>0.001</td>\n",
       "    </tr>\n",
       "    <tr>\n",
       "      <th>2</th>\n",
       "      <td>2</td>\n",
       "      <td>2025-02-28 14:32:00.688151</td>\n",
       "      <td>18187</td>\n",
       "      <td>2025-02-28 14:32:00</td>\n",
       "      <td>5.096</td>\n",
       "      <td>0.01</td>\n",
       "      <td>0.05096</td>\n",
       "      <td>0.001</td>\n",
       "    </tr>\n",
       "    <tr>\n",
       "      <th>3</th>\n",
       "      <td>3</td>\n",
       "      <td>2025-02-28 14:32:00.698533</td>\n",
       "      <td>18197</td>\n",
       "      <td>2025-02-28 14:32:00</td>\n",
       "      <td>5.096</td>\n",
       "      <td>0.01</td>\n",
       "      <td>0.05096</td>\n",
       "      <td>0.001</td>\n",
       "    </tr>\n",
       "    <tr>\n",
       "      <th>4</th>\n",
       "      <td>4</td>\n",
       "      <td>2025-02-28 14:32:00.710205</td>\n",
       "      <td>18209</td>\n",
       "      <td>2025-02-28 14:32:00</td>\n",
       "      <td>5.096</td>\n",
       "      <td>0.01</td>\n",
       "      <td>0.05096</td>\n",
       "      <td>0.001</td>\n",
       "    </tr>\n",
       "    <tr>\n",
       "      <th>...</th>\n",
       "      <td>...</td>\n",
       "      <td>...</td>\n",
       "      <td>...</td>\n",
       "      <td>...</td>\n",
       "      <td>...</td>\n",
       "      <td>...</td>\n",
       "      <td>...</td>\n",
       "      <td>...</td>\n",
       "    </tr>\n",
       "    <tr>\n",
       "      <th>5265</th>\n",
       "      <td>5265</td>\n",
       "      <td>2025-02-28 14:33:00.615008</td>\n",
       "      <td>78112</td>\n",
       "      <td>2025-02-28 14:33:00</td>\n",
       "      <td>5.096</td>\n",
       "      <td>0.01</td>\n",
       "      <td>0.05096</td>\n",
       "      <td>0.001</td>\n",
       "    </tr>\n",
       "    <tr>\n",
       "      <th>5266</th>\n",
       "      <td>5266</td>\n",
       "      <td>2025-02-28 14:33:00.626876</td>\n",
       "      <td>78124</td>\n",
       "      <td>2025-02-28 14:33:00</td>\n",
       "      <td>5.096</td>\n",
       "      <td>0.01</td>\n",
       "      <td>0.05096</td>\n",
       "      <td>0.001</td>\n",
       "    </tr>\n",
       "    <tr>\n",
       "      <th>5267</th>\n",
       "      <td>5267</td>\n",
       "      <td>2025-02-28 14:33:00.636793</td>\n",
       "      <td>78133</td>\n",
       "      <td>2025-02-28 14:33:00</td>\n",
       "      <td>5.096</td>\n",
       "      <td>0.01</td>\n",
       "      <td>0.05096</td>\n",
       "      <td>0.001</td>\n",
       "    </tr>\n",
       "    <tr>\n",
       "      <th>5268</th>\n",
       "      <td>5268</td>\n",
       "      <td>2025-02-28 14:33:00.647981</td>\n",
       "      <td>78145</td>\n",
       "      <td>2025-02-28 14:33:00</td>\n",
       "      <td>5.096</td>\n",
       "      <td>0.01</td>\n",
       "      <td>0.05096</td>\n",
       "      <td>0.001</td>\n",
       "    </tr>\n",
       "    <tr>\n",
       "      <th>5269</th>\n",
       "      <td>5269</td>\n",
       "      <td>2025-02-28 14:33:00.658921</td>\n",
       "      <td>78156</td>\n",
       "      <td>2025-02-28 14:33:00</td>\n",
       "      <td>5.096</td>\n",
       "      <td>0.01</td>\n",
       "      <td>0.05096</td>\n",
       "      <td>0.001</td>\n",
       "    </tr>\n",
       "  </tbody>\n",
       "</table>\n",
       "<p>5270 rows × 8 columns</p>\n",
       "</div>"
      ],
      "text/plain": [
       "      index                    read_at  millis                  dt      v  \\\n",
       "0         0 2025-02-28 14:32:00.666620   18165 2025-02-28 14:32:00  5.096   \n",
       "1         1 2025-02-28 14:32:00.676277   18176 2025-02-28 14:32:00  5.096   \n",
       "2         2 2025-02-28 14:32:00.688151   18187 2025-02-28 14:32:00  5.096   \n",
       "3         3 2025-02-28 14:32:00.698533   18197 2025-02-28 14:32:00  5.096   \n",
       "4         4 2025-02-28 14:32:00.710205   18209 2025-02-28 14:32:00  5.096   \n",
       "...     ...                        ...     ...                 ...    ...   \n",
       "5265   5265 2025-02-28 14:33:00.615008   78112 2025-02-28 14:33:00  5.096   \n",
       "5266   5266 2025-02-28 14:33:00.626876   78124 2025-02-28 14:33:00  5.096   \n",
       "5267   5267 2025-02-28 14:33:00.636793   78133 2025-02-28 14:33:00  5.096   \n",
       "5268   5268 2025-02-28 14:33:00.647981   78145 2025-02-28 14:33:00  5.096   \n",
       "5269   5269 2025-02-28 14:33:00.658921   78156 2025-02-28 14:33:00  5.096   \n",
       "\n",
       "         a        w   v_sh  \n",
       "0     0.01  0.05096  0.001  \n",
       "1     0.01  0.05096  0.001  \n",
       "2     0.01  0.05096  0.001  \n",
       "3     0.01  0.05096  0.001  \n",
       "4     0.01  0.05096  0.001  \n",
       "...    ...      ...    ...  \n",
       "5265  0.01  0.05096  0.001  \n",
       "5266  0.01  0.05096  0.001  \n",
       "5267  0.01  0.05096  0.001  \n",
       "5268  0.01  0.05096  0.001  \n",
       "5269  0.01  0.05096  0.001  \n",
       "\n",
       "[5270 rows x 8 columns]"
      ]
     },
     "execution_count": 24,
     "metadata": {},
     "output_type": "execute_result"
    }
   ],
   "source": [
    "#remove the trailing data before reset\n",
    "d = df#[df.millis.idxmin():]\n",
    "d"
   ]
  },
  {
   "cell_type": "code",
   "execution_count": 25,
   "id": "2517c444",
   "metadata": {},
   "outputs": [
    {
     "data": {
      "text/plain": [
       "Text(0.5, 1.0, 'Current')"
      ]
     },
     "execution_count": 25,
     "metadata": {},
     "output_type": "execute_result"
    },
    {
     "data": {
      "image/png": "[encoded data removed]",
      "text/plain": [
       "<Figure size 640x480 with 1 Axes>"
      ]
     },
     "metadata": {},
     "output_type": "display_data"
    }
   ],
   "source": [
    "plt.plot(d.read_at, d.a)\n",
    "plt.title(\"Current\")"
   ]
  },
  {
   "cell_type": "code",
   "execution_count": 26,
   "id": "1c889899",
   "metadata": {},
   "outputs": [
    {
     "data": {
      "text/plain": [
       "Text(0.5, 1.0, 'Voltage')"
      ]
     },
     "execution_count": 26,
     "metadata": {},
     "output_type": "execute_result"
    },
    {
     "data": {
      "image/png": "[encoded data removed]",
      "text/plain": [
       "<Figure size 640x480 with 1 Axes>"
      ]
     },
     "metadata": {},
     "output_type": "display_data"
    }
   ],
   "source": [
    "plt.plot(d.read_at, d.v)\n",
    "plt.title(\"Voltage\")"
   ]
  },
  {
   "cell_type": "code",
   "execution_count": 27,
   "id": "6c3eec1e",
   "metadata": {},
   "outputs": [
    {
     "data": {
      "text/plain": [
       "np.float64(3.3806761317999996)"
      ]
     },
     "execution_count": 27,
     "metadata": {},
     "output_type": "execute_result"
    }
   ],
   "source": [
    "from scipy import integrate\n",
    "\n",
    "time_data = (d.read_at - d.read_at.iloc[0]).dt.total_seconds()\n",
    "current_data = d.a.to_numpy()\n",
    "total_current = integrate.trapezoid(current_data, time_data)\n",
    "total_current #A in timespan"
   ]
  },
  {
   "cell_type": "code",
   "execution_count": 28,
   "id": "336bdbc4",
   "metadata": {},
   "outputs": [
    {
     "data": {
      "text/plain": [
       "59.992301"
      ]
     },
     "execution_count": 28,
     "metadata": {},
     "output_type": "execute_result"
    }
   ],
   "source": [
    "time_span = max(time_data)\n",
    "time_span #seg"
   ]
  },
  {
   "cell_type": "code",
   "execution_count": 29,
   "id": "e4cc029d",
   "metadata": {},
   "outputs": [
    {
     "data": {
      "text/plain": [
       "np.float64(0.05635183307604754)"
      ]
     },
     "execution_count": 29,
     "metadata": {},
     "output_type": "execute_result"
    }
   ],
   "source": [
    "avg_current = total_current / time_span\n",
    "avg_current #A"
   ]
  },
  {
   "cell_type": "markdown",
   "id": "70598578-fa7b-43a4-a35e-eabe13ca8fb1",
   "metadata": {},
   "source": [
    "## Expected runtime using batteries"
   ]
  },
  {
   "cell_type": "code",
   "execution_count": 38,
   "id": "6d075128",
   "metadata": {},
   "outputs": [
    {
     "name": "stdout",
     "output_type": "stream",
     "text": [
      "At 0.80Ah:\t14.2 hours,\t0.59 days\n",
      "At 2.00Ah:\t35.5 hours,\t1.48 days\n",
      "At 4.00Ah:\t71.0 hours,\t2.96 days\n",
      "At 10.00Ah:\t177.5 hours,\t7.39 days\n"
     ]
    }
   ],
   "source": [
    "for bat_usable_cap in batteries: #Amp hour\n",
    "    runtime = bat_usable_cap / avg_current\n",
    "    print(f\"At {bat_usable_cap:.02f}Ah:\\t{runtime:.01f} hours,\\t{runtime/24:.02f} days\")"
   ]
  }
 ],
 "metadata": {
  "kernelspec": {
   "display_name": "Python 3 (ipykernel)",
   "language": "python",
   "name": "python3"
  },
  "language_info": {
   "codemirror_mode": {
    "name": "ipython",
    "version": 3
   },
   "file_extension": ".py",
   "mimetype": "text/x-python",
   "name": "python",
   "nbconvert_exporter": "python",
   "pygments_lexer": "ipython3",
   "version": "3.10.16"
  }
 },
 "nbformat": 4,
 "nbformat_minor": 5
}
