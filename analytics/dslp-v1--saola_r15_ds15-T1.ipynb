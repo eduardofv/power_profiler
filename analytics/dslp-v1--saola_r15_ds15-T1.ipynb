{
 "cells": [
  {
   "cell_type": "markdown",
   "id": "a12a46fd-4b4d-4e99-9c01-6622edff4c35",
   "metadata": {},
   "source": [
    "# DeepSleep \n",
    "## Notas\n",
    "* En Saola hay periodos que no se va a dormir y se une con el siguiente. Probar si es por el tamaño de los periodos\n",
    "\n",
    "## v1\n",
    "\n",
    "- board\n",
    "- r (run duration)\n",
    "- ds (deep sleep duration)\n",
    "- TX (test version)\n",
    "\n",
    "## T\n",
    "\n",
    "240seg a 10ms"
   ]
  },
  {
   "cell_type": "code",
   "execution_count": 46,
   "id": "1e079e8c-7ef6-4927-8d64-d58258365d47",
   "metadata": {},
   "outputs": [],
   "source": [
    "board=\"saola\"\n",
    "r = 15\n",
    "ds = 15\n",
    "TX = 1\n",
    "\n",
    "batteries = [0.8, 2, 4, 10] #Ah"
   ]
  },
  {
   "cell_type": "code",
   "execution_count": 47,
   "id": "a7478314",
   "metadata": {},
   "outputs": [
    {
     "name": "stdout",
     "output_type": "stream",
     "text": [
      "../data/dslp--saola_r15_ds15-T1.csv\n"
     ]
    },
    {
     "data": {
      "text/html": [
       "<div>\n",
       "<style scoped>\n",
       "    .dataframe tbody tr th:only-of-type {\n",
       "        vertical-align: middle;\n",
       "    }\n",
       "\n",
       "    .dataframe tbody tr th {\n",
       "        vertical-align: top;\n",
       "    }\n",
       "\n",
       "    .dataframe thead th {\n",
       "        text-align: right;\n",
       "    }\n",
       "</style>\n",
       "<table border=\"1\" class=\"dataframe\">\n",
       "  <thead>\n",
       "    <tr style=\"text-align: right;\">\n",
       "      <th></th>\n",
       "      <th>index</th>\n",
       "      <th>read_at</th>\n",
       "      <th>millis</th>\n",
       "      <th>dt</th>\n",
       "      <th>v</th>\n",
       "      <th>a</th>\n",
       "      <th>w</th>\n",
       "      <th>v_sh</th>\n",
       "    </tr>\n",
       "  </thead>\n",
       "  <tbody>\n",
       "    <tr>\n",
       "      <th>0</th>\n",
       "      <td>0</td>\n",
       "      <td>2025-02-28 18:06:49.855030</td>\n",
       "      <td>103592</td>\n",
       "      <td>2025-02-28 18:06:49</td>\n",
       "      <td>5.048</td>\n",
       "      <td>0.0940</td>\n",
       "      <td>0.47451</td>\n",
       "      <td>0.00940</td>\n",
       "    </tr>\n",
       "    <tr>\n",
       "      <th>1</th>\n",
       "      <td>1</td>\n",
       "      <td>2025-02-28 18:06:49.865987</td>\n",
       "      <td>103602</td>\n",
       "      <td>2025-02-28 18:06:49</td>\n",
       "      <td>5.048</td>\n",
       "      <td>0.0948</td>\n",
       "      <td>0.47855</td>\n",
       "      <td>0.00948</td>\n",
       "    </tr>\n",
       "    <tr>\n",
       "      <th>2</th>\n",
       "      <td>2</td>\n",
       "      <td>2025-02-28 18:06:49.878869</td>\n",
       "      <td>103615</td>\n",
       "      <td>2025-02-28 18:06:49</td>\n",
       "      <td>5.048</td>\n",
       "      <td>0.0948</td>\n",
       "      <td>0.47855</td>\n",
       "      <td>0.00948</td>\n",
       "    </tr>\n",
       "    <tr>\n",
       "      <th>3</th>\n",
       "      <td>3</td>\n",
       "      <td>2025-02-28 18:06:49.889186</td>\n",
       "      <td>103625</td>\n",
       "      <td>2025-02-28 18:06:49</td>\n",
       "      <td>5.048</td>\n",
       "      <td>0.0952</td>\n",
       "      <td>0.48057</td>\n",
       "      <td>0.00952</td>\n",
       "    </tr>\n",
       "    <tr>\n",
       "      <th>4</th>\n",
       "      <td>4</td>\n",
       "      <td>2025-02-28 18:06:49.900964</td>\n",
       "      <td>103637</td>\n",
       "      <td>2025-02-28 18:06:49</td>\n",
       "      <td>5.048</td>\n",
       "      <td>0.0956</td>\n",
       "      <td>0.48259</td>\n",
       "      <td>0.00956</td>\n",
       "    </tr>\n",
       "    <tr>\n",
       "      <th>...</th>\n",
       "      <td>...</td>\n",
       "      <td>...</td>\n",
       "      <td>...</td>\n",
       "      <td>...</td>\n",
       "      <td>...</td>\n",
       "      <td>...</td>\n",
       "      <td>...</td>\n",
       "      <td>...</td>\n",
       "    </tr>\n",
       "    <tr>\n",
       "      <th>20958</th>\n",
       "      <td>20958</td>\n",
       "      <td>2025-02-28 18:10:49.806980</td>\n",
       "      <td>343534</td>\n",
       "      <td>2025-02-28 18:10:49</td>\n",
       "      <td>5.048</td>\n",
       "      <td>0.0924</td>\n",
       "      <td>0.46644</td>\n",
       "      <td>0.00924</td>\n",
       "    </tr>\n",
       "    <tr>\n",
       "      <th>20959</th>\n",
       "      <td>20959</td>\n",
       "      <td>2025-02-28 18:10:49.816858</td>\n",
       "      <td>343544</td>\n",
       "      <td>2025-02-28 18:10:49</td>\n",
       "      <td>5.048</td>\n",
       "      <td>0.0924</td>\n",
       "      <td>0.46644</td>\n",
       "      <td>0.00924</td>\n",
       "    </tr>\n",
       "    <tr>\n",
       "      <th>20960</th>\n",
       "      <td>20960</td>\n",
       "      <td>2025-02-28 18:10:49.828831</td>\n",
       "      <td>343556</td>\n",
       "      <td>2025-02-28 18:10:49</td>\n",
       "      <td>5.048</td>\n",
       "      <td>0.0944</td>\n",
       "      <td>0.47653</td>\n",
       "      <td>0.00944</td>\n",
       "    </tr>\n",
       "    <tr>\n",
       "      <th>20961</th>\n",
       "      <td>20961</td>\n",
       "      <td>2025-02-28 18:10:49.839556</td>\n",
       "      <td>343567</td>\n",
       "      <td>2025-02-28 18:10:49</td>\n",
       "      <td>5.048</td>\n",
       "      <td>0.0940</td>\n",
       "      <td>0.47451</td>\n",
       "      <td>0.00940</td>\n",
       "    </tr>\n",
       "    <tr>\n",
       "      <th>20962</th>\n",
       "      <td>20962</td>\n",
       "      <td>2025-02-28 18:10:49.850585</td>\n",
       "      <td>343578</td>\n",
       "      <td>2025-02-28 18:10:49</td>\n",
       "      <td>5.048</td>\n",
       "      <td>0.0940</td>\n",
       "      <td>0.47451</td>\n",
       "      <td>0.00940</td>\n",
       "    </tr>\n",
       "  </tbody>\n",
       "</table>\n",
       "<p>20963 rows × 8 columns</p>\n",
       "</div>"
      ],
      "text/plain": [
       "       index                    read_at  millis                  dt      v  \\\n",
       "0          0 2025-02-28 18:06:49.855030  103592 2025-02-28 18:06:49  5.048   \n",
       "1          1 2025-02-28 18:06:49.865987  103602 2025-02-28 18:06:49  5.048   \n",
       "2          2 2025-02-28 18:06:49.878869  103615 2025-02-28 18:06:49  5.048   \n",
       "3          3 2025-02-28 18:06:49.889186  103625 2025-02-28 18:06:49  5.048   \n",
       "4          4 2025-02-28 18:06:49.900964  103637 2025-02-28 18:06:49  5.048   \n",
       "...      ...                        ...     ...                 ...    ...   \n",
       "20958  20958 2025-02-28 18:10:49.806980  343534 2025-02-28 18:10:49  5.048   \n",
       "20959  20959 2025-02-28 18:10:49.816858  343544 2025-02-28 18:10:49  5.048   \n",
       "20960  20960 2025-02-28 18:10:49.828831  343556 2025-02-28 18:10:49  5.048   \n",
       "20961  20961 2025-02-28 18:10:49.839556  343567 2025-02-28 18:10:49  5.048   \n",
       "20962  20962 2025-02-28 18:10:49.850585  343578 2025-02-28 18:10:49  5.048   \n",
       "\n",
       "            a        w     v_sh  \n",
       "0      0.0940  0.47451  0.00940  \n",
       "1      0.0948  0.47855  0.00948  \n",
       "2      0.0948  0.47855  0.00948  \n",
       "3      0.0952  0.48057  0.00952  \n",
       "4      0.0956  0.48259  0.00956  \n",
       "...       ...      ...      ...  \n",
       "20958  0.0924  0.46644  0.00924  \n",
       "20959  0.0924  0.46644  0.00924  \n",
       "20960  0.0944  0.47653  0.00944  \n",
       "20961  0.0940  0.47451  0.00940  \n",
       "20962  0.0940  0.47451  0.00940  \n",
       "\n",
       "[20963 rows x 8 columns]"
      ]
     },
     "execution_count": 47,
     "metadata": {},
     "output_type": "execute_result"
    }
   ],
   "source": [
    "import pandas as pd\n",
    "import matplotlib.pyplot as plt\n",
    "\n",
    "filename = f\"../data/dslp--{board}_r{r}_ds{ds}-T{TX}.csv\"\n",
    "print(filename)\n",
    "\n",
    "df = pd.read_csv(filename, parse_dates=[\"read_at\", \"timestamp\"])\n",
    "\n",
    "df.columns = ['index','read_at', 'millis', \"dt\", \"v\", \"a\", \"w\", \"v_sh\"]\n",
    "df"
   ]
  },
  {
   "cell_type": "code",
   "execution_count": 48,
   "id": "98b6ec92",
   "metadata": {},
   "outputs": [
    {
     "data": {
      "text/html": [
       "<div>\n",
       "<style scoped>\n",
       "    .dataframe tbody tr th:only-of-type {\n",
       "        vertical-align: middle;\n",
       "    }\n",
       "\n",
       "    .dataframe tbody tr th {\n",
       "        vertical-align: top;\n",
       "    }\n",
       "\n",
       "    .dataframe thead th {\n",
       "        text-align: right;\n",
       "    }\n",
       "</style>\n",
       "<table border=\"1\" class=\"dataframe\">\n",
       "  <thead>\n",
       "    <tr style=\"text-align: right;\">\n",
       "      <th></th>\n",
       "      <th>index</th>\n",
       "      <th>read_at</th>\n",
       "      <th>millis</th>\n",
       "      <th>dt</th>\n",
       "      <th>v</th>\n",
       "      <th>a</th>\n",
       "      <th>w</th>\n",
       "      <th>v_sh</th>\n",
       "    </tr>\n",
       "  </thead>\n",
       "  <tbody>\n",
       "    <tr>\n",
       "      <th>0</th>\n",
       "      <td>0</td>\n",
       "      <td>2025-02-28 18:06:49.855030</td>\n",
       "      <td>103592</td>\n",
       "      <td>2025-02-28 18:06:49</td>\n",
       "      <td>5.048</td>\n",
       "      <td>0.0940</td>\n",
       "      <td>0.47451</td>\n",
       "      <td>0.00940</td>\n",
       "    </tr>\n",
       "    <tr>\n",
       "      <th>1</th>\n",
       "      <td>1</td>\n",
       "      <td>2025-02-28 18:06:49.865987</td>\n",
       "      <td>103602</td>\n",
       "      <td>2025-02-28 18:06:49</td>\n",
       "      <td>5.048</td>\n",
       "      <td>0.0948</td>\n",
       "      <td>0.47855</td>\n",
       "      <td>0.00948</td>\n",
       "    </tr>\n",
       "    <tr>\n",
       "      <th>2</th>\n",
       "      <td>2</td>\n",
       "      <td>2025-02-28 18:06:49.878869</td>\n",
       "      <td>103615</td>\n",
       "      <td>2025-02-28 18:06:49</td>\n",
       "      <td>5.048</td>\n",
       "      <td>0.0948</td>\n",
       "      <td>0.47855</td>\n",
       "      <td>0.00948</td>\n",
       "    </tr>\n",
       "    <tr>\n",
       "      <th>3</th>\n",
       "      <td>3</td>\n",
       "      <td>2025-02-28 18:06:49.889186</td>\n",
       "      <td>103625</td>\n",
       "      <td>2025-02-28 18:06:49</td>\n",
       "      <td>5.048</td>\n",
       "      <td>0.0952</td>\n",
       "      <td>0.48057</td>\n",
       "      <td>0.00952</td>\n",
       "    </tr>\n",
       "    <tr>\n",
       "      <th>4</th>\n",
       "      <td>4</td>\n",
       "      <td>2025-02-28 18:06:49.900964</td>\n",
       "      <td>103637</td>\n",
       "      <td>2025-02-28 18:06:49</td>\n",
       "      <td>5.048</td>\n",
       "      <td>0.0956</td>\n",
       "      <td>0.48259</td>\n",
       "      <td>0.00956</td>\n",
       "    </tr>\n",
       "    <tr>\n",
       "      <th>...</th>\n",
       "      <td>...</td>\n",
       "      <td>...</td>\n",
       "      <td>...</td>\n",
       "      <td>...</td>\n",
       "      <td>...</td>\n",
       "      <td>...</td>\n",
       "      <td>...</td>\n",
       "      <td>...</td>\n",
       "    </tr>\n",
       "    <tr>\n",
       "      <th>20958</th>\n",
       "      <td>20958</td>\n",
       "      <td>2025-02-28 18:10:49.806980</td>\n",
       "      <td>343534</td>\n",
       "      <td>2025-02-28 18:10:49</td>\n",
       "      <td>5.048</td>\n",
       "      <td>0.0924</td>\n",
       "      <td>0.46644</td>\n",
       "      <td>0.00924</td>\n",
       "    </tr>\n",
       "    <tr>\n",
       "      <th>20959</th>\n",
       "      <td>20959</td>\n",
       "      <td>2025-02-28 18:10:49.816858</td>\n",
       "      <td>343544</td>\n",
       "      <td>2025-02-28 18:10:49</td>\n",
       "      <td>5.048</td>\n",
       "      <td>0.0924</td>\n",
       "      <td>0.46644</td>\n",
       "      <td>0.00924</td>\n",
       "    </tr>\n",
       "    <tr>\n",
       "      <th>20960</th>\n",
       "      <td>20960</td>\n",
       "      <td>2025-02-28 18:10:49.828831</td>\n",
       "      <td>343556</td>\n",
       "      <td>2025-02-28 18:10:49</td>\n",
       "      <td>5.048</td>\n",
       "      <td>0.0944</td>\n",
       "      <td>0.47653</td>\n",
       "      <td>0.00944</td>\n",
       "    </tr>\n",
       "    <tr>\n",
       "      <th>20961</th>\n",
       "      <td>20961</td>\n",
       "      <td>2025-02-28 18:10:49.839556</td>\n",
       "      <td>343567</td>\n",
       "      <td>2025-02-28 18:10:49</td>\n",
       "      <td>5.048</td>\n",
       "      <td>0.0940</td>\n",
       "      <td>0.47451</td>\n",
       "      <td>0.00940</td>\n",
       "    </tr>\n",
       "    <tr>\n",
       "      <th>20962</th>\n",
       "      <td>20962</td>\n",
       "      <td>2025-02-28 18:10:49.850585</td>\n",
       "      <td>343578</td>\n",
       "      <td>2025-02-28 18:10:49</td>\n",
       "      <td>5.048</td>\n",
       "      <td>0.0940</td>\n",
       "      <td>0.47451</td>\n",
       "      <td>0.00940</td>\n",
       "    </tr>\n",
       "  </tbody>\n",
       "</table>\n",
       "<p>20963 rows × 8 columns</p>\n",
       "</div>"
      ],
      "text/plain": [
       "       index                    read_at  millis                  dt      v  \\\n",
       "0          0 2025-02-28 18:06:49.855030  103592 2025-02-28 18:06:49  5.048   \n",
       "1          1 2025-02-28 18:06:49.865987  103602 2025-02-28 18:06:49  5.048   \n",
       "2          2 2025-02-28 18:06:49.878869  103615 2025-02-28 18:06:49  5.048   \n",
       "3          3 2025-02-28 18:06:49.889186  103625 2025-02-28 18:06:49  5.048   \n",
       "4          4 2025-02-28 18:06:49.900964  103637 2025-02-28 18:06:49  5.048   \n",
       "...      ...                        ...     ...                 ...    ...   \n",
       "20958  20958 2025-02-28 18:10:49.806980  343534 2025-02-28 18:10:49  5.048   \n",
       "20959  20959 2025-02-28 18:10:49.816858  343544 2025-02-28 18:10:49  5.048   \n",
       "20960  20960 2025-02-28 18:10:49.828831  343556 2025-02-28 18:10:49  5.048   \n",
       "20961  20961 2025-02-28 18:10:49.839556  343567 2025-02-28 18:10:49  5.048   \n",
       "20962  20962 2025-02-28 18:10:49.850585  343578 2025-02-28 18:10:49  5.048   \n",
       "\n",
       "            a        w     v_sh  \n",
       "0      0.0940  0.47451  0.00940  \n",
       "1      0.0948  0.47855  0.00948  \n",
       "2      0.0948  0.47855  0.00948  \n",
       "3      0.0952  0.48057  0.00952  \n",
       "4      0.0956  0.48259  0.00956  \n",
       "...       ...      ...      ...  \n",
       "20958  0.0924  0.46644  0.00924  \n",
       "20959  0.0924  0.46644  0.00924  \n",
       "20960  0.0944  0.47653  0.00944  \n",
       "20961  0.0940  0.47451  0.00940  \n",
       "20962  0.0940  0.47451  0.00940  \n",
       "\n",
       "[20963 rows x 8 columns]"
      ]
     },
     "execution_count": 48,
     "metadata": {},
     "output_type": "execute_result"
    }
   ],
   "source": [
    "#remove the trailing data before reset\n",
    "d = df#[df.millis.idxmin():]\n",
    "d"
   ]
  },
  {
   "cell_type": "code",
   "execution_count": 49,
   "id": "2517c444",
   "metadata": {},
   "outputs": [
    {
     "data": {
      "text/plain": [
       "Text(0.5, 1.0, 'Current')"
      ]
     },
     "execution_count": 49,
     "metadata": {},
     "output_type": "execute_result"
    },
    {
     "data": {
      "image/png": "[encoded data removed]",
      "text/plain": [
       "<Figure size 640x480 with 1 Axes>"
      ]
     },
     "metadata": {},
     "output_type": "display_data"
    }
   ],
   "source": [
    "plt.plot(d.read_at, d.a)\n",
    "plt.title(\"Current\")"
   ]
  },
  {
   "cell_type": "code",
   "execution_count": 50,
   "id": "1c889899",
   "metadata": {},
   "outputs": [
    {
     "data": {
      "text/plain": [
       "Text(0.5, 1.0, 'Voltage')"
      ]
     },
     "execution_count": 50,
     "metadata": {},
     "output_type": "execute_result"
    },
    {
     "data": {
      "image/png": "[encoded data removed]",
      "text/plain": [
       "<Figure size 640x480 with 1 Axes>"
      ]
     },
     "metadata": {},
     "output_type": "display_data"
    }
   ],
   "source": [
    "plt.plot(d.read_at, d.v)\n",
    "plt.title(\"Voltage\")"
   ]
  },
  {
   "cell_type": "code",
   "execution_count": 51,
   "id": "6c3eec1e",
   "metadata": {},
   "outputs": [
    {
     "data": {
      "text/plain": [
       "np.float64(12.047082029999999)"
      ]
     },
     "execution_count": 51,
     "metadata": {},
     "output_type": "execute_result"
    }
   ],
   "source": [
    "from scipy import integrate\n",
    "\n",
    "time_data = (d.read_at - d.read_at.iloc[0]).dt.total_seconds()\n",
    "current_data = d.a.to_numpy()\n",
    "total_current = integrate.trapezoid(current_data, time_data)\n",
    "total_current #A in timespan"
   ]
  },
  {
   "cell_type": "code",
   "execution_count": 52,
   "id": "336bdbc4",
   "metadata": {},
   "outputs": [
    {
     "data": {
      "text/plain": [
       "239.995555"
      ]
     },
     "execution_count": 52,
     "metadata": {},
     "output_type": "execute_result"
    }
   ],
   "source": [
    "time_span = max(time_data)\n",
    "time_span #seg"
   ]
  },
  {
   "cell_type": "code",
   "execution_count": 53,
   "id": "e4cc029d",
   "metadata": {},
   "outputs": [
    {
     "data": {
      "text/plain": [
       "np.float64(0.05019710481721213)"
      ]
     },
     "execution_count": 53,
     "metadata": {},
     "output_type": "execute_result"
    }
   ],
   "source": [
    "avg_current = total_current / time_span\n",
    "avg_current #A"
   ]
  },
  {
   "cell_type": "markdown",
   "id": "70598578-fa7b-43a4-a35e-eabe13ca8fb1",
   "metadata": {},
   "source": [
    "## Expected runtime using batteries"
   ]
  },
  {
   "cell_type": "code",
   "execution_count": 54,
   "id": "6d075128",
   "metadata": {},
   "outputs": [
    {
     "name": "stdout",
     "output_type": "stream",
     "text": [
      "At 0.80Ah:\t15.9 hours,\t0.66 days\n",
      "At 2.00Ah:\t39.8 hours,\t1.66 days\n",
      "At 4.00Ah:\t79.7 hours,\t3.32 days\n",
      "At 10.00Ah:\t199.2 hours,\t8.30 days\n"
     ]
    }
   ],
   "source": [
    "for bat_usable_cap in batteries: #Amp hour\n",
    "    runtime = bat_usable_cap / avg_current\n",
    "    print(f\"At {bat_usable_cap:.02f}Ah:\\t{runtime:.01f} hours,\\t{runtime/24:.02f} days\")"
   ]
  }
 ],
 "metadata": {
  "kernelspec": {
   "display_name": "Python 3 (ipykernel)",
   "language": "python",
   "name": "python3"
  },
  "language_info": {
   "codemirror_mode": {
    "name": "ipython",
    "version": 3
   },
   "file_extension": ".py",
   "mimetype": "text/x-python",
   "name": "python",
   "nbconvert_exporter": "python",
   "pygments_lexer": "ipython3",
   "version": "3.10.16"
  }
 },
 "nbformat": 4,
 "nbformat_minor": 5
}
