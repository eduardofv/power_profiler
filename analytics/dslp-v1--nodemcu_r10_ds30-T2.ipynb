{
 "cells": [
  {
   "cell_type": "markdown",
   "id": "a12a46fd-4b4d-4e99-9c01-6622edff4c35",
   "metadata": {},
   "source": [
    "# DeepSleep \n",
    "## v1\n",
    "\n",
    "- board\n",
    "- r (run duration)\n",
    "- ds (deep sleep duration)\n",
    "- TX (test version)\n",
    "\n",
    "## T\n",
    "\n",
    "Muestreado por 240 seg a 10ms"
   ]
  },
  {
   "cell_type": "code",
   "execution_count": 1,
   "id": "1e079e8c-7ef6-4927-8d64-d58258365d47",
   "metadata": {},
   "outputs": [],
   "source": [
    "board=\"nodemcu\"\n",
    "r = 10\n",
    "ds = 30\n",
    "TX = 2\n",
    "\n",
    "batteries = [0.8, 2, 4, 10] #Ah"
   ]
  },
  {
   "cell_type": "code",
   "execution_count": 2,
   "id": "a7478314",
   "metadata": {},
   "outputs": [
    {
     "data": {
      "text/html": [
       "<div>\n",
       "<style scoped>\n",
       "    .dataframe tbody tr th:only-of-type {\n",
       "        vertical-align: middle;\n",
       "    }\n",
       "\n",
       "    .dataframe tbody tr th {\n",
       "        vertical-align: top;\n",
       "    }\n",
       "\n",
       "    .dataframe thead th {\n",
       "        text-align: right;\n",
       "    }\n",
       "</style>\n",
       "<table border=\"1\" class=\"dataframe\">\n",
       "  <thead>\n",
       "    <tr style=\"text-align: right;\">\n",
       "      <th></th>\n",
       "      <th>index</th>\n",
       "      <th>read_at</th>\n",
       "      <th>millis</th>\n",
       "      <th>dt</th>\n",
       "      <th>v</th>\n",
       "      <th>a</th>\n",
       "      <th>w</th>\n",
       "      <th>v_sh</th>\n",
       "    </tr>\n",
       "  </thead>\n",
       "  <tbody>\n",
       "    <tr>\n",
       "      <th>0</th>\n",
       "      <td>0</td>\n",
       "      <td>2025-02-28 15:17:13.122336</td>\n",
       "      <td>3260</td>\n",
       "      <td>1970-01-01 00:00:03</td>\n",
       "      <td>5.096</td>\n",
       "      <td>0.01</td>\n",
       "      <td>0.05096</td>\n",
       "      <td>0.001</td>\n",
       "    </tr>\n",
       "    <tr>\n",
       "      <th>1</th>\n",
       "      <td>1</td>\n",
       "      <td>2025-02-28 15:17:13.132188</td>\n",
       "      <td>3270</td>\n",
       "      <td>1970-01-01 00:00:03</td>\n",
       "      <td>5.096</td>\n",
       "      <td>0.01</td>\n",
       "      <td>0.05096</td>\n",
       "      <td>0.001</td>\n",
       "    </tr>\n",
       "    <tr>\n",
       "      <th>2</th>\n",
       "      <td>2</td>\n",
       "      <td>2025-02-28 15:17:13.141905</td>\n",
       "      <td>3280</td>\n",
       "      <td>1970-01-01 00:00:03</td>\n",
       "      <td>5.096</td>\n",
       "      <td>0.01</td>\n",
       "      <td>0.05096</td>\n",
       "      <td>0.001</td>\n",
       "    </tr>\n",
       "    <tr>\n",
       "      <th>3</th>\n",
       "      <td>3</td>\n",
       "      <td>2025-02-28 15:17:13.152282</td>\n",
       "      <td>3290</td>\n",
       "      <td>1970-01-01 00:00:03</td>\n",
       "      <td>5.096</td>\n",
       "      <td>0.01</td>\n",
       "      <td>0.05096</td>\n",
       "      <td>0.001</td>\n",
       "    </tr>\n",
       "    <tr>\n",
       "      <th>4</th>\n",
       "      <td>4</td>\n",
       "      <td>2025-02-28 15:17:13.162295</td>\n",
       "      <td>3300</td>\n",
       "      <td>1970-01-01 00:00:03</td>\n",
       "      <td>5.096</td>\n",
       "      <td>0.01</td>\n",
       "      <td>0.05096</td>\n",
       "      <td>0.001</td>\n",
       "    </tr>\n",
       "    <tr>\n",
       "      <th>...</th>\n",
       "      <td>...</td>\n",
       "      <td>...</td>\n",
       "      <td>...</td>\n",
       "      <td>...</td>\n",
       "      <td>...</td>\n",
       "      <td>...</td>\n",
       "      <td>...</td>\n",
       "      <td>...</td>\n",
       "    </tr>\n",
       "    <tr>\n",
       "      <th>21000</th>\n",
       "      <td>21000</td>\n",
       "      <td>2025-02-28 15:21:13.068586</td>\n",
       "      <td>243197</td>\n",
       "      <td>2025-02-28 15:21:12</td>\n",
       "      <td>5.096</td>\n",
       "      <td>0.01</td>\n",
       "      <td>0.05096</td>\n",
       "      <td>0.001</td>\n",
       "    </tr>\n",
       "    <tr>\n",
       "      <th>21001</th>\n",
       "      <td>21001</td>\n",
       "      <td>2025-02-28 15:21:13.079580</td>\n",
       "      <td>243208</td>\n",
       "      <td>2025-02-28 15:21:12</td>\n",
       "      <td>5.096</td>\n",
       "      <td>0.01</td>\n",
       "      <td>0.05096</td>\n",
       "      <td>0.001</td>\n",
       "    </tr>\n",
       "    <tr>\n",
       "      <th>21002</th>\n",
       "      <td>21002</td>\n",
       "      <td>2025-02-28 15:21:13.089828</td>\n",
       "      <td>243218</td>\n",
       "      <td>2025-02-28 15:21:12</td>\n",
       "      <td>5.096</td>\n",
       "      <td>0.01</td>\n",
       "      <td>0.05096</td>\n",
       "      <td>0.001</td>\n",
       "    </tr>\n",
       "    <tr>\n",
       "      <th>21003</th>\n",
       "      <td>21003</td>\n",
       "      <td>2025-02-28 15:21:13.101826</td>\n",
       "      <td>243230</td>\n",
       "      <td>2025-02-28 15:21:12</td>\n",
       "      <td>5.096</td>\n",
       "      <td>0.01</td>\n",
       "      <td>0.05096</td>\n",
       "      <td>0.001</td>\n",
       "    </tr>\n",
       "    <tr>\n",
       "      <th>21004</th>\n",
       "      <td>21004</td>\n",
       "      <td>2025-02-28 15:21:13.111954</td>\n",
       "      <td>243240</td>\n",
       "      <td>2025-02-28 15:21:12</td>\n",
       "      <td>5.096</td>\n",
       "      <td>0.01</td>\n",
       "      <td>0.05096</td>\n",
       "      <td>0.001</td>\n",
       "    </tr>\n",
       "  </tbody>\n",
       "</table>\n",
       "<p>21005 rows × 8 columns</p>\n",
       "</div>"
      ],
      "text/plain": [
       "       index                    read_at  millis                  dt      v  \\\n",
       "0          0 2025-02-28 15:17:13.122336    3260 1970-01-01 00:00:03  5.096   \n",
       "1          1 2025-02-28 15:17:13.132188    3270 1970-01-01 00:00:03  5.096   \n",
       "2          2 2025-02-28 15:17:13.141905    3280 1970-01-01 00:00:03  5.096   \n",
       "3          3 2025-02-28 15:17:13.152282    3290 1970-01-01 00:00:03  5.096   \n",
       "4          4 2025-02-28 15:17:13.162295    3300 1970-01-01 00:00:03  5.096   \n",
       "...      ...                        ...     ...                 ...    ...   \n",
       "21000  21000 2025-02-28 15:21:13.068586  243197 2025-02-28 15:21:12  5.096   \n",
       "21001  21001 2025-02-28 15:21:13.079580  243208 2025-02-28 15:21:12  5.096   \n",
       "21002  21002 2025-02-28 15:21:13.089828  243218 2025-02-28 15:21:12  5.096   \n",
       "21003  21003 2025-02-28 15:21:13.101826  243230 2025-02-28 15:21:12  5.096   \n",
       "21004  21004 2025-02-28 15:21:13.111954  243240 2025-02-28 15:21:12  5.096   \n",
       "\n",
       "          a        w   v_sh  \n",
       "0      0.01  0.05096  0.001  \n",
       "1      0.01  0.05096  0.001  \n",
       "2      0.01  0.05096  0.001  \n",
       "3      0.01  0.05096  0.001  \n",
       "4      0.01  0.05096  0.001  \n",
       "...     ...      ...    ...  \n",
       "21000  0.01  0.05096  0.001  \n",
       "21001  0.01  0.05096  0.001  \n",
       "21002  0.01  0.05096  0.001  \n",
       "21003  0.01  0.05096  0.001  \n",
       "21004  0.01  0.05096  0.001  \n",
       "\n",
       "[21005 rows x 8 columns]"
      ]
     },
     "execution_count": 2,
     "metadata": {},
     "output_type": "execute_result"
    }
   ],
   "source": [
    "import pandas as pd\n",
    "import matplotlib.pyplot as plt\n",
    "\n",
    "filename = f\"../data/dslp--{board}_r{r}_ds{ds}-T{TX}.csv\"\n",
    "\n",
    "df = pd.read_csv(filename, parse_dates=[\"read_at\", \"timestamp\"])\n",
    "\n",
    "df.columns = ['index','read_at', 'millis', \"dt\", \"v\", \"a\", \"w\", \"v_sh\"]\n",
    "df"
   ]
  },
  {
   "cell_type": "code",
   "execution_count": 3,
   "id": "98b6ec92",
   "metadata": {},
   "outputs": [
    {
     "data": {
      "text/html": [
       "<div>\n",
       "<style scoped>\n",
       "    .dataframe tbody tr th:only-of-type {\n",
       "        vertical-align: middle;\n",
       "    }\n",
       "\n",
       "    .dataframe tbody tr th {\n",
       "        vertical-align: top;\n",
       "    }\n",
       "\n",
       "    .dataframe thead th {\n",
       "        text-align: right;\n",
       "    }\n",
       "</style>\n",
       "<table border=\"1\" class=\"dataframe\">\n",
       "  <thead>\n",
       "    <tr style=\"text-align: right;\">\n",
       "      <th></th>\n",
       "      <th>index</th>\n",
       "      <th>read_at</th>\n",
       "      <th>millis</th>\n",
       "      <th>dt</th>\n",
       "      <th>v</th>\n",
       "      <th>a</th>\n",
       "      <th>w</th>\n",
       "      <th>v_sh</th>\n",
       "    </tr>\n",
       "  </thead>\n",
       "  <tbody>\n",
       "    <tr>\n",
       "      <th>0</th>\n",
       "      <td>0</td>\n",
       "      <td>2025-02-28 15:17:13.122336</td>\n",
       "      <td>3260</td>\n",
       "      <td>1970-01-01 00:00:03</td>\n",
       "      <td>5.096</td>\n",
       "      <td>0.01</td>\n",
       "      <td>0.05096</td>\n",
       "      <td>0.001</td>\n",
       "    </tr>\n",
       "    <tr>\n",
       "      <th>1</th>\n",
       "      <td>1</td>\n",
       "      <td>2025-02-28 15:17:13.132188</td>\n",
       "      <td>3270</td>\n",
       "      <td>1970-01-01 00:00:03</td>\n",
       "      <td>5.096</td>\n",
       "      <td>0.01</td>\n",
       "      <td>0.05096</td>\n",
       "      <td>0.001</td>\n",
       "    </tr>\n",
       "    <tr>\n",
       "      <th>2</th>\n",
       "      <td>2</td>\n",
       "      <td>2025-02-28 15:17:13.141905</td>\n",
       "      <td>3280</td>\n",
       "      <td>1970-01-01 00:00:03</td>\n",
       "      <td>5.096</td>\n",
       "      <td>0.01</td>\n",
       "      <td>0.05096</td>\n",
       "      <td>0.001</td>\n",
       "    </tr>\n",
       "    <tr>\n",
       "      <th>3</th>\n",
       "      <td>3</td>\n",
       "      <td>2025-02-28 15:17:13.152282</td>\n",
       "      <td>3290</td>\n",
       "      <td>1970-01-01 00:00:03</td>\n",
       "      <td>5.096</td>\n",
       "      <td>0.01</td>\n",
       "      <td>0.05096</td>\n",
       "      <td>0.001</td>\n",
       "    </tr>\n",
       "    <tr>\n",
       "      <th>4</th>\n",
       "      <td>4</td>\n",
       "      <td>2025-02-28 15:17:13.162295</td>\n",
       "      <td>3300</td>\n",
       "      <td>1970-01-01 00:00:03</td>\n",
       "      <td>5.096</td>\n",
       "      <td>0.01</td>\n",
       "      <td>0.05096</td>\n",
       "      <td>0.001</td>\n",
       "    </tr>\n",
       "    <tr>\n",
       "      <th>...</th>\n",
       "      <td>...</td>\n",
       "      <td>...</td>\n",
       "      <td>...</td>\n",
       "      <td>...</td>\n",
       "      <td>...</td>\n",
       "      <td>...</td>\n",
       "      <td>...</td>\n",
       "      <td>...</td>\n",
       "    </tr>\n",
       "    <tr>\n",
       "      <th>21000</th>\n",
       "      <td>21000</td>\n",
       "      <td>2025-02-28 15:21:13.068586</td>\n",
       "      <td>243197</td>\n",
       "      <td>2025-02-28 15:21:12</td>\n",
       "      <td>5.096</td>\n",
       "      <td>0.01</td>\n",
       "      <td>0.05096</td>\n",
       "      <td>0.001</td>\n",
       "    </tr>\n",
       "    <tr>\n",
       "      <th>21001</th>\n",
       "      <td>21001</td>\n",
       "      <td>2025-02-28 15:21:13.079580</td>\n",
       "      <td>243208</td>\n",
       "      <td>2025-02-28 15:21:12</td>\n",
       "      <td>5.096</td>\n",
       "      <td>0.01</td>\n",
       "      <td>0.05096</td>\n",
       "      <td>0.001</td>\n",
       "    </tr>\n",
       "    <tr>\n",
       "      <th>21002</th>\n",
       "      <td>21002</td>\n",
       "      <td>2025-02-28 15:21:13.089828</td>\n",
       "      <td>243218</td>\n",
       "      <td>2025-02-28 15:21:12</td>\n",
       "      <td>5.096</td>\n",
       "      <td>0.01</td>\n",
       "      <td>0.05096</td>\n",
       "      <td>0.001</td>\n",
       "    </tr>\n",
       "    <tr>\n",
       "      <th>21003</th>\n",
       "      <td>21003</td>\n",
       "      <td>2025-02-28 15:21:13.101826</td>\n",
       "      <td>243230</td>\n",
       "      <td>2025-02-28 15:21:12</td>\n",
       "      <td>5.096</td>\n",
       "      <td>0.01</td>\n",
       "      <td>0.05096</td>\n",
       "      <td>0.001</td>\n",
       "    </tr>\n",
       "    <tr>\n",
       "      <th>21004</th>\n",
       "      <td>21004</td>\n",
       "      <td>2025-02-28 15:21:13.111954</td>\n",
       "      <td>243240</td>\n",
       "      <td>2025-02-28 15:21:12</td>\n",
       "      <td>5.096</td>\n",
       "      <td>0.01</td>\n",
       "      <td>0.05096</td>\n",
       "      <td>0.001</td>\n",
       "    </tr>\n",
       "  </tbody>\n",
       "</table>\n",
       "<p>21005 rows × 8 columns</p>\n",
       "</div>"
      ],
      "text/plain": [
       "       index                    read_at  millis                  dt      v  \\\n",
       "0          0 2025-02-28 15:17:13.122336    3260 1970-01-01 00:00:03  5.096   \n",
       "1          1 2025-02-28 15:17:13.132188    3270 1970-01-01 00:00:03  5.096   \n",
       "2          2 2025-02-28 15:17:13.141905    3280 1970-01-01 00:00:03  5.096   \n",
       "3          3 2025-02-28 15:17:13.152282    3290 1970-01-01 00:00:03  5.096   \n",
       "4          4 2025-02-28 15:17:13.162295    3300 1970-01-01 00:00:03  5.096   \n",
       "...      ...                        ...     ...                 ...    ...   \n",
       "21000  21000 2025-02-28 15:21:13.068586  243197 2025-02-28 15:21:12  5.096   \n",
       "21001  21001 2025-02-28 15:21:13.079580  243208 2025-02-28 15:21:12  5.096   \n",
       "21002  21002 2025-02-28 15:21:13.089828  243218 2025-02-28 15:21:12  5.096   \n",
       "21003  21003 2025-02-28 15:21:13.101826  243230 2025-02-28 15:21:12  5.096   \n",
       "21004  21004 2025-02-28 15:21:13.111954  243240 2025-02-28 15:21:12  5.096   \n",
       "\n",
       "          a        w   v_sh  \n",
       "0      0.01  0.05096  0.001  \n",
       "1      0.01  0.05096  0.001  \n",
       "2      0.01  0.05096  0.001  \n",
       "3      0.01  0.05096  0.001  \n",
       "4      0.01  0.05096  0.001  \n",
       "...     ...      ...    ...  \n",
       "21000  0.01  0.05096  0.001  \n",
       "21001  0.01  0.05096  0.001  \n",
       "21002  0.01  0.05096  0.001  \n",
       "21003  0.01  0.05096  0.001  \n",
       "21004  0.01  0.05096  0.001  \n",
       "\n",
       "[21005 rows x 8 columns]"
      ]
     },
     "execution_count": 3,
     "metadata": {},
     "output_type": "execute_result"
    }
   ],
   "source": [
    "#remove the trailing data before reset\n",
    "d = df#[df.millis.idxmin():]\n",
    "d"
   ]
  },
  {
   "cell_type": "code",
   "execution_count": 4,
   "id": "2517c444",
   "metadata": {},
   "outputs": [
    {
     "data": {
      "text/plain": [
       "Text(0.5, 1.0, 'Current')"
      ]
     },
     "execution_count": 4,
     "metadata": {},
     "output_type": "execute_result"
    },
    {
     "data": {
      "image/png": "[encoded data removed]",
      "text/plain": [
       "<Figure size 640x480 with 1 Axes>"
      ]
     },
     "metadata": {},
     "output_type": "display_data"
    }
   ],
   "source": [
    "plt.plot(d.read_at, d.a)\n",
    "plt.title(\"Current\")"
   ]
  },
  {
   "cell_type": "code",
   "execution_count": 5,
   "id": "1c889899",
   "metadata": {},
   "outputs": [
    {
     "data": {
      "text/plain": [
       "Text(0.5, 1.0, 'Voltage')"
      ]
     },
     "execution_count": 5,
     "metadata": {},
     "output_type": "execute_result"
    },
    {
     "data": {
      "image/png": "[encoded data removed]",
      "text/plain": [
       "<Figure size 640x480 with 1 Axes>"
      ]
     },
     "metadata": {},
     "output_type": "display_data"
    }
   ],
   "source": [
    "plt.plot(d.read_at, d.v)\n",
    "plt.title(\"Voltage\")"
   ]
  },
  {
   "cell_type": "code",
   "execution_count": 6,
   "id": "6c3eec1e",
   "metadata": {},
   "outputs": [
    {
     "data": {
      "text/plain": [
       "np.float64(9.3945267356)"
      ]
     },
     "execution_count": 6,
     "metadata": {},
     "output_type": "execute_result"
    }
   ],
   "source": [
    "from scipy import integrate\n",
    "\n",
    "time_data = (d.read_at - d.read_at.iloc[0]).dt.total_seconds()\n",
    "current_data = d.a.to_numpy()\n",
    "total_current = integrate.trapezoid(current_data, time_data)\n",
    "total_current #A in timespan"
   ]
  },
  {
   "cell_type": "code",
   "execution_count": 7,
   "id": "336bdbc4",
   "metadata": {},
   "outputs": [
    {
     "data": {
      "text/plain": [
       "239.989618"
      ]
     },
     "execution_count": 7,
     "metadata": {},
     "output_type": "execute_result"
    }
   ],
   "source": [
    "time_span = max(time_data)\n",
    "time_span #seg"
   ]
  },
  {
   "cell_type": "code",
   "execution_count": 8,
   "id": "e4cc029d",
   "metadata": {},
   "outputs": [
    {
     "data": {
      "text/plain": [
       "np.float64(0.03914555476979008)"
      ]
     },
     "execution_count": 8,
     "metadata": {},
     "output_type": "execute_result"
    }
   ],
   "source": [
    "avg_current = total_current / time_span\n",
    "avg_current #A"
   ]
  },
  {
   "cell_type": "markdown",
   "id": "70598578-fa7b-43a4-a35e-eabe13ca8fb1",
   "metadata": {},
   "source": [
    "## Expected runtime using batteries"
   ]
  },
  {
   "cell_type": "code",
   "execution_count": 9,
   "id": "6d075128",
   "metadata": {},
   "outputs": [
    {
     "name": "stdout",
     "output_type": "stream",
     "text": [
      "At 0.80Ah:\t20.4 hours,\t0.85 days\n",
      "At 2.00Ah:\t51.1 hours,\t2.13 days\n",
      "At 4.00Ah:\t102.2 hours,\t4.26 days\n",
      "At 10.00Ah:\t255.5 hours,\t10.64 days\n"
     ]
    }
   ],
   "source": [
    "for bat_usable_cap in batteries: #Amp hour\n",
    "    runtime = bat_usable_cap / avg_current\n",
    "    print(f\"At {bat_usable_cap:.02f}Ah:\\t{runtime:.01f} hours,\\t{runtime/24:.02f} days\")"
   ]
  }
 ],
 "metadata": {
  "kernelspec": {
   "display_name": "Python 3 (ipykernel)",
   "language": "python",
   "name": "python3"
  },
  "language_info": {
   "codemirror_mode": {
    "name": "ipython",
    "version": 3
   },
   "file_extension": ".py",
   "mimetype": "text/x-python",
   "name": "python",
   "nbconvert_exporter": "python",
   "pygments_lexer": "ipython3",
   "version": "3.10.16"
  }
 },
 "nbformat": 4,
 "nbformat_minor": 5
}
