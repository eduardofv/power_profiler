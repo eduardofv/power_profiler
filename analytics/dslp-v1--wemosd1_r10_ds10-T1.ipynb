{
 "cells": [
  {
   "cell_type": "markdown",
   "id": "a12a46fd-4b4d-4e99-9c01-6622edff4c35",
   "metadata": {},
   "source": [
    "# DeepSleep \n",
    "## Notas\n",
    "* En Saola hay periodos que no se va a dormir y se une con el siguiente. Probar si es por el tamaño de los periodos\n",
    "\n",
    "## v1\n",
    "\n",
    "- board\n",
    "- r (run duration)\n",
    "- ds (deep sleep duration)\n",
    "- TX (test version)\n",
    "\n",
    "## T\n",
    "\n",
    "- Muestra: 240seg\n",
    "- PowerProfiler freq: 10ms"
   ]
  },
  {
   "cell_type": "code",
   "execution_count": 1,
   "id": "1e079e8c-7ef6-4927-8d64-d58258365d47",
   "metadata": {},
   "outputs": [],
   "source": [
    "board=\"wemosd1\"\n",
    "r = 10\n",
    "ds = 10\n",
    "TX = 1\n",
    "\n",
    "batteries = [0.8, 2, 4, 10] #Ah"
   ]
  },
  {
   "cell_type": "code",
   "execution_count": 2,
   "id": "4758d490-4193-462e-865b-6f1be57bf3ab",
   "metadata": {},
   "outputs": [
    {
     "name": "stdout",
     "output_type": "stream",
     "text": [
      "--wemosd1_r10_ds10-T1\n"
     ]
    }
   ],
   "source": [
    "import pandas as pd\n",
    "import matplotlib.pyplot as plt\n",
    "\n",
    "experiment_name = f\"--{board}_r{r}_ds{ds}-T{TX}\"\n",
    "filename = f\"../data/dslp{experiment_name}.csv\"\n",
    "print(experiment_name)"
   ]
  },
  {
   "cell_type": "code",
   "execution_count": 3,
   "id": "ea1647dc-8fca-4c37-b50a-b0a2353d6420",
   "metadata": {},
   "outputs": [
    {
     "data": {
      "text/html": [
       "<div>\n",
       "<style scoped>\n",
       "    .dataframe tbody tr th:only-of-type {\n",
       "        vertical-align: middle;\n",
       "    }\n",
       "\n",
       "    .dataframe tbody tr th {\n",
       "        vertical-align: top;\n",
       "    }\n",
       "\n",
       "    .dataframe thead th {\n",
       "        text-align: right;\n",
       "    }\n",
       "</style>\n",
       "<table border=\"1\" class=\"dataframe\">\n",
       "  <thead>\n",
       "    <tr style=\"text-align: right;\">\n",
       "      <th></th>\n",
       "      <th>index</th>\n",
       "      <th>read_at</th>\n",
       "      <th>millis</th>\n",
       "      <th>dt</th>\n",
       "      <th>v</th>\n",
       "      <th>a</th>\n",
       "      <th>w</th>\n",
       "      <th>v_sh</th>\n",
       "    </tr>\n",
       "  </thead>\n",
       "  <tbody>\n",
       "    <tr>\n",
       "      <th>0</th>\n",
       "      <td>0</td>\n",
       "      <td>2025-03-04 21:57:04.178285</td>\n",
       "      <td>178179</td>\n",
       "      <td>2025-03-04 21:57:04</td>\n",
       "      <td>5.064</td>\n",
       "      <td>0.0756</td>\n",
       "      <td>0.38284</td>\n",
       "      <td>0.00756</td>\n",
       "    </tr>\n",
       "    <tr>\n",
       "      <th>1</th>\n",
       "      <td>1</td>\n",
       "      <td>2025-03-04 21:57:04.188464</td>\n",
       "      <td>178189</td>\n",
       "      <td>2025-03-04 21:57:04</td>\n",
       "      <td>5.064</td>\n",
       "      <td>0.0772</td>\n",
       "      <td>0.39094</td>\n",
       "      <td>0.00772</td>\n",
       "    </tr>\n",
       "    <tr>\n",
       "      <th>2</th>\n",
       "      <td>2</td>\n",
       "      <td>2025-03-04 21:57:04.198496</td>\n",
       "      <td>178199</td>\n",
       "      <td>2025-03-04 21:57:04</td>\n",
       "      <td>5.064</td>\n",
       "      <td>0.0772</td>\n",
       "      <td>0.39094</td>\n",
       "      <td>0.00772</td>\n",
       "    </tr>\n",
       "    <tr>\n",
       "      <th>3</th>\n",
       "      <td>3</td>\n",
       "      <td>2025-03-04 21:57:04.209697</td>\n",
       "      <td>178211</td>\n",
       "      <td>2025-03-04 21:57:04</td>\n",
       "      <td>5.064</td>\n",
       "      <td>0.0768</td>\n",
       "      <td>0.38892</td>\n",
       "      <td>0.00768</td>\n",
       "    </tr>\n",
       "    <tr>\n",
       "      <th>4</th>\n",
       "      <td>4</td>\n",
       "      <td>2025-03-04 21:57:04.220508</td>\n",
       "      <td>178221</td>\n",
       "      <td>2025-03-04 21:57:04</td>\n",
       "      <td>5.064</td>\n",
       "      <td>0.0764</td>\n",
       "      <td>0.38689</td>\n",
       "      <td>0.00764</td>\n",
       "    </tr>\n",
       "    <tr>\n",
       "      <th>...</th>\n",
       "      <td>...</td>\n",
       "      <td>...</td>\n",
       "      <td>...</td>\n",
       "      <td>...</td>\n",
       "      <td>...</td>\n",
       "      <td>...</td>\n",
       "      <td>...</td>\n",
       "      <td>...</td>\n",
       "    </tr>\n",
       "    <tr>\n",
       "      <th>20977</th>\n",
       "      <td>20977</td>\n",
       "      <td>2025-03-04 22:01:04.119547</td>\n",
       "      <td>418111</td>\n",
       "      <td>2025-03-04 22:01:04</td>\n",
       "      <td>5.072</td>\n",
       "      <td>0.0728</td>\n",
       "      <td>0.36924</td>\n",
       "      <td>0.00728</td>\n",
       "    </tr>\n",
       "    <tr>\n",
       "      <th>20978</th>\n",
       "      <td>20978</td>\n",
       "      <td>2025-03-04 22:01:04.131289</td>\n",
       "      <td>418123</td>\n",
       "      <td>2025-03-04 22:01:04</td>\n",
       "      <td>5.064</td>\n",
       "      <td>0.0720</td>\n",
       "      <td>0.36461</td>\n",
       "      <td>0.00720</td>\n",
       "    </tr>\n",
       "    <tr>\n",
       "      <th>20979</th>\n",
       "      <td>20979</td>\n",
       "      <td>2025-03-04 22:01:04.142212</td>\n",
       "      <td>418134</td>\n",
       "      <td>2025-03-04 22:01:04</td>\n",
       "      <td>5.064</td>\n",
       "      <td>0.0724</td>\n",
       "      <td>0.36663</td>\n",
       "      <td>0.00724</td>\n",
       "    </tr>\n",
       "    <tr>\n",
       "      <th>20980</th>\n",
       "      <td>20980</td>\n",
       "      <td>2025-03-04 22:01:04.152717</td>\n",
       "      <td>418144</td>\n",
       "      <td>2025-03-04 22:01:04</td>\n",
       "      <td>5.072</td>\n",
       "      <td>0.0724</td>\n",
       "      <td>0.36721</td>\n",
       "      <td>0.00724</td>\n",
       "    </tr>\n",
       "    <tr>\n",
       "      <th>20981</th>\n",
       "      <td>20981</td>\n",
       "      <td>2025-03-04 22:01:04.164242</td>\n",
       "      <td>418156</td>\n",
       "      <td>2025-03-04 22:01:04</td>\n",
       "      <td>5.072</td>\n",
       "      <td>0.0724</td>\n",
       "      <td>0.36721</td>\n",
       "      <td>0.00724</td>\n",
       "    </tr>\n",
       "  </tbody>\n",
       "</table>\n",
       "<p>20982 rows × 8 columns</p>\n",
       "</div>"
      ],
      "text/plain": [
       "       index                    read_at  millis                  dt      v  \\\n",
       "0          0 2025-03-04 21:57:04.178285  178179 2025-03-04 21:57:04  5.064   \n",
       "1          1 2025-03-04 21:57:04.188464  178189 2025-03-04 21:57:04  5.064   \n",
       "2          2 2025-03-04 21:57:04.198496  178199 2025-03-04 21:57:04  5.064   \n",
       "3          3 2025-03-04 21:57:04.209697  178211 2025-03-04 21:57:04  5.064   \n",
       "4          4 2025-03-04 21:57:04.220508  178221 2025-03-04 21:57:04  5.064   \n",
       "...      ...                        ...     ...                 ...    ...   \n",
       "20977  20977 2025-03-04 22:01:04.119547  418111 2025-03-04 22:01:04  5.072   \n",
       "20978  20978 2025-03-04 22:01:04.131289  418123 2025-03-04 22:01:04  5.064   \n",
       "20979  20979 2025-03-04 22:01:04.142212  418134 2025-03-04 22:01:04  5.064   \n",
       "20980  20980 2025-03-04 22:01:04.152717  418144 2025-03-04 22:01:04  5.072   \n",
       "20981  20981 2025-03-04 22:01:04.164242  418156 2025-03-04 22:01:04  5.072   \n",
       "\n",
       "            a        w     v_sh  \n",
       "0      0.0756  0.38284  0.00756  \n",
       "1      0.0772  0.39094  0.00772  \n",
       "2      0.0772  0.39094  0.00772  \n",
       "3      0.0768  0.38892  0.00768  \n",
       "4      0.0764  0.38689  0.00764  \n",
       "...       ...      ...      ...  \n",
       "20977  0.0728  0.36924  0.00728  \n",
       "20978  0.0720  0.36461  0.00720  \n",
       "20979  0.0724  0.36663  0.00724  \n",
       "20980  0.0724  0.36721  0.00724  \n",
       "20981  0.0724  0.36721  0.00724  \n",
       "\n",
       "[20982 rows x 8 columns]"
      ]
     },
     "execution_count": 3,
     "metadata": {},
     "output_type": "execute_result"
    }
   ],
   "source": [
    "df = pd.read_csv(filename, parse_dates=[\"read_at\", \"timestamp\"])\n",
    "\n",
    "df.columns = ['index','read_at', 'millis', \"dt\", \"v\", \"a\", \"w\", \"v_sh\"]\n",
    "df"
   ]
  },
  {
   "cell_type": "code",
   "execution_count": 4,
   "id": "98b6ec92",
   "metadata": {},
   "outputs": [
    {
     "data": {
      "text/html": [
       "<div>\n",
       "<style scoped>\n",
       "    .dataframe tbody tr th:only-of-type {\n",
       "        vertical-align: middle;\n",
       "    }\n",
       "\n",
       "    .dataframe tbody tr th {\n",
       "        vertical-align: top;\n",
       "    }\n",
       "\n",
       "    .dataframe thead th {\n",
       "        text-align: right;\n",
       "    }\n",
       "</style>\n",
       "<table border=\"1\" class=\"dataframe\">\n",
       "  <thead>\n",
       "    <tr style=\"text-align: right;\">\n",
       "      <th></th>\n",
       "      <th>index</th>\n",
       "      <th>read_at</th>\n",
       "      <th>millis</th>\n",
       "      <th>dt</th>\n",
       "      <th>v</th>\n",
       "      <th>a</th>\n",
       "      <th>w</th>\n",
       "      <th>v_sh</th>\n",
       "    </tr>\n",
       "  </thead>\n",
       "  <tbody>\n",
       "    <tr>\n",
       "      <th>0</th>\n",
       "      <td>0</td>\n",
       "      <td>2025-03-04 21:57:04.178285</td>\n",
       "      <td>178179</td>\n",
       "      <td>2025-03-04 21:57:04</td>\n",
       "      <td>5.064</td>\n",
       "      <td>0.0756</td>\n",
       "      <td>0.38284</td>\n",
       "      <td>0.00756</td>\n",
       "    </tr>\n",
       "    <tr>\n",
       "      <th>1</th>\n",
       "      <td>1</td>\n",
       "      <td>2025-03-04 21:57:04.188464</td>\n",
       "      <td>178189</td>\n",
       "      <td>2025-03-04 21:57:04</td>\n",
       "      <td>5.064</td>\n",
       "      <td>0.0772</td>\n",
       "      <td>0.39094</td>\n",
       "      <td>0.00772</td>\n",
       "    </tr>\n",
       "    <tr>\n",
       "      <th>2</th>\n",
       "      <td>2</td>\n",
       "      <td>2025-03-04 21:57:04.198496</td>\n",
       "      <td>178199</td>\n",
       "      <td>2025-03-04 21:57:04</td>\n",
       "      <td>5.064</td>\n",
       "      <td>0.0772</td>\n",
       "      <td>0.39094</td>\n",
       "      <td>0.00772</td>\n",
       "    </tr>\n",
       "    <tr>\n",
       "      <th>3</th>\n",
       "      <td>3</td>\n",
       "      <td>2025-03-04 21:57:04.209697</td>\n",
       "      <td>178211</td>\n",
       "      <td>2025-03-04 21:57:04</td>\n",
       "      <td>5.064</td>\n",
       "      <td>0.0768</td>\n",
       "      <td>0.38892</td>\n",
       "      <td>0.00768</td>\n",
       "    </tr>\n",
       "    <tr>\n",
       "      <th>4</th>\n",
       "      <td>4</td>\n",
       "      <td>2025-03-04 21:57:04.220508</td>\n",
       "      <td>178221</td>\n",
       "      <td>2025-03-04 21:57:04</td>\n",
       "      <td>5.064</td>\n",
       "      <td>0.0764</td>\n",
       "      <td>0.38689</td>\n",
       "      <td>0.00764</td>\n",
       "    </tr>\n",
       "    <tr>\n",
       "      <th>...</th>\n",
       "      <td>...</td>\n",
       "      <td>...</td>\n",
       "      <td>...</td>\n",
       "      <td>...</td>\n",
       "      <td>...</td>\n",
       "      <td>...</td>\n",
       "      <td>...</td>\n",
       "      <td>...</td>\n",
       "    </tr>\n",
       "    <tr>\n",
       "      <th>20977</th>\n",
       "      <td>20977</td>\n",
       "      <td>2025-03-04 22:01:04.119547</td>\n",
       "      <td>418111</td>\n",
       "      <td>2025-03-04 22:01:04</td>\n",
       "      <td>5.072</td>\n",
       "      <td>0.0728</td>\n",
       "      <td>0.36924</td>\n",
       "      <td>0.00728</td>\n",
       "    </tr>\n",
       "    <tr>\n",
       "      <th>20978</th>\n",
       "      <td>20978</td>\n",
       "      <td>2025-03-04 22:01:04.131289</td>\n",
       "      <td>418123</td>\n",
       "      <td>2025-03-04 22:01:04</td>\n",
       "      <td>5.064</td>\n",
       "      <td>0.0720</td>\n",
       "      <td>0.36461</td>\n",
       "      <td>0.00720</td>\n",
       "    </tr>\n",
       "    <tr>\n",
       "      <th>20979</th>\n",
       "      <td>20979</td>\n",
       "      <td>2025-03-04 22:01:04.142212</td>\n",
       "      <td>418134</td>\n",
       "      <td>2025-03-04 22:01:04</td>\n",
       "      <td>5.064</td>\n",
       "      <td>0.0724</td>\n",
       "      <td>0.36663</td>\n",
       "      <td>0.00724</td>\n",
       "    </tr>\n",
       "    <tr>\n",
       "      <th>20980</th>\n",
       "      <td>20980</td>\n",
       "      <td>2025-03-04 22:01:04.152717</td>\n",
       "      <td>418144</td>\n",
       "      <td>2025-03-04 22:01:04</td>\n",
       "      <td>5.072</td>\n",
       "      <td>0.0724</td>\n",
       "      <td>0.36721</td>\n",
       "      <td>0.00724</td>\n",
       "    </tr>\n",
       "    <tr>\n",
       "      <th>20981</th>\n",
       "      <td>20981</td>\n",
       "      <td>2025-03-04 22:01:04.164242</td>\n",
       "      <td>418156</td>\n",
       "      <td>2025-03-04 22:01:04</td>\n",
       "      <td>5.072</td>\n",
       "      <td>0.0724</td>\n",
       "      <td>0.36721</td>\n",
       "      <td>0.00724</td>\n",
       "    </tr>\n",
       "  </tbody>\n",
       "</table>\n",
       "<p>20982 rows × 8 columns</p>\n",
       "</div>"
      ],
      "text/plain": [
       "       index                    read_at  millis                  dt      v  \\\n",
       "0          0 2025-03-04 21:57:04.178285  178179 2025-03-04 21:57:04  5.064   \n",
       "1          1 2025-03-04 21:57:04.188464  178189 2025-03-04 21:57:04  5.064   \n",
       "2          2 2025-03-04 21:57:04.198496  178199 2025-03-04 21:57:04  5.064   \n",
       "3          3 2025-03-04 21:57:04.209697  178211 2025-03-04 21:57:04  5.064   \n",
       "4          4 2025-03-04 21:57:04.220508  178221 2025-03-04 21:57:04  5.064   \n",
       "...      ...                        ...     ...                 ...    ...   \n",
       "20977  20977 2025-03-04 22:01:04.119547  418111 2025-03-04 22:01:04  5.072   \n",
       "20978  20978 2025-03-04 22:01:04.131289  418123 2025-03-04 22:01:04  5.064   \n",
       "20979  20979 2025-03-04 22:01:04.142212  418134 2025-03-04 22:01:04  5.064   \n",
       "20980  20980 2025-03-04 22:01:04.152717  418144 2025-03-04 22:01:04  5.072   \n",
       "20981  20981 2025-03-04 22:01:04.164242  418156 2025-03-04 22:01:04  5.072   \n",
       "\n",
       "            a        w     v_sh  \n",
       "0      0.0756  0.38284  0.00756  \n",
       "1      0.0772  0.39094  0.00772  \n",
       "2      0.0772  0.39094  0.00772  \n",
       "3      0.0768  0.38892  0.00768  \n",
       "4      0.0764  0.38689  0.00764  \n",
       "...       ...      ...      ...  \n",
       "20977  0.0728  0.36924  0.00728  \n",
       "20978  0.0720  0.36461  0.00720  \n",
       "20979  0.0724  0.36663  0.00724  \n",
       "20980  0.0724  0.36721  0.00724  \n",
       "20981  0.0724  0.36721  0.00724  \n",
       "\n",
       "[20982 rows x 8 columns]"
      ]
     },
     "execution_count": 4,
     "metadata": {},
     "output_type": "execute_result"
    }
   ],
   "source": [
    "#remove the trailing data before reset\n",
    "d = df#[df.millis.idxmin():]\n",
    "d"
   ]
  },
  {
   "cell_type": "code",
   "execution_count": 5,
   "id": "2517c444",
   "metadata": {},
   "outputs": [
    {
     "data": {
      "text/plain": [
       "Text(0.5, 1.0, 'Current')"
      ]
     },
     "execution_count": 5,
     "metadata": {},
     "output_type": "execute_result"
    },
    {
     "data": {
      "image/png": "[encoded data removed]",
      "text/plain": [
       "<Figure size 640x480 with 1 Axes>"
      ]
     },
     "metadata": {},
     "output_type": "display_data"
    }
   ],
   "source": [
    "plt.plot(d.read_at, d.a)\n",
    "plt.title(\"Current\")"
   ]
  },
  {
   "cell_type": "code",
   "execution_count": 6,
   "id": "1c889899",
   "metadata": {},
   "outputs": [
    {
     "data": {
      "text/plain": [
       "Text(0.5, 1.0, 'Voltage')"
      ]
     },
     "execution_count": 6,
     "metadata": {},
     "output_type": "execute_result"
    },
    {
     "data": {
      "image/png": "[encoded data removed]",
      "text/plain": [
       "<Figure size 640x480 with 1 Axes>"
      ]
     },
     "metadata": {},
     "output_type": "display_data"
    }
   ],
   "source": [
    "plt.plot(d.read_at, d.v)\n",
    "plt.title(\"Voltage\")"
   ]
  },
  {
   "cell_type": "code",
   "execution_count": 7,
   "id": "6c3eec1e",
   "metadata": {},
   "outputs": [
    {
     "data": {
      "text/plain": [
       "np.float64(11.767610361000003)"
      ]
     },
     "execution_count": 7,
     "metadata": {},
     "output_type": "execute_result"
    }
   ],
   "source": [
    "from scipy import integrate\n",
    "\n",
    "time_data = (d.read_at - d.read_at.iloc[0]).dt.total_seconds()\n",
    "current_data = d.a.to_numpy()\n",
    "total_current = integrate.trapezoid(current_data, time_data)\n",
    "total_current #A in timespan"
   ]
  },
  {
   "cell_type": "code",
   "execution_count": 8,
   "id": "336bdbc4",
   "metadata": {},
   "outputs": [
    {
     "data": {
      "text/plain": [
       "239.985957"
      ]
     },
     "execution_count": 8,
     "metadata": {},
     "output_type": "execute_result"
    }
   ],
   "source": [
    "time_span = max(time_data)\n",
    "time_span #seg"
   ]
  },
  {
   "cell_type": "code",
   "execution_count": 9,
   "id": "e4cc029d",
   "metadata": {},
   "outputs": [
    {
     "data": {
      "text/plain": [
       "np.float64(0.049034578973302184)"
      ]
     },
     "execution_count": 9,
     "metadata": {},
     "output_type": "execute_result"
    }
   ],
   "source": [
    "avg_current = total_current / time_span\n",
    "avg_current #A"
   ]
  },
  {
   "cell_type": "markdown",
   "id": "70598578-fa7b-43a4-a35e-eabe13ca8fb1",
   "metadata": {},
   "source": [
    "## Expected runtime using batteries"
   ]
  },
  {
   "cell_type": "code",
   "execution_count": 10,
   "id": "6d075128",
   "metadata": {},
   "outputs": [
    {
     "name": "stdout",
     "output_type": "stream",
     "text": [
      "At 0.80Ah:\t16.3 hours,\t0.68 days\n",
      "At 2.00Ah:\t40.8 hours,\t1.70 days\n",
      "At 4.00Ah:\t81.6 hours,\t3.40 days\n",
      "At 10.00Ah:\t203.9 hours,\t8.50 days\n"
     ]
    }
   ],
   "source": [
    "for bat_usable_cap in batteries: #Amp hour\n",
    "    runtime = bat_usable_cap / avg_current\n",
    "    print(f\"At {bat_usable_cap:.02f}Ah:\\t{runtime:.01f} hours,\\t{runtime/24:.02f} days\")"
   ]
  }
 ],
 "metadata": {
  "kernelspec": {
   "display_name": "Python 3 (ipykernel)",
   "language": "python",
   "name": "python3"
  },
  "language_info": {
   "codemirror_mode": {
    "name": "ipython",
    "version": 3
   },
   "file_extension": ".py",
   "mimetype": "text/x-python",
   "name": "python",
   "nbconvert_exporter": "python",
   "pygments_lexer": "ipython3",
   "version": "3.10.16"
  }
 },
 "nbformat": 4,
 "nbformat_minor": 5
}
