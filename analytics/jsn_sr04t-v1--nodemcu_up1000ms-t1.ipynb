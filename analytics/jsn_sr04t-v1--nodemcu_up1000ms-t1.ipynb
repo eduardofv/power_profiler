{
 "cells": [
  {
   "cell_type": "markdown",
   "metadata": {
    "id": "jntXsWv3m36a"
   },
   "source": [
    "# jsn_sr04t \n",
    "\n",
    "Perfil del jsn_sr04t Sensor Ultrasónico de Distancia\n",
    "\n",
    "\n",
    "Consumo por abajo de la resolución de power_profiler (DS3231): 0.0004 A"
   ]
  },
  {
   "cell_type": "code",
   "execution_count": 17,
   "metadata": {
    "colab": {
     "base_uri": "https://localhost:8080/",
     "height": 313
    },
    "id": "dIjqXNoqm5NT",
    "outputId": "c8d17c99-c580-4218-dd38-1c9c1a265579"
   },
   "outputs": [],
   "source": [
    "from collections import defaultdict\n",
    "import json\n",
    "import matplotlib.pyplot as plt\n",
    "from matplotlib.colors import ListedColormap\n",
    "import numpy as np\n",
    "import pandas as pd\n",
    "from sklearn.mixture import GaussianMixture"
   ]
  },
  {
   "cell_type": "code",
   "execution_count": 18,
   "metadata": {
    "colab": {
     "base_uri": "https://localhost:8080/",
     "height": 313
    },
    "id": "dIjqXNoqm5NT",
    "outputId": "c8d17c99-c580-4218-dd38-1c9c1a265579"
   },
   "outputs": [],
   "source": [
    "experiment = \"jsn_sr04t\"\n",
    "power_profiler_freq = \"10ms\"\n",
    "board = \"nodemcu\"\n",
    "update_interval = \"1000ms\"\n",
    "test_num = 1 #Test_number\n",
    "\n",
    "batteries = [0.8, 2, 4, 10] #Ah\n",
    "deep_sleep_times = [0, 10, 30, 60, 60*10, 60*15, 60*30, 60*60] #seg"
   ]
  },
  {
   "cell_type": "markdown",
   "metadata": {},
   "source": [
    "## Code"
   ]
  },
  {
   "cell_type": "code",
   "execution_count": 19,
   "metadata": {
    "colab": {
     "base_uri": "https://localhost:8080/",
     "height": 313
    },
    "id": "dIjqXNoqm5NT",
    "outputId": "c8d17c99-c580-4218-dd38-1c9c1a265579"
   },
   "outputs": [],
   "source": [
    "def load_data(filename, show=False):\n",
    "    try:\n",
    "        df = pd.read_csv(filename)\n",
    "        if show:\n",
    "            display(df.head())\n",
    "    except FileNotFoundError:\n",
    "        print(f\"Error: '{fn}' not found.\")\n",
    "    except pd.errors.ParserError:\n",
    "        print(\"Error: Unable to parse the CSV file. Check the file format.\")\n",
    "    except Exception as e:\n",
    "        print(f\"An unexpected error occurred: {e}\")\n",
    "    return df"
   ]
  },
  {
   "cell_type": "code",
   "execution_count": 20,
   "metadata": {
    "colab": {
     "base_uri": "https://localhost:8080/",
     "height": 1000
    },
    "id": "pR2RjuREm-CA",
    "outputId": "c63aae93-895d-442b-f07a-c10d8c78e1c6"
   },
   "outputs": [],
   "source": [
    "def preprocess(df): \n",
    "    '''\n",
    "    Check for missing values\n",
    "    '''\n",
    "    missing_values = df['current'].isnull().sum()\n",
    "    missing_percentage = (missing_values / len(df['current'])) * 100\n",
    "    print(f\"Missing values in 'current' column: {missing_values} ({missing_percentage:.2f}%)\")\n",
    "\n",
    "    # Determine data type and convert if necessary\n",
    "    print(f\"Original data type of 'current' column: {df['current'].dtype}\")\n",
    "    if not pd.api.types.is_numeric_dtype(df['current']):\n",
    "        try:\n",
    "            df['current'] = pd.to_numeric(df['current'], errors='coerce')\n",
    "            print(\"Converted 'current' column to numeric type.\")\n",
    "        except Exception as e:\n",
    "            print(f\"Error converting 'current' column: {e}\")\n",
    "    print(f\"Data type of 'current' column after conversion: {df['current'].dtype}\")\n",
    "\n",
    "    # Calculate descriptive statistics\n",
    "    descriptive_stats = df['current'].describe()\n",
    "    print(\"\\nDescriptive Statistics for 'current' column:\")\n",
    "    print(descriptive_stats)\n",
    "    return df"
   ]
  },
  {
   "cell_type": "markdown",
   "metadata": {
    "id": "cX3LHr7unC9l"
   },
   "source": [
    "**Reasoning**:\n",
    "Clean the 'current' column by removing outliers using the IQR method and impute any remaining missing values with the median.\n",
    "\n",
    "\n",
    "**NOTA: ALGO SE VE RARO EN ESTO, REVISAR EL MÉTODO, PUEDE SER QUE NO ELIMINE NADA **"
   ]
  },
  {
   "cell_type": "code",
   "execution_count": 21,
   "metadata": {
    "colab": {
     "base_uri": "https://localhost:8080/"
    },
    "id": "PnBwVCgLnDNR",
    "outputId": "5c77c1c5-854a-4071-bc36-90ebb29750a6"
   },
   "outputs": [],
   "source": [
    "def clean(df):\n",
    "    quantile_low = 0.25\n",
    "    quantile_high = 0.75\n",
    "    iqr_factor = 1.5\n",
    "\n",
    "    # Calculate Q1, Q3, and IQR\n",
    "    Q1 = df['current'].quantile(quantile_low)\n",
    "    Q3 = df['current'].quantile(quantile_high)\n",
    "    IQR = Q3 - Q1\n",
    "\n",
    "    # Define bounds for outlier removal\n",
    "    lower_bound = Q1 - 1.5 * IQR\n",
    "    upper_bound = Q3 + 1.5 * IQR\n",
    "\n",
    "    print(f\"IQR lower_bound: {lower_bound}, upper_bound: {upper_bound})\")\n",
    "\n",
    "    # Remove outliers\n",
    "    org_len = len(df['current'])\n",
    "    df = df[~((df['current'] < lower_bound) | (df['current'] > upper_bound))]\n",
    "    removed_len = len(df['current'])\n",
    "    print(f\"Length before IQR bounds: {org_len}, after: {removed_len}\")\n",
    "\n",
    "    # Display descriptive statistics after outlier removal\n",
    "    print(\"\\nDescriptive Statistics for 'current' column after outlier removal:\")\n",
    "    print(df['current'].describe())\n",
    "\n",
    "    # Handle any remaining missing values\n",
    "    if df['current'].isnull().any():\n",
    "        median_current = df['current'].median()\n",
    "        df['current'].fillna(median_current, inplace=True)\n",
    "        print(\"\\nDescriptive Statistics for 'current' column after imputation:\")\n",
    "        print(df['current'].describe())\n",
    "    else:\n",
    "        print(\"\\nNo missing values found after outlier removal.\")\n",
    "    return df"
   ]
  },
  {
   "cell_type": "code",
   "execution_count": 22,
   "metadata": {},
   "outputs": [],
   "source": [
    "def gmm_fit(data, plot_results=False):\n",
    "    \"\"\"\n",
    "    Finds a current threshold to separate high and low current usage modes using Gaussian Mixture Models.\n",
    "\n",
    "    Args:\n",
    "        data (pd.Series or np.array): The current usage data.\n",
    "        plot_results (bool, optional): Whether to plot the histogram and GMM fit. Defaults to False.\n",
    "\n",
    "    Returns:\n",
    "        float: The current threshold separating the modes, or None if the fitting fails.\n",
    "        array of means\n",
    "        array of labels\n",
    "    \"\"\"\n",
    "\n",
    "    if isinstance(data, pd.Series):\n",
    "        data = data.values.reshape(-1, 1) #Reshape for sklearn\n",
    "    elif isinstance(data, np.ndarray):\n",
    "        data = data.reshape(-1, 1)\n",
    "    else:\n",
    "        raise TypeError(\"Input data must be a pandas Series or numpy array.\")\n",
    "\n",
    "    try:\n",
    "        gmm = GaussianMixture(n_components=2)\n",
    "        labels = gmm.fit_predict(data)\n",
    "        means = gmm.means_.flatten()\n",
    "        means.sort()  # Ensure means are sorted: low, high\n",
    "\n",
    "        # Calculate the threshold as the midpoint between the means\n",
    "        threshold = (means[0] + means[1]) / 2\n",
    "\n",
    "        if plot_results:\n",
    "            plt.hist(data, bins=50, density=True, alpha=0.6, color='g')\n",
    "            x = np.linspace(data.min(), data.max(), 200).reshape(-1, 1)\n",
    "            logprob = gmm.score_samples(x)\n",
    "            pdf = np.exp(logprob)\n",
    "            plt.plot(x, pdf, '-r')\n",
    "            plt.axvline(threshold, color='b', linestyle='--', label=f'Threshold: {threshold:.4f}')\n",
    "            plt.axvline(means[0], color=\"#888888\", linestyle=\"--\", label=f\"Mean 0: {means[0]:.4f}\")\n",
    "            plt.axvline(means[1], color=\"#888888\", linestyle=\"--\", label=f\"Mean 1: {means[1]:.4f}\")\n",
    "            plt.legend()\n",
    "            plt.xlabel(\"Current\")\n",
    "            plt.ylabel(\"Density\")\n",
    "            plt.title(\"Current Usage Distribution and GMM Fit\")\n",
    "            plt.show()\n",
    "\n",
    "        return threshold, means, labels\n",
    "\n",
    "    except Exception as e:\n",
    "        print(f\"Error during GMM fitting: {e}\")\n",
    "        return None\n",
    "\n",
    "#Example Usage\n",
    "# Create a sample dataset (replace with your actual data)"
   ]
  },
  {
   "cell_type": "code",
   "execution_count": 23,
   "metadata": {},
   "outputs": [],
   "source": [
    "def analyze_cycles(df):\n",
    "    \"\"\"\n",
    "    Analyzes and separates high current usage cycles and deep sleep periods.\n",
    "    \"\"\"\n",
    "    \n",
    "    cycles = []\n",
    "    # Iterate over the DataFrame and check for transitions between high and low current states.\n",
    "    # This is a simplified representation, and the logic may need adjustment based on your specific requirements\n",
    "    current_state = None\n",
    "    start_time = None\n",
    "    for index, row in df.iterrows():\n",
    "        if row['state_label'] == \"high\":\n",
    "            if current_state != \"high\":  # Transition to high current state\n",
    "                if current_state == \"low\":\n",
    "                    cycles.append({\"state\":\"low\", \"start_time\":start_time, \"end_time\": row['read_at']})\n",
    "                current_state = \"high\"\n",
    "                start_time = row['read_at']\n",
    "        else:\n",
    "            if current_state != \"low\":  # Transition to low current state\n",
    "                if current_state == \"high\":\n",
    "                    cycles.append({\"state\":\"high\", \"start_time\":start_time, \"end_time\": row['read_at']})\n",
    "                current_state = \"low\"\n",
    "                start_time = row['read_at']\n",
    "\n",
    "    # Handle the last cycle\n",
    "    if start_time:\n",
    "        cycles.append({\"state\":current_state, \"start_time\":start_time, \"end_time\": df['read_at'].iloc[-1]})\n",
    "\n",
    "    return cycles"
   ]
  },
  {
   "cell_type": "markdown",
   "metadata": {},
   "source": [
    "## Analysis"
   ]
  },
  {
   "cell_type": "code",
   "execution_count": 24,
   "metadata": {
    "scrolled": false
   },
   "outputs": [
    {
     "name": "stdout",
     "output_type": "stream",
     "text": [
      "jsn_sr04t-f10ms--nodemcu_up1000ms-t1\n",
      "../data/jsn_sr04t-f10ms--nodemcu_up1000ms-t1.csv\n"
     ]
    },
    {
     "data": {
      "text/html": [
       "<div>\n",
       "<style scoped>\n",
       "    .dataframe tbody tr th:only-of-type {\n",
       "        vertical-align: middle;\n",
       "    }\n",
       "\n",
       "    .dataframe tbody tr th {\n",
       "        vertical-align: top;\n",
       "    }\n",
       "\n",
       "    .dataframe thead th {\n",
       "        text-align: right;\n",
       "    }\n",
       "</style>\n",
       "<table border=\"1\" class=\"dataframe\">\n",
       "  <thead>\n",
       "    <tr style=\"text-align: right;\">\n",
       "      <th></th>\n",
       "      <th>index</th>\n",
       "      <th>read_at</th>\n",
       "      <th>millis</th>\n",
       "      <th>timestamp</th>\n",
       "      <th>voltage</th>\n",
       "      <th>current</th>\n",
       "      <th>power</th>\n",
       "      <th>bus_voltage</th>\n",
       "    </tr>\n",
       "  </thead>\n",
       "  <tbody>\n",
       "    <tr>\n",
       "      <th>0</th>\n",
       "      <td>0</td>\n",
       "      <td>2025-03-12 16:42:27.677823</td>\n",
       "      <td>195</td>\n",
       "      <td>1970-01-01 00:00:00</td>\n",
       "      <td>3.36</td>\n",
       "      <td>0.0004</td>\n",
       "      <td>0.00134</td>\n",
       "      <td>0.00004</td>\n",
       "    </tr>\n",
       "    <tr>\n",
       "      <th>1</th>\n",
       "      <td>1</td>\n",
       "      <td>2025-03-12 16:42:27.685663</td>\n",
       "      <td>203</td>\n",
       "      <td>1970-01-01 00:00:00</td>\n",
       "      <td>3.36</td>\n",
       "      <td>0.0004</td>\n",
       "      <td>0.00134</td>\n",
       "      <td>0.00004</td>\n",
       "    </tr>\n",
       "    <tr>\n",
       "      <th>2</th>\n",
       "      <td>2</td>\n",
       "      <td>2025-03-12 16:42:27.692755</td>\n",
       "      <td>211</td>\n",
       "      <td>1970-01-01 00:00:00</td>\n",
       "      <td>3.36</td>\n",
       "      <td>0.0004</td>\n",
       "      <td>0.00134</td>\n",
       "      <td>0.00004</td>\n",
       "    </tr>\n",
       "    <tr>\n",
       "      <th>3</th>\n",
       "      <td>3</td>\n",
       "      <td>2025-03-12 16:42:27.702696</td>\n",
       "      <td>221</td>\n",
       "      <td>1970-01-01 00:00:00</td>\n",
       "      <td>3.36</td>\n",
       "      <td>0.0004</td>\n",
       "      <td>0.00134</td>\n",
       "      <td>0.00004</td>\n",
       "    </tr>\n",
       "    <tr>\n",
       "      <th>4</th>\n",
       "      <td>4</td>\n",
       "      <td>2025-03-12 16:42:27.712727</td>\n",
       "      <td>231</td>\n",
       "      <td>1970-01-01 00:00:00</td>\n",
       "      <td>3.36</td>\n",
       "      <td>0.0004</td>\n",
       "      <td>0.00134</td>\n",
       "      <td>0.00004</td>\n",
       "    </tr>\n",
       "  </tbody>\n",
       "</table>\n",
       "</div>"
      ],
      "text/plain": [
       "   index                     read_at  millis            timestamp  voltage  \\\n",
       "0      0  2025-03-12 16:42:27.677823     195  1970-01-01 00:00:00     3.36   \n",
       "1      1  2025-03-12 16:42:27.685663     203  1970-01-01 00:00:00     3.36   \n",
       "2      2  2025-03-12 16:42:27.692755     211  1970-01-01 00:00:00     3.36   \n",
       "3      3  2025-03-12 16:42:27.702696     221  1970-01-01 00:00:00     3.36   \n",
       "4      4  2025-03-12 16:42:27.712727     231  1970-01-01 00:00:00     3.36   \n",
       "\n",
       "   current    power  bus_voltage  \n",
       "0   0.0004  0.00134      0.00004  \n",
       "1   0.0004  0.00134      0.00004  \n",
       "2   0.0004  0.00134      0.00004  \n",
       "3   0.0004  0.00134      0.00004  \n",
       "4   0.0004  0.00134      0.00004  "
      ]
     },
     "metadata": {},
     "output_type": "display_data"
    },
    {
     "name": "stdout",
     "output_type": "stream",
     "text": [
      "Missing values in 'current' column: 0 (0.00%)\n",
      "Original data type of 'current' column: float64\n",
      "Data type of 'current' column after conversion: float64\n",
      "\n",
      "Descriptive Statistics for 'current' column:\n",
      "count    2616.000000\n",
      "mean        0.000538\n",
      "std         0.000845\n",
      "min         0.000400\n",
      "25%         0.000400\n",
      "50%         0.000400\n",
      "75%         0.000400\n",
      "max         0.009600\n",
      "Name: current, dtype: float64\n",
      "IQR lower_bound: 0.0004, upper_bound: 0.0004)\n",
      "Length before IQR bounds: 2616, after: 2403\n",
      "\n",
      "Descriptive Statistics for 'current' column after outlier removal:\n",
      "count    2.403000e+03\n",
      "mean     4.000000e-04\n",
      "std      5.422139e-20\n",
      "min      4.000000e-04\n",
      "25%      4.000000e-04\n",
      "50%      4.000000e-04\n",
      "75%      4.000000e-04\n",
      "max      4.000000e-04\n",
      "Name: current, dtype: float64\n",
      "\n",
      "No missing values found after outlier removal.\n"
     ]
    }
   ],
   "source": [
    "experiment_name = f\"{experiment}-f{power_profiler_freq}--{board}_up{update_interval}-t{test_num}\"\n",
    "filename = f\"../data/{experiment_name}.csv\"\n",
    "print(experiment_name)\n",
    "print(filename)\n",
    "df = load_data(filename, True)\n",
    "df = preprocess(df)\n",
    "df = clean(df)"
   ]
  },
  {
   "cell_type": "code",
   "execution_count": 25,
   "metadata": {},
   "outputs": [
    {
     "name": "stdout",
     "output_type": "stream",
     "text": [
      "Descriptive Statistics for 'current' column:\n",
      "count    2.403000e+03\n",
      "mean     4.000000e-04\n",
      "std      5.422139e-20\n",
      "min      4.000000e-04\n",
      "25%      4.000000e-04\n",
      "50%      4.000000e-04\n",
      "75%      4.000000e-04\n",
      "max      4.000000e-04\n",
      "Name: current, dtype: float64\n"
     ]
    },
    {
     "name": "stderr",
     "output_type": "stream",
     "text": [
      "/Users/eduardofv/miniforge3/envs/py310/lib/python3.10/site-packages/sklearn/mixture/_base.py:119: ConvergenceWarning: Number of distinct clusters (1) found smaller than n_clusters (2). Possibly due to duplicate points in X.\n",
      "  .fit(X)\n"
     ]
    },
    {
     "data": {
      "image/png": "[encoded data removed]",
      "text/plain": [
       "<Figure size 640x480 with 1 Axes>"
      ]
     },
     "metadata": {},
     "output_type": "display_data"
    }
   ],
   "source": [
    "# Convert 'read_at' to datetime objects\n",
    "df['read_at'] = pd.to_datetime(df['read_at'])\n",
    "\n",
    "# Calculate descriptive statistics\n",
    "descriptive_stats = df['current'].describe()\n",
    "print(\"Descriptive Statistics for 'current' column:\")\n",
    "print(descriptive_stats)\n",
    "\n",
    "# Analyze trends using rolling mean\n",
    "df['rolling_mean'] = df['current'].rolling(window=5, center=False).mean()\n",
    "\n",
    "threshold, means, labels = gmm_fit(df.current, plot_results=True)"
   ]
  },
  {
   "cell_type": "code",
   "execution_count": 26,
   "metadata": {
    "colab": {
     "base_uri": "https://localhost:8080/",
     "height": 670
    },
    "id": "bqcRIMcnnHHT",
    "outputId": "575c9a2d-b963-4a29-8335-884d80047a0e"
   },
   "outputs": [
    {
     "data": {
      "image/png": "[encoded data removed]",
      "text/plain": [
       "<Figure size 1500x800 with 1 Axes>"
      ]
     },
     "metadata": {},
     "output_type": "display_data"
    }
   ],
   "source": [
    "# Visualize trends and anomalies\n",
    "plt.figure(figsize=(15, 8))\n",
    "plt.plot(df['read_at'], df['current'], label='Current', color='blue')\n",
    "plt.plot(df['read_at'], df['rolling_mean'], label='Rolling Mean', color='red')\n",
    "\n",
    "plt.xlabel('read_at')\n",
    "plt.ylabel('Current')\n",
    "plt.title('Current Consumption over Time')\n",
    "plt.legend()\n",
    "plt.grid(True)\n",
    "plt.show()"
   ]
  },
  {
   "cell_type": "code",
   "execution_count": 27,
   "metadata": {},
   "outputs": [
    {
     "data": {
      "text/plain": [
       "<matplotlib.legend.Legend at 0x16bbd6bf0>"
      ]
     },
     "execution_count": 27,
     "metadata": {},
     "output_type": "execute_result"
    },
    {
     "data": {
      "image/png": "[encoded data removed]",
      "text/plain": [
       "<Figure size 1500x800 with 1 Axes>"
      ]
     },
     "metadata": {},
     "output_type": "display_data"
    }
   ],
   "source": [
    "plt.figure(figsize=(15, 8))\n",
    "plt.plot(df['read_at'], df['current'], color=\"gray\")\n",
    "plt.scatter(df['read_at'], df['current'], label='Current', c=labels, cmap=ListedColormap([\"blue\", \"red\"]))\n",
    "#plt.axhline(threshold, color='b', linestyle='--', label=f\"threshold={threshold:.4f}\")\n",
    "plt.legend()"
   ]
  },
  {
   "cell_type": "code",
   "execution_count": 28,
   "metadata": {},
   "outputs": [],
   "source": [
    "states = [\"low\", \"high\"]\n",
    "if means[0] > means[1]:\n",
    "    states = [\"high\", \"low\"]\n",
    "df['state_label'] = [states[l] for l in labels]"
   ]
  },
  {
   "cell_type": "code",
   "execution_count": 29,
   "metadata": {
    "colab": {
     "base_uri": "https://localhost:8080/"
    },
    "id": "n-zmX5XCor58",
    "outputId": "ca3f1e10-78cd-4472-df11-542f0b9d0cd2"
   },
   "outputs": [
    {
     "name": "stdout",
     "output_type": "stream",
     "text": [
      "Average current in low: 0.00026031286749624314\n",
      "Average current in high: 0.0003999999999999831\n"
     ]
    }
   ],
   "source": [
    "for index, state in zip([0, 1], states):\n",
    "    print(f\"Average current in {state}: {means[index]}\")"
   ]
  },
  {
   "cell_type": "code",
   "execution_count": 30,
   "metadata": {
    "colab": {
     "base_uri": "https://localhost:8080/"
    },
    "id": "9P1YdH3tpgGk",
    "outputId": "997cd6cb-e67d-4b10-9316-e9b7cfbfe97f"
   },
   "outputs": [
    {
     "name": "stdout",
     "output_type": "stream",
     "text": [
      "State\tStart\tEnd\tDuration\n",
      "Average durations: {}\n"
     ]
    }
   ],
   "source": [
    "\n",
    "cycles = analyze_cycles(df)\n",
    "\n",
    "# Example calculations for each cycle\n",
    "durations = defaultdict(list)\n",
    "#Excluir la primera y ultima fases capturadas porque estan incompletas\n",
    "print(\"State\\tStart\\tEnd\\tDuration\")\n",
    "for cycle in cycles[1:-1]:\n",
    "    duration = cycle['end_time'] - cycle['start_time']\n",
    "    durations[cycle['state']].append(duration.total_seconds())\n",
    "    print(f\"{cycle['state']}\\t{cycle['start_time']}\\t{cycle['end_time']}\\t{duration}\")\n",
    "    # Add other calculations as needed (e.g., average current within the cycle, energy consumption)\n",
    "\n",
    "average_durations = {state: (sum(d) / len(d)) for state, d in durations.items()}\n",
    "print(f\"Average durations: {average_durations}\")"
   ]
  },
  {
   "cell_type": "code",
   "execution_count": 31,
   "metadata": {
    "colab": {
     "base_uri": "https://localhost:8080/"
    },
    "id": "4YQajY0aqWd7",
    "outputId": "a4d2f15b-4ba5-4317-e0ec-484543b5068a"
   },
   "outputs": [],
   "source": [
    "for cycle in cycles[1:-1]:\n",
    "    # Filter the DataFrame to include only data points within the current cycle\n",
    "    cycle_data = df[(df['read_at'] >= cycle['start_time']) & (df['read_at'] <= cycle['end_time'])]\n",
    "\n",
    "    # Calculate the average current for the current cycle\n",
    "    avg_current = cycle_data['current'].mean()\n",
    "\n",
    "    # Print the average current for the current cycle\n",
    "    print(f\"Average Current for Cycle ({cycle['state']}): {avg_current:.4f} A\")\n"
   ]
  },
  {
   "cell_type": "markdown",
   "metadata": {},
   "source": [
    "## Battery predictions\n",
    "\n",
    "### deep sleep as measured by power_profiler"
   ]
  },
  {
   "cell_type": "code",
   "execution_count": 32,
   "metadata": {
    "id": "s0Xns98Yrz2V"
   },
   "outputs": [
    {
     "ename": "KeyError",
     "evalue": "'high'",
     "output_type": "error",
     "traceback": [
      "\u001b[0;31m---------------------------------------------------------------------------\u001b[0m",
      "\u001b[0;31mKeyError\u001b[0m                                  Traceback (most recent call last)",
      "Cell \u001b[0;32mIn[32], line 5\u001b[0m\n\u001b[1;32m      2\u001b[0m avg_low_current \u001b[38;5;241m=\u001b[39m means[states\u001b[38;5;241m.\u001b[39mindex(\u001b[38;5;124m'\u001b[39m\u001b[38;5;124mlow\u001b[39m\u001b[38;5;124m'\u001b[39m)]\n\u001b[1;32m      4\u001b[0m batteries \u001b[38;5;241m=\u001b[39m [\u001b[38;5;241m0.8\u001b[39m, \u001b[38;5;241m2\u001b[39m, \u001b[38;5;241m4\u001b[39m, \u001b[38;5;241m10\u001b[39m] \u001b[38;5;66;03m#Ah\u001b[39;00m\n\u001b[0;32m----> 5\u001b[0m avg_current \u001b[38;5;241m=\u001b[39m avg_high_current \u001b[38;5;241m*\u001b[39m \u001b[43maverage_durations\u001b[49m\u001b[43m[\u001b[49m\u001b[38;5;124;43m'\u001b[39;49m\u001b[38;5;124;43mhigh\u001b[39;49m\u001b[38;5;124;43m'\u001b[39;49m\u001b[43m]\u001b[49m \u001b[38;5;241m+\u001b[39m avg_low_current \u001b[38;5;241m*\u001b[39m average_durations[\u001b[38;5;124m'\u001b[39m\u001b[38;5;124mlow\u001b[39m\u001b[38;5;124m'\u001b[39m]\n\u001b[1;32m      6\u001b[0m avg_current \u001b[38;5;241m/\u001b[39m\u001b[38;5;241m=\u001b[39m average_durations[\u001b[38;5;124m'\u001b[39m\u001b[38;5;124mhigh\u001b[39m\u001b[38;5;124m'\u001b[39m] \u001b[38;5;241m+\u001b[39m average_durations[\u001b[38;5;124m'\u001b[39m\u001b[38;5;124mlow\u001b[39m\u001b[38;5;124m'\u001b[39m]\n\u001b[1;32m      7\u001b[0m \u001b[38;5;28mprint\u001b[39m(\u001b[38;5;124mf\u001b[39m\u001b[38;5;124m\"\u001b[39m\u001b[38;5;124mAverage current: \u001b[39m\u001b[38;5;132;01m{\u001b[39;00mavg_current\u001b[38;5;250m \u001b[39m\u001b[38;5;241m*\u001b[39m\u001b[38;5;250m \u001b[39m\u001b[38;5;241m1000\u001b[39m\u001b[38;5;132;01m:\u001b[39;00m\u001b[38;5;124m.2f\u001b[39m\u001b[38;5;132;01m}\u001b[39;00m\u001b[38;5;124m mA\u001b[39m\u001b[38;5;124m\"\u001b[39m)\n",
      "\u001b[0;31mKeyError\u001b[0m: 'high'"
     ]
    }
   ],
   "source": [
    "avg_high_current = means[states.index('high')]\n",
    "avg_low_current = means[states.index('low')]\n",
    "\n",
    "batteries = [0.8, 2, 4, 10] #Ah\n",
    "avg_current = avg_high_current * average_durations['high'] + avg_low_current * average_durations['low']\n",
    "avg_current /= average_durations['high'] + average_durations['low']\n",
    "print(f\"Average current: {avg_current * 1000:.2f} mA\")\n",
    "\n",
    "for bat_usable_cap in batteries: #Amp hour\n",
    "    runtime = bat_usable_cap / avg_current\n",
    "    print(f\"At {bat_usable_cap:.02f}Ah:\\t{runtime:.01f} hours,\\t{runtime/24:.02f} days\")"
   ]
  },
  {
   "cell_type": "markdown",
   "metadata": {},
   "source": [
    "### deep sleep current measured by multimeter"
   ]
  },
  {
   "cell_type": "code",
   "execution_count": null,
   "metadata": {},
   "outputs": [],
   "source": [
    "boards = json.loads(open(\"../data/boards.json\").read())\n",
    "boards"
   ]
  },
  {
   "cell_type": "code",
   "execution_count": null,
   "metadata": {},
   "outputs": [],
   "source": [
    "deep_sleep_measured_current = boards[board][\"current\"][\"deep_sleep\"]\n",
    "\n",
    "avg_current = avg_high_current * average_durations['high'] + deep_sleep_measured_current * average_durations['low']\n",
    "avg_current /= average_durations['high'] + average_durations['low']\n",
    "print(f\"Average current: {avg_current * 1000:.2f} mA\")\n",
    "\n",
    "for bat_usable_cap in batteries: #Amp hour\n",
    "    runtime = bat_usable_cap / avg_current\n",
    "    print(f\"At {bat_usable_cap:.02f}Ah:\\t{runtime:.01f} hours,\\t{runtime/24:.02f} days\")"
   ]
  },
  {
   "cell_type": "markdown",
   "metadata": {},
   "source": [
    "### predicitions on measured deep sleep"
   ]
  },
  {
   "cell_type": "code",
   "execution_count": null,
   "metadata": {},
   "outputs": [],
   "source": [
    "run_time = average_durations['high']\n",
    "for deep_sleep_time in deep_sleep_times:\n",
    "    avg_current = avg_high_current * run_time + deep_sleep_measured_current * deep_sleep_time\n",
    "    avg_current /= run_time + deep_sleep_time\n",
    "    print(f\"\\n{board} run_time: {run_time:.2f} seg, deep_sleep_time: {deep_sleep_time:.2f} seg\")\n",
    "    print(f\"  average current: {avg_current * 1000:.4f} mA\")\n",
    "\n",
    "    for bat_usable_cap in batteries: #Amp hour\n",
    "        bat_runtime = bat_usable_cap / avg_current\n",
    "        print(f\"  At {bat_usable_cap:.02f}Ah:\\t{bat_runtime:.01f} hours,\\t{bat_runtime/24:.02f} days\")"
   ]
  }
 ],
 "metadata": {
  "colab": {
   "provenance": []
  },
  "kernelspec": {
   "display_name": "py310",
   "language": "python",
   "name": "py310"
  },
  "language_info": {
   "codemirror_mode": {
    "name": "ipython",
    "version": 3
   },
   "file_extension": ".py",
   "mimetype": "text/x-python",
   "name": "python",
   "nbconvert_exporter": "python",
   "pygments_lexer": "ipython3",
   "version": "3.10.6"
  }
 },
 "nbformat": 4,
 "nbformat_minor": 1
}
