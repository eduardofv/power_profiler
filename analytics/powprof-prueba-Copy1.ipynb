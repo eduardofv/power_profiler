{
 "cells": [
  {
   "cell_type": "code",
   "execution_count": 1,
   "id": "a7478314",
   "metadata": {},
   "outputs": [
    {
     "data": {
      "text/html": [
       "<div>\n",
       "<style scoped>\n",
       "    .dataframe tbody tr th:only-of-type {\n",
       "        vertical-align: middle;\n",
       "    }\n",
       "\n",
       "    .dataframe tbody tr th {\n",
       "        vertical-align: top;\n",
       "    }\n",
       "\n",
       "    .dataframe thead th {\n",
       "        text-align: right;\n",
       "    }\n",
       "</style>\n",
       "<table border=\"1\" class=\"dataframe\">\n",
       "  <thead>\n",
       "    <tr style=\"text-align: right;\">\n",
       "      <th></th>\n",
       "      <th>index</th>\n",
       "      <th>read_at</th>\n",
       "      <th>millis</th>\n",
       "      <th>dt</th>\n",
       "      <th>v</th>\n",
       "      <th>a</th>\n",
       "      <th>w</th>\n",
       "      <th>v_sh</th>\n",
       "    </tr>\n",
       "  </thead>\n",
       "  <tbody>\n",
       "    <tr>\n",
       "      <th>0</th>\n",
       "      <td>0</td>\n",
       "      <td>2025-02-07 12:05:45.836230</td>\n",
       "      <td>191</td>\n",
       "      <td>1970-01-01 00:00:00</td>\n",
       "      <td>1.328</td>\n",
       "      <td>0.0004</td>\n",
       "      <td>0.00053</td>\n",
       "      <td>0.00004</td>\n",
       "    </tr>\n",
       "    <tr>\n",
       "      <th>1</th>\n",
       "      <td>1</td>\n",
       "      <td>2025-02-07 12:05:45.895312</td>\n",
       "      <td>250</td>\n",
       "      <td>1970-01-01 00:00:00</td>\n",
       "      <td>1.328</td>\n",
       "      <td>0.0004</td>\n",
       "      <td>0.00053</td>\n",
       "      <td>0.00004</td>\n",
       "    </tr>\n",
       "    <tr>\n",
       "      <th>2</th>\n",
       "      <td>2</td>\n",
       "      <td>2025-02-07 12:05:45.995363</td>\n",
       "      <td>350</td>\n",
       "      <td>1970-01-01 00:00:00</td>\n",
       "      <td>1.328</td>\n",
       "      <td>0.0004</td>\n",
       "      <td>0.00053</td>\n",
       "      <td>0.00004</td>\n",
       "    </tr>\n",
       "    <tr>\n",
       "      <th>3</th>\n",
       "      <td>3</td>\n",
       "      <td>2025-02-07 12:05:46.095381</td>\n",
       "      <td>450</td>\n",
       "      <td>1970-01-01 00:00:00</td>\n",
       "      <td>1.328</td>\n",
       "      <td>0.0004</td>\n",
       "      <td>0.00053</td>\n",
       "      <td>0.00004</td>\n",
       "    </tr>\n",
       "    <tr>\n",
       "      <th>4</th>\n",
       "      <td>4</td>\n",
       "      <td>2025-02-07 12:05:46.195229</td>\n",
       "      <td>550</td>\n",
       "      <td>1970-01-01 00:00:00</td>\n",
       "      <td>1.328</td>\n",
       "      <td>0.0004</td>\n",
       "      <td>0.00053</td>\n",
       "      <td>0.00004</td>\n",
       "    </tr>\n",
       "    <tr>\n",
       "      <th>...</th>\n",
       "      <td>...</td>\n",
       "      <td>...</td>\n",
       "      <td>...</td>\n",
       "      <td>...</td>\n",
       "      <td>...</td>\n",
       "      <td>...</td>\n",
       "      <td>...</td>\n",
       "      <td>...</td>\n",
       "    </tr>\n",
       "    <tr>\n",
       "      <th>5239</th>\n",
       "      <td>5239</td>\n",
       "      <td>2025-02-07 12:14:30.554103</td>\n",
       "      <td>524855</td>\n",
       "      <td>2025-02-07 12:14:30</td>\n",
       "      <td>1.008</td>\n",
       "      <td>0.0000</td>\n",
       "      <td>0.00000</td>\n",
       "      <td>0.00000</td>\n",
       "    </tr>\n",
       "    <tr>\n",
       "      <th>5240</th>\n",
       "      <td>5240</td>\n",
       "      <td>2025-02-07 12:14:30.652260</td>\n",
       "      <td>524953</td>\n",
       "      <td>2025-02-07 12:14:30</td>\n",
       "      <td>1.008</td>\n",
       "      <td>0.0000</td>\n",
       "      <td>0.00000</td>\n",
       "      <td>0.00000</td>\n",
       "    </tr>\n",
       "    <tr>\n",
       "      <th>5241</th>\n",
       "      <td>5241</td>\n",
       "      <td>2025-02-07 12:14:30.770075</td>\n",
       "      <td>525071</td>\n",
       "      <td>2025-02-07 12:14:30</td>\n",
       "      <td>1.008</td>\n",
       "      <td>0.0000</td>\n",
       "      <td>0.00000</td>\n",
       "      <td>0.00000</td>\n",
       "    </tr>\n",
       "    <tr>\n",
       "      <th>5242</th>\n",
       "      <td>5242</td>\n",
       "      <td>2025-02-07 12:14:30.850082</td>\n",
       "      <td>525151</td>\n",
       "      <td>2025-02-07 12:14:30</td>\n",
       "      <td>1.008</td>\n",
       "      <td>0.0000</td>\n",
       "      <td>0.00000</td>\n",
       "      <td>0.00000</td>\n",
       "    </tr>\n",
       "    <tr>\n",
       "      <th>5243</th>\n",
       "      <td>5243</td>\n",
       "      <td>2025-02-07 12:14:30.951046</td>\n",
       "      <td>525252</td>\n",
       "      <td>2025-02-07 12:14:30</td>\n",
       "      <td>1.008</td>\n",
       "      <td>0.0000</td>\n",
       "      <td>0.00000</td>\n",
       "      <td>0.00000</td>\n",
       "    </tr>\n",
       "  </tbody>\n",
       "</table>\n",
       "<p>5244 rows × 8 columns</p>\n",
       "</div>"
      ],
      "text/plain": [
       "      index                    read_at  millis                  dt      v  \\\n",
       "0         0 2025-02-07 12:05:45.836230     191 1970-01-01 00:00:00  1.328   \n",
       "1         1 2025-02-07 12:05:45.895312     250 1970-01-01 00:00:00  1.328   \n",
       "2         2 2025-02-07 12:05:45.995363     350 1970-01-01 00:00:00  1.328   \n",
       "3         3 2025-02-07 12:05:46.095381     450 1970-01-01 00:00:00  1.328   \n",
       "4         4 2025-02-07 12:05:46.195229     550 1970-01-01 00:00:00  1.328   \n",
       "...     ...                        ...     ...                 ...    ...   \n",
       "5239   5239 2025-02-07 12:14:30.554103  524855 2025-02-07 12:14:30  1.008   \n",
       "5240   5240 2025-02-07 12:14:30.652260  524953 2025-02-07 12:14:30  1.008   \n",
       "5241   5241 2025-02-07 12:14:30.770075  525071 2025-02-07 12:14:30  1.008   \n",
       "5242   5242 2025-02-07 12:14:30.850082  525151 2025-02-07 12:14:30  1.008   \n",
       "5243   5243 2025-02-07 12:14:30.951046  525252 2025-02-07 12:14:30  1.008   \n",
       "\n",
       "           a        w     v_sh  \n",
       "0     0.0004  0.00053  0.00004  \n",
       "1     0.0004  0.00053  0.00004  \n",
       "2     0.0004  0.00053  0.00004  \n",
       "3     0.0004  0.00053  0.00004  \n",
       "4     0.0004  0.00053  0.00004  \n",
       "...      ...      ...      ...  \n",
       "5239  0.0000  0.00000  0.00000  \n",
       "5240  0.0000  0.00000  0.00000  \n",
       "5241  0.0000  0.00000  0.00000  \n",
       "5242  0.0000  0.00000  0.00000  \n",
       "5243  0.0000  0.00000  0.00000  \n",
       "\n",
       "[5244 rows x 8 columns]"
      ]
     },
     "execution_count": 1,
     "metadata": {},
     "output_type": "execute_result"
    }
   ],
   "source": [
    "import pandas as pd\n",
    "import matplotlib.pyplot as plt \n",
    "\n",
    "df = pd.read_csv(\"../app/bat_aaa_900mAh_t2-lamp.csv\", parse_dates=[\"read_at\", \"timestamp\"])\n",
    "#df = pd.read_csv(\"../app/nodemcu-10_10-t1.csv\")\n",
    "#df = pd.read_csv(\"../app/led-t1.csv\")\n",
    "\n",
    "df.columns = ['index','read_at', 'millis', \"dt\", \"v\", \"a\", \"w\", \"v_sh\"]\n",
    "df"
   ]
  },
  {
   "cell_type": "code",
   "execution_count": 2,
   "id": "98b6ec92",
   "metadata": {},
   "outputs": [
    {
     "data": {
      "text/html": [
       "<div>\n",
       "<style scoped>\n",
       "    .dataframe tbody tr th:only-of-type {\n",
       "        vertical-align: middle;\n",
       "    }\n",
       "\n",
       "    .dataframe tbody tr th {\n",
       "        vertical-align: top;\n",
       "    }\n",
       "\n",
       "    .dataframe thead th {\n",
       "        text-align: right;\n",
       "    }\n",
       "</style>\n",
       "<table border=\"1\" class=\"dataframe\">\n",
       "  <thead>\n",
       "    <tr style=\"text-align: right;\">\n",
       "      <th></th>\n",
       "      <th>index</th>\n",
       "      <th>read_at</th>\n",
       "      <th>millis</th>\n",
       "      <th>dt</th>\n",
       "      <th>v</th>\n",
       "      <th>a</th>\n",
       "      <th>w</th>\n",
       "      <th>v_sh</th>\n",
       "    </tr>\n",
       "  </thead>\n",
       "  <tbody>\n",
       "    <tr>\n",
       "      <th>0</th>\n",
       "      <td>0</td>\n",
       "      <td>2025-02-07 12:05:45.836230</td>\n",
       "      <td>191</td>\n",
       "      <td>1970-01-01 00:00:00</td>\n",
       "      <td>1.328</td>\n",
       "      <td>0.0004</td>\n",
       "      <td>0.00053</td>\n",
       "      <td>0.00004</td>\n",
       "    </tr>\n",
       "    <tr>\n",
       "      <th>1</th>\n",
       "      <td>1</td>\n",
       "      <td>2025-02-07 12:05:45.895312</td>\n",
       "      <td>250</td>\n",
       "      <td>1970-01-01 00:00:00</td>\n",
       "      <td>1.328</td>\n",
       "      <td>0.0004</td>\n",
       "      <td>0.00053</td>\n",
       "      <td>0.00004</td>\n",
       "    </tr>\n",
       "    <tr>\n",
       "      <th>2</th>\n",
       "      <td>2</td>\n",
       "      <td>2025-02-07 12:05:45.995363</td>\n",
       "      <td>350</td>\n",
       "      <td>1970-01-01 00:00:00</td>\n",
       "      <td>1.328</td>\n",
       "      <td>0.0004</td>\n",
       "      <td>0.00053</td>\n",
       "      <td>0.00004</td>\n",
       "    </tr>\n",
       "    <tr>\n",
       "      <th>3</th>\n",
       "      <td>3</td>\n",
       "      <td>2025-02-07 12:05:46.095381</td>\n",
       "      <td>450</td>\n",
       "      <td>1970-01-01 00:00:00</td>\n",
       "      <td>1.328</td>\n",
       "      <td>0.0004</td>\n",
       "      <td>0.00053</td>\n",
       "      <td>0.00004</td>\n",
       "    </tr>\n",
       "    <tr>\n",
       "      <th>4</th>\n",
       "      <td>4</td>\n",
       "      <td>2025-02-07 12:05:46.195229</td>\n",
       "      <td>550</td>\n",
       "      <td>1970-01-01 00:00:00</td>\n",
       "      <td>1.328</td>\n",
       "      <td>0.0004</td>\n",
       "      <td>0.00053</td>\n",
       "      <td>0.00004</td>\n",
       "    </tr>\n",
       "    <tr>\n",
       "      <th>...</th>\n",
       "      <td>...</td>\n",
       "      <td>...</td>\n",
       "      <td>...</td>\n",
       "      <td>...</td>\n",
       "      <td>...</td>\n",
       "      <td>...</td>\n",
       "      <td>...</td>\n",
       "      <td>...</td>\n",
       "    </tr>\n",
       "    <tr>\n",
       "      <th>5239</th>\n",
       "      <td>5239</td>\n",
       "      <td>2025-02-07 12:14:30.554103</td>\n",
       "      <td>524855</td>\n",
       "      <td>2025-02-07 12:14:30</td>\n",
       "      <td>1.008</td>\n",
       "      <td>0.0000</td>\n",
       "      <td>0.00000</td>\n",
       "      <td>0.00000</td>\n",
       "    </tr>\n",
       "    <tr>\n",
       "      <th>5240</th>\n",
       "      <td>5240</td>\n",
       "      <td>2025-02-07 12:14:30.652260</td>\n",
       "      <td>524953</td>\n",
       "      <td>2025-02-07 12:14:30</td>\n",
       "      <td>1.008</td>\n",
       "      <td>0.0000</td>\n",
       "      <td>0.00000</td>\n",
       "      <td>0.00000</td>\n",
       "    </tr>\n",
       "    <tr>\n",
       "      <th>5241</th>\n",
       "      <td>5241</td>\n",
       "      <td>2025-02-07 12:14:30.770075</td>\n",
       "      <td>525071</td>\n",
       "      <td>2025-02-07 12:14:30</td>\n",
       "      <td>1.008</td>\n",
       "      <td>0.0000</td>\n",
       "      <td>0.00000</td>\n",
       "      <td>0.00000</td>\n",
       "    </tr>\n",
       "    <tr>\n",
       "      <th>5242</th>\n",
       "      <td>5242</td>\n",
       "      <td>2025-02-07 12:14:30.850082</td>\n",
       "      <td>525151</td>\n",
       "      <td>2025-02-07 12:14:30</td>\n",
       "      <td>1.008</td>\n",
       "      <td>0.0000</td>\n",
       "      <td>0.00000</td>\n",
       "      <td>0.00000</td>\n",
       "    </tr>\n",
       "    <tr>\n",
       "      <th>5243</th>\n",
       "      <td>5243</td>\n",
       "      <td>2025-02-07 12:14:30.951046</td>\n",
       "      <td>525252</td>\n",
       "      <td>2025-02-07 12:14:30</td>\n",
       "      <td>1.008</td>\n",
       "      <td>0.0000</td>\n",
       "      <td>0.00000</td>\n",
       "      <td>0.00000</td>\n",
       "    </tr>\n",
       "  </tbody>\n",
       "</table>\n",
       "<p>5244 rows × 8 columns</p>\n",
       "</div>"
      ],
      "text/plain": [
       "      index                    read_at  millis                  dt      v  \\\n",
       "0         0 2025-02-07 12:05:45.836230     191 1970-01-01 00:00:00  1.328   \n",
       "1         1 2025-02-07 12:05:45.895312     250 1970-01-01 00:00:00  1.328   \n",
       "2         2 2025-02-07 12:05:45.995363     350 1970-01-01 00:00:00  1.328   \n",
       "3         3 2025-02-07 12:05:46.095381     450 1970-01-01 00:00:00  1.328   \n",
       "4         4 2025-02-07 12:05:46.195229     550 1970-01-01 00:00:00  1.328   \n",
       "...     ...                        ...     ...                 ...    ...   \n",
       "5239   5239 2025-02-07 12:14:30.554103  524855 2025-02-07 12:14:30  1.008   \n",
       "5240   5240 2025-02-07 12:14:30.652260  524953 2025-02-07 12:14:30  1.008   \n",
       "5241   5241 2025-02-07 12:14:30.770075  525071 2025-02-07 12:14:30  1.008   \n",
       "5242   5242 2025-02-07 12:14:30.850082  525151 2025-02-07 12:14:30  1.008   \n",
       "5243   5243 2025-02-07 12:14:30.951046  525252 2025-02-07 12:14:30  1.008   \n",
       "\n",
       "           a        w     v_sh  \n",
       "0     0.0004  0.00053  0.00004  \n",
       "1     0.0004  0.00053  0.00004  \n",
       "2     0.0004  0.00053  0.00004  \n",
       "3     0.0004  0.00053  0.00004  \n",
       "4     0.0004  0.00053  0.00004  \n",
       "...      ...      ...      ...  \n",
       "5239  0.0000  0.00000  0.00000  \n",
       "5240  0.0000  0.00000  0.00000  \n",
       "5241  0.0000  0.00000  0.00000  \n",
       "5242  0.0000  0.00000  0.00000  \n",
       "5243  0.0000  0.00000  0.00000  \n",
       "\n",
       "[5244 rows x 8 columns]"
      ]
     },
     "execution_count": 2,
     "metadata": {},
     "output_type": "execute_result"
    }
   ],
   "source": [
    "#remove the trailing data before reset\n",
    "d = df#[df.millis.idxmin():]\n",
    "d"
   ]
  },
  {
   "cell_type": "code",
   "execution_count": 3,
   "id": "2517c444",
   "metadata": {},
   "outputs": [
    {
     "data": {
      "text/plain": [
       "Text(0.5, 1.0, 'Current')"
      ]
     },
     "execution_count": 3,
     "metadata": {},
     "output_type": "execute_result"
    },
    {
     "data": {
      "image/png": "[encoded data removed]",
      "text/plain": [
       "<Figure size 640x480 with 1 Axes>"
      ]
     },
     "metadata": {},
     "output_type": "display_data"
    }
   ],
   "source": [
    "plt.plot(d.read_at, d.a)\n",
    "plt.title(\"Current\")"
   ]
  },
  {
   "cell_type": "code",
   "execution_count": 4,
   "id": "1c889899",
   "metadata": {},
   "outputs": [
    {
     "data": {
      "text/plain": [
       "Text(0.5, 1.0, 'Voltage')"
      ]
     },
     "execution_count": 4,
     "metadata": {},
     "output_type": "execute_result"
    },
    {
     "data": {
      "image/png": "[encoded data removed]",
      "text/plain": [
       "<Figure size 640x480 with 1 Axes>"
      ]
     },
     "metadata": {},
     "output_type": "display_data"
    }
   ],
   "source": [
    "plt.plot(d.read_at, d.v)\n",
    "plt.title(\"Voltage\")"
   ]
  },
  {
   "cell_type": "code",
   "execution_count": 5,
   "id": "6c3eec1e",
   "metadata": {},
   "outputs": [
    {
     "data": {
      "text/plain": [
       "115.4587360392"
      ]
     },
     "execution_count": 5,
     "metadata": {},
     "output_type": "execute_result"
    }
   ],
   "source": [
    "from scipy import integrate\n",
    "\n",
    "time_data = (d.read_at - d.read_at.iloc[0]).dt.total_seconds()\n",
    "current_data = d.a.to_numpy()\n",
    "total_current = integrate.trapz(current_data, time_data)\n",
    "total_current"
   ]
  },
  {
   "cell_type": "code",
   "execution_count": 6,
   "id": "336bdbc4",
   "metadata": {},
   "outputs": [
    {
     "data": {
      "text/plain": [
       "525.114816"
      ]
     },
     "execution_count": 6,
     "metadata": {},
     "output_type": "execute_result"
    }
   ],
   "source": [
    "time_span = max(time_data)\n",
    "time_span"
   ]
  },
  {
   "cell_type": "code",
   "execution_count": 7,
   "id": "e4cc029d",
   "metadata": {},
   "outputs": [
    {
     "data": {
      "text/plain": [
       "0.21987331631336032"
      ]
     },
     "execution_count": 7,
     "metadata": {},
     "output_type": "execute_result"
    }
   ],
   "source": [
    "avg_current = total_current / time_span\n",
    "avg_current"
   ]
  },
  {
   "cell_type": "code",
   "execution_count": 8,
   "id": "6d075128",
   "metadata": {},
   "outputs": [
    {
     "data": {
      "text/plain": [
       "3.6384587880588994"
      ]
     },
     "execution_count": 8,
     "metadata": {},
     "output_type": "execute_result"
    }
   ],
   "source": [
    "bat_usable_cap = 0.8 #Amp hour\n",
    "runtime = bat_usable_cap / avg_current\n",
    "runtime #hours"
   ]
  },
  {
   "cell_type": "markdown",
   "id": "0b18696d",
   "metadata": {},
   "source": [
    "# etc"
   ]
  },
  {
   "cell_type": "code",
   "execution_count": 9,
   "id": "e10dfc63",
   "metadata": {},
   "outputs": [
    {
     "name": "stdout",
     "output_type": "stream",
     "text": [
      "0.20888888888888887 A\n",
      "0.19635555555555553 W\n",
      "3.829787234042554 hours\n"
     ]
    }
   ],
   "source": [
    "#v = i * r\n",
    "#i = v / r\n",
    "v_bat = 0.94 #volts\n",
    "c_bat = .8 #Ah\n",
    "r = 4.5 #ohms\n",
    "\n",
    "i  = v_bat / r\n",
    "print(f\"{i} A\")\n",
    "p = v_bat * i\n",
    "print(f\"{p} W\")\n",
    "\n",
    "run = c_bat / i\n",
    "print(f\"{run} hours\")"
   ]
  },
  {
   "cell_type": "code",
   "execution_count": 10,
   "id": "cce3663d",
   "metadata": {},
   "outputs": [
    {
     "data": {
      "text/plain": [
       "4.2727272727272725"
      ]
     },
     "execution_count": 10,
     "metadata": {},
     "output_type": "execute_result"
    }
   ],
   "source": [
    "1/((1/47)+(1/4.7))"
   ]
  }
 ],
 "metadata": {
  "kernelspec": {
   "display_name": "py310",
   "language": "python",
   "name": "py310"
  },
  "language_info": {
   "codemirror_mode": {
    "name": "ipython",
    "version": 3
   },
   "file_extension": ".py",
   "mimetype": "text/x-python",
   "name": "python",
   "nbconvert_exporter": "python",
   "pygments_lexer": "ipython3",
   "version": "3.10.6"
  }
 },
 "nbformat": 4,
 "nbformat_minor": 5
}
